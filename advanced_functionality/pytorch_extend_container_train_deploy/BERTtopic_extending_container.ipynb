{
 "cells": [
  {
   "cell_type": "markdown",
   "metadata": {},
   "source": [
    "# Fine-tuning and deploying a BERTopic model on SageMaker with your own scripts and dataset, by extending existing PyTorch containers\n",
    "\n",
    "### INFO: this notebook follows and extends the structure of the [Extending our PyTorch containers example](https://github.com/aws/amazon-sagemaker-examples/blob/main/advanced_functionality/pytorch_extending_our_containers/pytorch_extending_our_containers.ipynb)\n",
    "\n",
    "With Amazon SageMaker, you can package your own algorithms that can then be trained and deployed in the SageMaker environment. This notebook guides you through an example on how to extend one of our existing and predefined SageMaker deep learning framework containers.\n",
    "\n",
    "By packaging an algorithm in a container, you can bring almost any code to the Amazon SageMaker environment, regardless of programming language, environment, framework, or dependencies. \n",
    "\n",
    "1. [Extending our PyTorch containers](#Extending-our-pytorch-containers)\n",
    "  1. [When should I extend a SageMaker container?](#When-should-I-extend-a-SageMaker-container?)\n",
    "  1. [Permissions](#Permissions)\n",
    "  1. [The example](#The-example)\n",
    "  1. [The presentation](#The-presentation)\n",
    "1. [Part 1: Docker containers and their use in Amazon SageMaker](#Part-1:-Docker-containers-and-their-use-in-Amazon-SageMaker)\n",
    "    1. [An overview of Docker](#An-overview-of-Docker)\n",
    "    1. [How Amazon SageMaker runs your Docker container](#How-Amazon-SageMaker-runs-your-Docker-container)\n",
    "      1. [Running your container during training](#Running-your-container-during-training)\n",
    "        1. [The input](#The-input)\n",
    "        1. [The output](#The-output)\n",
    "      1. [Running your container during hosting](#Running-your-container-during-hosting)\n",
    "    1. [The parts of the sample container](#The-parts-of-the-sample-container)\n",
    "    1. [The Dockerfile](#The-Dockerfile)\n",
    "    1. [Building and registering the container](#Building-and-registering-the-container)\n",
    "  1. [Testing your algorithm on your local machine](#Testing-your-algorithm-on-your-local-machine)\n",
    "  1. [Download the 20newsgroups dataset](#Download-the-20newsgroups-dataset)\n",
    "  1. [SageMaker Python SDK Local Training](#SageMaker-Python-SDK-Local-Training)\n",
    "  1. [Fit, Deploy, Predict](#Fit,-Deploy,-Predict)\n",
    "  1. [Making predictions using Python SDK](#Making-predictions-using-Python-SDK)\n",
    "1. [Part 2: Training and Hosting your Algorithm in Amazon SageMaker](#Part-2:-Training-and-Hosting-your-Algorithm-in-Amazon-SageMaker)\n",
    "  1. [Set up the environment](#Set-up-the-environment)\n",
    "  1. [Create the session](#Create-the-session)\n",
    "  1. [Upload the data for training](#Upload-the-data-for-training)\n",
    "  1. [Training On SageMaker](#Training-on-SageMaker)\n",
    "  1. [Optional cleanup](#Optional-cleanup)  \n",
    "1. [Reference](#Reference)\n",
    "\n",
    "_or_ I'm impatient, just [let me see the code](#The-Dockerfile)!\n",
    "\n",
    "# Extending our pytorch containers\n",
    "\n",
    "## When should I extend a SageMaker container?\n",
    "\n",
    "You may not need to create a container to bring your own code to Amazon SageMaker. When you are using a framework such as [TensorFlow](https://github.com/aws/sagemaker-tensorflow-container), [MXNet](https://github.com/aws/sagemaker-mxnet-container), [PyTorch](https://github.com/aws/sagemaker-pytorch-container) or [Chainer](https://github.com/aws/sagemaker-chainer-container) that has direct support in SageMaker, you can simply supply the Python code that implements your algorithm using the SDK entry points for that framework.\n",
    "\n",
    "Even if there is direct SDK support for your environment or framework, you may want to add additional functionality or configure your container environment differently while utilizing our container to use on SageMaker.\n",
    "\n",
    "**Some of the reasons to extend a SageMaker deep learning framework container are:**\n",
    "1. Install additional dependencies. (E.g. I want to install a specific Python library, that the current SageMaker containers don't install.)\n",
    "2. Configure your environment. (E.g. I want to add an environment variable to my container.)\n",
    "\n",
    "**Although it is possible to extend any of our framework containers as a parent image, the example this notebook covers is currently only intended to work with our PyTorch container.**\n",
    "\n",
    "This walkthrough shows that it is quite straightforward to extend one of our containers to build your own custom container for PyTorch.\n",
    "\n",
    "## Permissions\n",
    "\n",
    "Running this notebook requires permissions in addition to the normal `SageMakerFullAccess` permissions. This is because it creates new repositories in Amazon ECR. The easiest way to add these permissions is simply to add the managed policy `AmazonEC2ContainerRegistryFullAccess` to the role that you used to start your notebook instance. There's no need to restart your notebook instance when you do this, the new permissions will be available immediately.\n",
    "\n",
    "## The example\n",
    "\n",
    "In this example we show how to package a PyTorch container, extending the SageMaker PyTorch container, with a Python example which works with the BERTopic model and the 20newsgroups dataset. BERTopic comes now as standalone library and requires GPU support, so the most effective way to use it is to extend the SageMaker PyTorch container, ot utilize the existing training and hosting solution made to work on SageMaker. By comparison, if one were to build their own custom framework container from scratch, they would need to implement a training and hosting solution in order to use SageMaker. Here is an example showing [how to create a SageMaker TensorFlow container from scratch](https://github.com/awslabs/amazon-sagemaker-examples/blob/master/advanced_functionality/tensorflow_bring_your_own/tensorflow_bring_your_own.ipynb).\n",
    "\n",
    "In this example, we need to use separate base images to support training and hosting, as they are provided separately for [Pytorch](https://github.com/aws/deep-learning-containers/blob/master/available_images.md#sagemaker-framework-containers-sm-support-only). Sometimes you may want to use the same image for training and hosting because they have the same requirements. This simplifies the procedure because we only need to manage one image for both tasks. In that case, merge the parts discussed below into the same Dockerfiles and build one image. Choosing whether to use a single image or two images is a matter of what is most convenient for you to develop and manage.\n",
    "\n",
    "If you're only using Amazon SageMaker for training or hosting, but not both, only the functionality used needs to be built into your container.\n",
    "Finally, when using different containers, make sure that the libraries and their versions match, otherwise this could create problems. In fact, some libraries versions are different in the Pytorch training and inference containers.\n",
    "\n",
    "## The notebook structure\n",
    "\n",
    "This notebook is divided into three parts: \n",
    "1. Docker containers and their use in Amazon SageMaker\n",
    "2. _building_ and _using_ the training container \n",
    "3. _building_ and _using_ the inference container "
   ]
  },
  {
   "cell_type": "markdown",
   "metadata": {},
   "source": [
    "# Part 1: Docker containers and their use in Amazon SageMaker\n",
    "\n",
    "### An overview of Docker\n",
    "\n",
    "If you're familiar with Docker already, you can skip ahead to the next section.\n",
    "\n",
    "For many data scientists, Docker containers are a new technology. But they are not difficult and can significantly simplify the deployment of your software packages. \n",
    "\n",
    "Docker provides a simple way to package arbitrary code into an _image_ that is totally self-contained. Once you have an image, you can use Docker to run a _container_ based on that image. Running a container is just like running a program on the machine except that the container creates a fully self-contained environment for the program to run. Containers are isolated from each other and from the host environment, so the way your program is set up is the way it runs, no matter where you run it.\n",
    "\n",
    "Docker is more powerful than environment managers like conda or virtualenv because (a) it is completely language independent and (b) it comprises your whole operating environment, including startup commands, and environment variable.\n",
    "\n",
    "A Docker container is like a virtual machine, but it is much lighter weight. For example, a program running in a container can start in less than a second and many containers can run simultaneously on the same physical or virtual machine instance.\n",
    "\n",
    "Docker uses a simple file called a `Dockerfile` to specify how the image is assembled. An example is provided below. You can build your Docker images based on Docker images built by yourself or by others, which can simplify things quite a bit.\n",
    "\n",
    "Docker has become very popular in programming and devops communities due to its flexibility and its well-defined specification of how code can be run in its containers. It is the underpinning of many services built in the past few years, such as [Amazon ECS].\n",
    "\n",
    "Amazon SageMaker uses Docker to allow users to train and deploy arbitrary algorithms.\n",
    "\n",
    "In Amazon SageMaker, Docker containers are invoked in a one way for training and another, slightly different, way for hosting. The following sections outline how to build containers for the SageMaker environment.\n",
    "\n",
    "Some helpful links:\n",
    "\n",
    "* [Docker home page](http://www.docker.com)\n",
    "* [Getting started with Docker](https://docs.docker.com/get-started/)\n",
    "* [Dockerfile reference](https://docs.docker.com/engine/reference/builder/)\n",
    "* [`docker run` reference](https://docs.docker.com/engine/reference/run/)\n",
    "\n",
    "[Amazon ECS]: https://aws.amazon.com/ecs/\n",
    "\n",
    "### How Amazon SageMaker runs your Docker container\n",
    "\n",
    "* Typically you specify a program (e.g. script) as an `ENTRYPOINT` in the Dockerfile, that program will be run at startup and decide what to do. The original `ENTRYPOINT` specified within the SageMaker PyTorch is [here](https://github.com/aws/deep-learning-containers/blob/master/pytorch/training/docker/1.5.1/py3/Dockerfile.cpu#L142).\n",
    "\n",
    "#### Running your container during training\n",
    "\n",
    "Currently, our SageMaker PyTorch container utilizes [console_scripts](http://python-packaging.readthedocs.io/en/latest/command-line-scripts.html#the-console-scripts-entry-point) to make use of the `train` command issued at training time. The line that gets invoked during `train` is defined within the setup.py file inside [SageMaker Containers](https://github.com/aws/sagemaker-containers/blob/master/setup.py#L48), our common SageMaker deep learning container framework. When this command is run, it will invoke the [trainer class](https://github.com/aws/sagemaker-containers/blob/master/src/sagemaker_containers/cli/train.py) to run, which will finally invoke our [PyTorch container code](https://github.com/aws/sagemaker-pytorch-container/blob/master/src/sagemaker_pytorch_container/training.py) to run your Python file.\n",
    "\n",
    "A number of files are laid out for your use, under the `/opt/ml` directory:\n",
    "\n",
    "    /opt/ml\n",
    "    |-- input\n",
    "    |   |-- config\n",
    "    |   |   |-- hyperparameters.json\n",
    "    |   |   `-- resourceConfig.json\n",
    "    |   `-- data\n",
    "    |       `-- <channel_name>\n",
    "    |           `-- <input data>\n",
    "    |-- model\n",
    "    |   `-- <model files>\n",
    "    `-- output\n",
    "        `-- failure\n",
    "\n",
    "##### The input\n",
    "\n",
    "* `/opt/ml/input/config` contains information to control how your program runs. `hyperparameters.json` is a JSON-formatted dictionary of hyperparameter names to values. These values are always strings, so you may need to convert them. `resourceConfig.json` is a JSON-formatted file that describes the network layout used for distributed training.\n",
    "* `/opt/ml/input/data/<channel_name>/` (for File mode) contains the input data for that channel. The channels are created based on the call to CreateTrainingJob but it's generally important that channels match algorithm expectations. The files for each channel are copied from S3 to this directory, preserving the tree structure indicated by the S3 key structure. \n",
    "* `/opt/ml/input/data/<channel_name>_<epoch_number>` (for Pipe mode) is the pipe for a given epoch. Epochs start at zero and go up by one each time you read them. There is no limit to the number of epochs that you can run, but you must close each pipe before reading the next epoch.\n",
    "\n",
    "##### The output\n",
    "\n",
    "* `/opt/ml/model/` is the directory where you write the model that your algorithm generates. Your model can be in any format that you want. It can be a single file or a whole directory tree. SageMaker packages any files in this directory into a compressed tar archive file. This file is made available at the S3 location returned in the `DescribeTrainingJob` result.\n",
    "* `/opt/ml/output` is a directory where the algorithm can write a file `failure` that describes why the job failed. The contents of this file are returned in the `FailureReason` field of the `DescribeTrainingJob` result. For jobs that succeed, there is no reason to write this file as it is ignored.\n",
    "\n",
    "#### Running your container during hosting\n",
    "\n",
    "Hosting has a very different model than training because hosting is reponding to inference requests that come in via HTTP. Currently, the SageMaker PyTorch containers [uses](https://github.com/aws/sagemaker-pytorch-container/blob/master/src/sagemaker_pytorch_container/serving.py#L103) our [recommended Python serving stack](https://github.com/aws/sagemaker-containers/blob/master/src/sagemaker_containers/_server.py#L44) to provide robust and scalable serving of inference requests:\n",
    "\n",
    "![Request serving stack](stack.png)\n",
    "\n",
    "Amazon SageMaker uses two URLs in the container:\n",
    "\n",
    "* `/ping` receives `GET` requests from the infrastructure. Your program returns 200 if the container is up and accepting requests.\n",
    "* `/invocations` is the endpoint that receives client inference `POST` requests. The format of the request and the response is up to the algorithm. If the client supplied `ContentType` and `Accept` headers, these are passed in as well. \n",
    "\n",
    "The container has the model files in the same place that they were written to during training:\n",
    "\n",
    "    /opt/ml\n",
    "    `-- model\n",
    "        `-- <model files>\n",
    "\n"
   ]
  },
  {
   "cell_type": "markdown",
   "metadata": {},
   "source": [
    "## Custom files available to build the container used in this example\n",
    "\n",
    "The `container` directory has all the components you need to extend the SageMaker PyTorch container to use as an sample algorithm:\n",
    "\n",
    "    .\n",
    "    |-- Dockerfile\n",
    "    |-- Dockerfile-inference\n",
    "    `-- bert-topic\n",
    "        `-- bert-topic.py\n",
    "        `-- bert-topic-inference.py\n",
    "\n",
    "Let's discuss each of these in turn:\n",
    "\n",
    "* __`Dockerfile`__ describes how to build your Docker container image for *training*. More details are provided below.\n",
    "* __`Dockerfile-inference`__ describes how to build your Docker container image for *inference*. More details are provided below.\n",
    "* __`build_and_push.sh`__ is a script that uses the Dockerfile to build your container images and then pushes it to ECR. We invoke the commands directly later in this notebook, but you can just copy and run the script for your own algorithms.\n",
    "* __`bert-topic`__ is the directory which contains our user code to be invoked.\n",
    "\n",
    "In this application, we install and/or update a few libraries, and copy one script in the container, which will be used as `ENTRYPOINT`. You may only need that many, but if you have many supporting routines, you may wish to install more and use more files.\n",
    "\n",
    "The files that we put in the container are:\n",
    "\n",
    "* __`bert-topic.py`__ is the program that implements our training algorithm (used only for training container)\n",
    "* __`bert-topic-inference.py`__ is the program that handles loading our model for inferences (used only for inference container)"
   ]
  },
  {
   "cell_type": "markdown",
   "metadata": {},
   "source": [
    "## Part 2: Packaging and Uploading your Algorithm for training\n",
    "### The Dockerfile\n",
    "\n",
    "The Dockerfile describes the image that we want to build. You can think of it as describing the complete operating system installation of the system that you want to run. A Docker container running is quite a bit lighter than a full operating system, however, because it takes advantage of Linux on the host machine for the basic operations. \n",
    "\n",
    "We start from the SageMaker PyTorch image as the base. The base image is an ECR image, so it will have the following pattern.\n",
    "* {account}.dkr.ecr.{region}.amazonaws.com/sagemaker-{framework}:{framework_version}-{processor_type}-{python_version}\n",
    "\n",
    "Here is an explanation of each field.\n",
    "1. account - AWS account ID the ECR image belongs to. Our public deep learning framework images are all under the 763104351884 account.\n",
    "2. region - The region the ECR image belongs to. [Available regions](https://aws.amazon.com/about-aws/global-infrastructure/regional-product-services/).\n",
    "3. framework - The deep learning framework.\n",
    "4. framework_version - The version of the deep learning framework.\n",
    "5. processor_type - CPU or GPU.\n",
    "6. python_version - The supported version of Python.\n",
    "\n",
    "So the SageMaker PyTorch ECR image would be:\n",
    "* 763104351884.dkr.ecr.us-east-1.amazonaws.com/pytorch-training:1.12.1-gpu-py38-cu113-ubuntu20.04-sagemaker\n",
    "\n",
    "Information on supported frameworks and versions can be found in this [README](https://github.com/aws/sagemaker-python-sdk).\n",
    "\n",
    "Next, we install the required additional libraries like BERTopic and add the code that implements our specific algorithm to the container, and set up the right environment for it to run under.\n",
    "\n",
    "Finally, we need to specify two environment variables.\n",
    "1. SAGEMAKER_SUBMIT_DIRECTORY - the directory within the container containing our Python script for training and inference.\n",
    "2. SAGEMAKER_PROGRAM - the Python script that should be invoked for training and inference.\n",
    "\n",
    "Let's look at the Dockerfile for this example."
   ]
  },
  {
   "cell_type": "code",
   "execution_count": 12,
   "metadata": {},
   "outputs": [
    {
     "name": "stdout",
     "output_type": "stream",
     "text": [
      "# Copyright 2017-2018 Amazon.com, Inc. or its affiliates. All Rights Reserved.\n",
      "#\n",
      "# Licensed under the Apache License, Version 2.0 (the \"License\"). You\n",
      "# may not use this file except in compliance with the License. A copy of\n",
      "# the License is located at\n",
      "#\n",
      "#     http://aws.amazon.com/apache2.0/\n",
      "#\n",
      "# or in the \"license\" file accompanying this file. This file is\n",
      "# distributed on an \"AS IS\" BASIS, WITHOUT WARRANTIES OR CONDITIONS OF\n",
      "# ANY KIND, either express or implied. See the License for the specific\n",
      "# language governing permissions and limitations under the License.\n",
      "\n",
      "# For more information on creating a Dockerfile\n",
      "# https://docs.docker.com/compose/gettingstarted/#step-2-create-a-dockerfile\n",
      "# https://github.com/awslabs/amazon-sagemaker-examples/master/advanced_functionality/pytorch_extending_our_containers/pytorch_extending_our_containers.ipynb\n",
      "\n",
      "ARG REGION=us-east-1\n",
      "\n",
      "# SageMaker PyTorch image for TRAINING\n",
      "FROM 763104351884.dkr.ecr.$REGION.amazonaws.com/pytorch-training:1.12.1-gpu-py38-cu113-ubuntu20.04-sagemaker\n",
      "\n",
      "ENV PATH=\"/opt/ml/code:${PATH}\"\n",
      "\n",
      "# /opt/ml and all subdirectories are utilized by SageMaker, we use the /code subdirectory to store our user code.\n",
      "COPY /bert-topic /opt/ml/code\n",
      "\n",
      "# this environment variable is used by the SageMaker PyTorch container to determine our user code directory.\n",
      "ENV SAGEMAKER_SUBMIT_DIRECTORY /opt/ml/code\n",
      "\n",
      "# this environment variable is used by the SageMaker PyTorch container to determine our program entry point\n",
      "# for training and serving.\n",
      "# For more information: https://github.com/aws/sagemaker-pytorch-container\n",
      "ENV SAGEMAKER_PROGRAM bert-topic.py\n",
      "\n",
      "RUN pip install --no-cache-dir --upgrade pip && \\\n",
      "    pip install --no-cache-dir bertopic==0.12.0\n",
      "\n",
      "RUN pip freeze\n"
     ]
    }
   ],
   "source": [
    "!cat container/Dockerfile"
   ]
  },
  {
   "cell_type": "markdown",
   "metadata": {},
   "source": [
    "### Writing the training script (bert-topic.py)\n",
    "\n",
    "To fine-tune a BERTopic model with a custom dataset on Amazon SageMaker, we will write a training script to be used by the Amazon SageMaker Training Job (or locally).\n",
    "\n",
    "The training script will need to do the following steps:\n",
    "- Load a pretrained Model\n",
    "- Load the dataset\n",
    "- Define the Training Arguments\n",
    "- Define a Trainer\n",
    "- Train the model and save the checkpoint on the validation set\n",
    "\n",
    "These steps will be done in a `_train()` function.\n",
    "\n",
    "The script also uses some hyperparameters, which can be extended depending on what is needed for each model. Here we used `language` to choose the training language."
   ]
  },
  {
   "cell_type": "code",
   "execution_count": 13,
   "metadata": {},
   "outputs": [
    {
     "name": "stdout",
     "output_type": "stream",
     "text": [
      "\u001b[37m# Copyright 2017-2018 Amazon.com, Inc. or its affiliates. All Rights Reserved.\u001b[39;49;00m\u001b[37m\u001b[39;49;00m\n",
      "\u001b[37m#\u001b[39;49;00m\u001b[37m\u001b[39;49;00m\n",
      "\u001b[37m# Licensed under the Apache License, Version 2.0 (the \"License\"). You\u001b[39;49;00m\u001b[37m\u001b[39;49;00m\n",
      "\u001b[37m# may not use this file except in compliance with the License. A copy of\u001b[39;49;00m\u001b[37m\u001b[39;49;00m\n",
      "\u001b[37m# the License is located at\u001b[39;49;00m\u001b[37m\u001b[39;49;00m\n",
      "\u001b[37m#\u001b[39;49;00m\u001b[37m\u001b[39;49;00m\n",
      "\u001b[37m#     http://aws.amazon.com/apache2.0/\u001b[39;49;00m\u001b[37m\u001b[39;49;00m\n",
      "\u001b[37m#\u001b[39;49;00m\u001b[37m\u001b[39;49;00m\n",
      "\u001b[37m# or in the \"license\" file accompanying this file. This file is\u001b[39;49;00m\u001b[37m\u001b[39;49;00m\n",
      "\u001b[37m# distributed on an \"AS IS\" BASIS, WITHOUT WARRANTIES OR CONDITIONS OF\u001b[39;49;00m\u001b[37m\u001b[39;49;00m\n",
      "\u001b[37m# ANY KIND, either express or implied. See the License for the specific\u001b[39;49;00m\u001b[37m\u001b[39;49;00m\n",
      "\u001b[37m# language governing permissions and limitations under the License.\u001b[39;49;00m\u001b[37m\u001b[39;49;00m\n",
      "\u001b[34mimport\u001b[39;49;00m \u001b[04m\u001b[36margparse\u001b[39;49;00m\u001b[37m\u001b[39;49;00m\n",
      "\u001b[34mimport\u001b[39;49;00m \u001b[04m\u001b[36mast\u001b[39;49;00m\u001b[37m\u001b[39;49;00m\n",
      "\u001b[34mimport\u001b[39;49;00m \u001b[04m\u001b[36mlogging\u001b[39;49;00m\u001b[37m\u001b[39;49;00m\n",
      "\u001b[34mimport\u001b[39;49;00m \u001b[04m\u001b[36mos\u001b[39;49;00m\u001b[37m\u001b[39;49;00m\n",
      "\u001b[34mimport\u001b[39;49;00m \u001b[04m\u001b[36mtorch\u001b[39;49;00m\u001b[37m\u001b[39;49;00m\n",
      "\u001b[34mimport\u001b[39;49;00m \u001b[04m\u001b[36mjson\u001b[39;49;00m\u001b[37m\u001b[39;49;00m\n",
      "\u001b[34mfrom\u001b[39;49;00m \u001b[04m\u001b[36mbertopic\u001b[39;49;00m \u001b[34mimport\u001b[39;49;00m BERTopic\u001b[37m\u001b[39;49;00m\n",
      "\u001b[37m\u001b[39;49;00m\n",
      "JSON_CONTENT_TYPE = \u001b[33m'\u001b[39;49;00m\u001b[33mapplication/json\u001b[39;49;00m\u001b[33m'\u001b[39;49;00m\u001b[37m\u001b[39;49;00m\n",
      "\u001b[37m\u001b[39;49;00m\n",
      "logger = logging.getLogger(\u001b[31m__name__\u001b[39;49;00m)\u001b[37m\u001b[39;49;00m\n",
      "logger.setLevel(logging.DEBUG)\u001b[37m\u001b[39;49;00m\n",
      "\u001b[37m\u001b[39;49;00m\n",
      "\u001b[37m\u001b[39;49;00m\n",
      "\u001b[34mdef\u001b[39;49;00m \u001b[32m_train\u001b[39;49;00m(args):\u001b[37m\u001b[39;49;00m\n",
      "    \u001b[37m\u001b[39;49;00m\n",
      "    logger.debug(\u001b[33m\"\u001b[39;49;00m\u001b[33mBERTtopic training starting\u001b[39;49;00m\u001b[33m\"\u001b[39;49;00m)\u001b[37m\u001b[39;49;00m\n",
      "\u001b[37m\u001b[39;49;00m\n",
      "    device = \u001b[33m\"\u001b[39;49;00m\u001b[33mcuda\u001b[39;49;00m\u001b[33m\"\u001b[39;49;00m \u001b[34mif\u001b[39;49;00m torch.cuda.is_available() \u001b[34melse\u001b[39;49;00m \u001b[33m\"\u001b[39;49;00m\u001b[33mcpu\u001b[39;49;00m\u001b[33m\"\u001b[39;49;00m\u001b[37m\u001b[39;49;00m\n",
      "    logger.info(\u001b[33m\"\u001b[39;49;00m\u001b[33mDevice Type: \u001b[39;49;00m\u001b[33m{}\u001b[39;49;00m\u001b[33m\"\u001b[39;49;00m.format(device))\u001b[37m\u001b[39;49;00m\n",
      "\u001b[37m\u001b[39;49;00m\n",
      "    model = BERTopic(language=args.language)\u001b[37m\u001b[39;49;00m\n",
      "\u001b[37m\u001b[39;49;00m\n",
      "    logger.info(\u001b[33m\"\u001b[39;49;00m\u001b[33mBERTtopic Model loaded for language \u001b[39;49;00m\u001b[33m{}\u001b[39;49;00m\u001b[33m\"\u001b[39;49;00m.format(args.language))\u001b[37m\u001b[39;49;00m\n",
      "    \u001b[37m\u001b[39;49;00m\n",
      "    \u001b[36mprint\u001b[39;49;00m(\u001b[33m\"\u001b[39;49;00m\u001b[33mLoading Training data\u001b[39;49;00m\u001b[33m\"\u001b[39;49;00m)\u001b[37m\u001b[39;49;00m\n",
      "    docs = []\u001b[37m\u001b[39;49;00m\n",
      "    \u001b[36mprint\u001b[39;49;00m(\u001b[33mf\u001b[39;49;00m\u001b[33m\"\u001b[39;49;00m\u001b[33mdata_dir: \u001b[39;49;00m\u001b[33m{\u001b[39;49;00margs.data_dir\u001b[33m}\u001b[39;49;00m\u001b[33m\"\u001b[39;49;00m)\u001b[37m\u001b[39;49;00m\n",
      "    \u001b[34mwith\u001b[39;49;00m \u001b[36mopen\u001b[39;49;00m(args.data_dir+\u001b[33m\"\u001b[39;49;00m\u001b[33m/training_file.txt\u001b[39;49;00m\u001b[33m\"\u001b[39;49;00m) \u001b[34mas\u001b[39;49;00m file:\u001b[37m\u001b[39;49;00m\n",
      "        \u001b[34mfor\u001b[39;49;00m line \u001b[35min\u001b[39;49;00m file:\u001b[37m\u001b[39;49;00m\n",
      "            docs.append(line.rstrip())\u001b[37m\u001b[39;49;00m\n",
      "    \u001b[37m\u001b[39;49;00m\n",
      "    \u001b[36mprint\u001b[39;49;00m(\u001b[33m\"\u001b[39;49;00m\u001b[33mStarted Training\u001b[39;49;00m\u001b[33m\"\u001b[39;49;00m)\u001b[37m\u001b[39;49;00m\n",
      "    topics, probs = model.fit_transform(docs)\u001b[37m\u001b[39;49;00m\n",
      "    \u001b[36mprint\u001b[39;49;00m(\u001b[33m\"\u001b[39;49;00m\u001b[33mFinished Training\u001b[39;49;00m\u001b[33m\"\u001b[39;49;00m)\u001b[37m\u001b[39;49;00m\n",
      "    \u001b[34mreturn\u001b[39;49;00m _save_model(model, args.model_dir)\u001b[37m\u001b[39;49;00m\n",
      "\u001b[37m\u001b[39;49;00m\n",
      "\u001b[37m\u001b[39;49;00m\n",
      "\u001b[34mdef\u001b[39;49;00m \u001b[32m_save_model\u001b[39;49;00m(model, model_dir):\u001b[37m\u001b[39;49;00m\n",
      "    logger.info(\u001b[33m\"\u001b[39;49;00m\u001b[33mSaving the model.\u001b[39;49;00m\u001b[33m\"\u001b[39;49;00m)\u001b[37m\u001b[39;49;00m\n",
      "    path = os.path.join(model_dir, \u001b[33m\"\u001b[39;49;00m\u001b[33mmy_model\u001b[39;49;00m\u001b[33m\"\u001b[39;49;00m)\u001b[37m\u001b[39;49;00m\n",
      "    model.save(path)\u001b[37m\u001b[39;49;00m\n",
      "\u001b[37m\u001b[39;49;00m\n",
      "\u001b[34mif\u001b[39;49;00m \u001b[31m__name__\u001b[39;49;00m == \u001b[33m\"\u001b[39;49;00m\u001b[33m__main__\u001b[39;49;00m\u001b[33m\"\u001b[39;49;00m:\u001b[37m\u001b[39;49;00m\n",
      "    parser = argparse.ArgumentParser()\u001b[37m\u001b[39;49;00m\n",
      "    \u001b[37m\u001b[39;49;00m\n",
      "    \u001b[37m# custom parameter for BERTopic\u001b[39;49;00m\u001b[37m\u001b[39;49;00m\n",
      "    parser.add_argument(\u001b[37m\u001b[39;49;00m\n",
      "        \u001b[33m\"\u001b[39;49;00m\u001b[33m--language\u001b[39;49;00m\u001b[33m\"\u001b[39;49;00m, \u001b[36mtype\u001b[39;49;00m=\u001b[36mstr\u001b[39;49;00m, default=\u001b[33m\"\u001b[39;49;00m\u001b[33menglish\u001b[39;49;00m\u001b[33m\"\u001b[39;49;00m, help=\u001b[33m\"\u001b[39;49;00m\u001b[33mmain language for the input documents. If you want a multilingual model that supports 50+ languages, select \u001b[39;49;00m\u001b[33m\\\"\u001b[39;49;00m\u001b[33mmultilingual\u001b[39;49;00m\u001b[33m\\\"\u001b[39;49;00m\u001b[33m.\u001b[39;49;00m\u001b[33m\"\u001b[39;49;00m\u001b[37m\u001b[39;49;00m\n",
      "    )\u001b[37m\u001b[39;49;00m\n",
      "\u001b[37m\u001b[39;49;00m\n",
      "    \u001b[37m# The parameters below retrieve their default values from SageMaker environment variables, which are\u001b[39;49;00m\u001b[37m\u001b[39;49;00m\n",
      "    \u001b[37m# instantiated by the SageMaker containers framework.\u001b[39;49;00m\u001b[37m\u001b[39;49;00m\n",
      "    \u001b[37m# https://github.com/aws/sagemaker-containers#how-a-script-is-executed-inside-the-container\u001b[39;49;00m\u001b[37m\u001b[39;49;00m\n",
      "    parser.add_argument(\u001b[33m\"\u001b[39;49;00m\u001b[33m--hosts\u001b[39;49;00m\u001b[33m\"\u001b[39;49;00m, \u001b[36mtype\u001b[39;49;00m=\u001b[36mstr\u001b[39;49;00m, default=ast.literal_eval(os.environ[\u001b[33m\"\u001b[39;49;00m\u001b[33mSM_HOSTS\u001b[39;49;00m\u001b[33m\"\u001b[39;49;00m]))\u001b[37m\u001b[39;49;00m\n",
      "    parser.add_argument(\u001b[33m\"\u001b[39;49;00m\u001b[33m--current-host\u001b[39;49;00m\u001b[33m\"\u001b[39;49;00m, \u001b[36mtype\u001b[39;49;00m=\u001b[36mstr\u001b[39;49;00m, default=os.environ[\u001b[33m\"\u001b[39;49;00m\u001b[33mSM_CURRENT_HOST\u001b[39;49;00m\u001b[33m\"\u001b[39;49;00m])\u001b[37m\u001b[39;49;00m\n",
      "    parser.add_argument(\u001b[33m\"\u001b[39;49;00m\u001b[33m--model-dir\u001b[39;49;00m\u001b[33m\"\u001b[39;49;00m, \u001b[36mtype\u001b[39;49;00m=\u001b[36mstr\u001b[39;49;00m, default=os.environ[\u001b[33m\"\u001b[39;49;00m\u001b[33mSM_MODEL_DIR\u001b[39;49;00m\u001b[33m\"\u001b[39;49;00m])\u001b[37m\u001b[39;49;00m\n",
      "    parser.add_argument(\u001b[33m\"\u001b[39;49;00m\u001b[33m--data-dir\u001b[39;49;00m\u001b[33m\"\u001b[39;49;00m, \u001b[36mtype\u001b[39;49;00m=\u001b[36mstr\u001b[39;49;00m, default=os.environ[\u001b[33m\"\u001b[39;49;00m\u001b[33mSM_CHANNEL_TRAINING\u001b[39;49;00m\u001b[33m\"\u001b[39;49;00m])\u001b[37m\u001b[39;49;00m\n",
      "    parser.add_argument(\u001b[33m\"\u001b[39;49;00m\u001b[33m--num-gpus\u001b[39;49;00m\u001b[33m\"\u001b[39;49;00m, \u001b[36mtype\u001b[39;49;00m=\u001b[36mint\u001b[39;49;00m, default=os.environ[\u001b[33m\"\u001b[39;49;00m\u001b[33mSM_NUM_GPUS\u001b[39;49;00m\u001b[33m\"\u001b[39;49;00m])\u001b[37m\u001b[39;49;00m\n",
      "\u001b[37m\u001b[39;49;00m\n",
      "    _train(parser.parse_args())\u001b[37m\u001b[39;49;00m\n"
     ]
    }
   ],
   "source": [
    "!pygmentize container/bert-topic/bert-topic.py"
   ]
  },
  {
   "cell_type": "markdown",
   "metadata": {},
   "source": [
    "### Building and registering the training container\n",
    "\n",
    "The following shell code shows how to build the container image using `docker build` and push the container image to ECR using `docker push`. \n",
    "\n",
    "This code looks for an ECR repository in the account you're using and the current default region (if you're using a SageMaker notebook instance, this is the region where the notebook instance was created). If the repository doesn't exist, the script will create it. In addition, since we are using the SageMaker PyTorch image as the base, we will need to retrieve ECR credentials to pull this public image.\n",
    "\n",
    "Note that your notebook role needs to have the permission to push images to the ECR registry."
   ]
  },
  {
   "cell_type": "code",
   "execution_count": 14,
   "metadata": {},
   "outputs": [],
   "source": [
    "# The name of our algorithm -- i.e. the name of the produced training container\n",
    "training_algorithm_name = \"bert-topic-training-example\""
   ]
  },
  {
   "cell_type": "code",
   "execution_count": 15,
   "metadata": {},
   "outputs": [
    {
     "name": "stdout",
     "output_type": "stream",
     "text": [
      "ECR image fullname: 600743882593.dkr.ecr.us-east-1.amazonaws.com/bert-topic-training-example:latest\n",
      "WARNING! Your password will be stored unencrypted in /home/ec2-user/.docker/config.json.\n",
      "Configure a credential helper to remove this warning. See\n",
      "https://docs.docker.com/engine/reference/commandline/login/#credentials-store\n",
      "\n",
      "Login Succeeded\n",
      "WARNING! Your password will be stored unencrypted in /home/ec2-user/.docker/config.json.\n",
      "Configure a credential helper to remove this warning. See\n",
      "https://docs.docker.com/engine/reference/commandline/login/#credentials-store\n",
      "\n",
      "Login Succeeded\n",
      "Sending build context to Docker daemon  28.67kB\n",
      "Step 1/8 : ARG REGION=us-east-1\n",
      "Step 2/8 : FROM 763104351884.dkr.ecr.$REGION.amazonaws.com/pytorch-training:1.12.1-gpu-py38-cu113-ubuntu20.04-sagemaker\n",
      " ---> d0d970e24a16\n",
      "Step 3/8 : ENV PATH=\"/opt/ml/code:${PATH}\"\n",
      " ---> Using cache\n",
      " ---> 85c0f8a933bc\n",
      "Step 4/8 : COPY /bert-topic /opt/ml/code\n",
      " ---> Using cache\n",
      " ---> b50007176c88\n",
      "Step 5/8 : ENV SAGEMAKER_SUBMIT_DIRECTORY /opt/ml/code\n",
      " ---> Using cache\n",
      " ---> 7a90277fca35\n",
      "Step 6/8 : ENV SAGEMAKER_PROGRAM bert-topic.py\n",
      " ---> Using cache\n",
      " ---> b7f14932f09c\n",
      "Step 7/8 : RUN pip install --no-cache-dir --upgrade pip &&     pip install --no-cache-dir bertopic==0.12.0\n",
      " ---> Using cache\n",
      " ---> 8d31db912163\n",
      "Step 8/8 : RUN pip freeze\n",
      " ---> Using cache\n",
      " ---> aee96667faf5\n",
      "Successfully built aee96667faf5\n",
      "Successfully tagged bert-topic-training-example:latest\n",
      "The push refers to repository [600743882593.dkr.ecr.us-east-1.amazonaws.com/bert-topic-training-example]\n",
      "\n",
      "\u001b[1B54648b6a: Preparing \n",
      "\u001b[1B0b57138f: Preparing \n",
      "\u001b[1B51fa3808: Preparing \n",
      "\u001b[1B778ab783: Preparing \n",
      "\u001b[1Bec2ac7a4: Preparing \n",
      "\u001b[1B46c29660: Preparing \n",
      "\u001b[1Be8c88681: Preparing \n",
      "\u001b[1B0efa3f91: Preparing \n",
      "\u001b[1B611eb510: Preparing \n",
      "\u001b[1Bd179b4aa: Preparing \n",
      "\u001b[1B6e0d3622: Preparing \n",
      "\u001b[1B9dac29ae: Preparing \n",
      "\u001b[1B226fb91e: Preparing \n",
      "\u001b[1B17ddcc4d: Preparing \n",
      "\u001b[7B611eb510: Waiting g \n",
      "\u001b[1Be85d6c9c: Preparing \n",
      "\u001b[8Bd179b4aa: Waiting g \n",
      "\u001b[1Bd9453333: Preparing \n",
      "\u001b[9B6e0d3622: Waiting g \n",
      "\u001b[1B161851a5: Preparing \n",
      "\u001b[16B6c29660: Waiting g \n",
      "\u001b[16B8c88681: Waiting g \n",
      "\u001b[1B2edbd8f0: Preparing \n",
      "\u001b[1Bacba5f2d: Preparing \n",
      "\u001b[1B17dd80e5: Preparing \n",
      "\u001b[19Befa3f91: Waiting g \n",
      "\u001b[1B62cf7fdd: Preparing \n",
      "\u001b[1B86c2d0df: Preparing \n",
      "\u001b[1B6cf81722: Preparing \n",
      "\u001b[1Be04be2d7: Preparing \n",
      "\u001b[1B583a95b6: Preparing \n",
      "\u001b[1B74b4b462: Preparing \n",
      "\u001b[1B52f3977f: Preparing \n",
      "\u001b[1Be1e84fb5: Preparing \n",
      "\u001b[1B7f5124b0: Preparing \n",
      "\u001b[1B868b25cb: Preparing \n",
      "\u001b[1Ba6800406: Preparing \n",
      "\u001b[1Bc4902ee1: Preparing \n",
      "\u001b[1B070f7c56: Preparing \n",
      "\u001b[1Bbf5188df: Preparing \n",
      "\u001b[1B629d1707: Preparing \n",
      "\u001b[1B16f6459b: Preparing \n",
      "\u001b[1B9fbfb76b: Preparing \n",
      "\u001b[1Bce4c0976: Preparing \n",
      "\u001b[1B7375cb04: Preparing \n",
      "\u001b[1B672e1e8b: Preparing \n",
      "\u001b[1B9e761223: Preparing \n",
      "\u001b[1Bc93bdb37: Layer already exists \u001b[48A\u001b[2K\u001b[38A\u001b[2K\u001b[33A\u001b[2K\u001b[29A\u001b[2K\u001b[24A\u001b[2K\u001b[19A\u001b[2K\u001b[16A\u001b[2K\u001b[11A\u001b[2K\u001b[9A\u001b[2K\u001b[3A\u001b[2Klatest: digest: sha256:daa534c68a098ef14479715086f08f50435a80613be1f3693d000d1d5d909927 size: 10408\n"
     ]
    }
   ],
   "source": [
    "# building and pushing the container\n",
    "! cd container && sh build_and_push.sh {training_algorithm_name}"
   ]
  },
  {
   "cell_type": "code",
   "execution_count": 16,
   "metadata": {},
   "outputs": [],
   "source": [
    "# An alternative and simplified command which outsources the docker build process to codebuild.\n",
    "# This is especially useful when using Sagemaker studio notebooks where docker is not running.\n",
    "# Details in https://aws.amazon.com/blogs/machine-learning/using-the-amazon-sagemaker-studio-image-build-cli-to-build-container-images-from-your-studio-notebooks/\n",
    "#!cd container && sm-docker build {training_algorithm_name}"
   ]
  },
  {
   "cell_type": "markdown",
   "metadata": {},
   "source": [
    "## Testing your algorithm locally\n",
    "\n",
    "When you're packaging your first algorithm to use with Amazon SageMaker, you probably want to test it yourself to make sure it's working correctly. We use the [SageMaker Python SDK](https://github.com/aws/sagemaker-python-sdk) to test both locally and on SageMaker. For more examples with the SageMaker Python SDK, see [Amazon SageMaker Examples](https://github.com/awslabs/amazon-sagemaker-examples/tree/master/sagemaker-python-sdk). In order to test our algorithm, we need our dataset."
   ]
  },
  {
   "cell_type": "markdown",
   "metadata": {},
   "source": [
    "## Download the 20newsgroups training dataset\n",
    "We will be utilizing the 20newsgroups dataset loader provided within PyTorch to download and load our data for training."
   ]
  },
  {
   "cell_type": "code",
   "execution_count": 17,
   "metadata": {},
   "outputs": [
    {
     "name": "stdout",
     "output_type": "stream",
     "text": [
      "Working Dir: /home/ec2-user/SageMaker/for_deployment/amazon-sagemaker-examples/advanced_functionality/pytorch_extend_container_train_deploy\n",
      "Training File: /home/ec2-user/SageMaker/for_deployment/amazon-sagemaker-examples/advanced_functionality/pytorch_extend_container_train_deploy/training_file.txt\n"
     ]
    }
   ],
   "source": [
    "import os\n",
    "\n",
    "training_file_name = \"training_file.txt\"\n",
    "working_dir = os.getcwd()\n",
    "training_file_path = os.path.join(working_dir, training_file_name)\n",
    "\n",
    "print(f\"Working Dir: {working_dir}\")\n",
    "print(f\"Training File: {training_file_path}\")"
   ]
  },
  {
   "cell_type": "code",
   "execution_count": 18,
   "metadata": {},
   "outputs": [
    {
     "data": {
      "text/plain": [
       "100"
      ]
     },
     "execution_count": 18,
     "metadata": {},
     "output_type": "execute_result"
    }
   ],
   "source": [
    "from sklearn.datasets import fetch_20newsgroups\n",
    "\n",
    "docs = fetch_20newsgroups(subset=\"all\", remove=(\"headers\", \"footers\", \"quotes\"))[\"data\"]\n",
    "\n",
    "# only use 100 documents out of 18846 for faster iteration\n",
    "docs = docs[:100]\n",
    "len(docs)"
   ]
  },
  {
   "cell_type": "code",
   "execution_count": 19,
   "metadata": {},
   "outputs": [
    {
     "name": "stdout",
     "output_type": "stream",
     "text": [
      "The first document contains the following text:\n",
      " \n",
      "\n",
      "I am sure some bashers of Pens fans are pretty confused about the lack\n",
      "of any kind of posts about the recent Pens massacre of the Devils. Actually,\n",
      "I am  bit puzzled too and a bit relieved. However, I am going to put an end\n",
      "to non-PIttsburghers' relief with a bit of praise for the Pens. Man, they\n",
      "are killing those Devils worse than I thought. Jagr just showed you why\n",
      "he is much better than his regular season stats. He is also a lot\n",
      "fo fun to watch in the playoffs. Bowman should let JAgr have a lot of\n",
      "fun in the next couple of games since the Pens are going to beat the pulp out of Jersey anyway. I was very disappointed not to see the Islanders lose the final\n",
      "regular season game.          PENS RULE!!!\n",
      "\n",
      "\n"
     ]
    }
   ],
   "source": [
    "print(\"The first document contains the following text:\\n\",docs[0])"
   ]
  },
  {
   "cell_type": "code",
   "execution_count": 20,
   "metadata": {},
   "outputs": [],
   "source": [
    "# write the list to a file to be easily passed to the training job\n",
    "\n",
    "with open(training_file_path, \"w\") as f:\n",
    "    for line in docs:\n",
    "        f.write(\n",
    "            line.replace(\"\\n\", \"\\\\n\") + \"\\n\"\n",
    "        )  # preserve newlines symbols (\\n) and write one document per line"
   ]
  },
  {
   "cell_type": "markdown",
   "metadata": {},
   "source": [
    "## SageMaker Python SDK Local Training\n",
    "To represent our training, we use the Estimator class, which needs to be configured in five steps. \n",
    "1. IAM role - our AWS execution role\n",
    "2. train_instance_count - number of instances to use for training.\n",
    "3. train_instance_type - type of instance to use for training. For training locally, we specify `local` or `local_gpu`.\n",
    "4. image_name - our custom PyTorch Docker image we created.\n",
    "5. hyperparameters - hyperparameters we want to pass.\n",
    "\n",
    "Let's start with setting up our IAM role. We make use of a helper function within the Python SDK. This function throw an exception if run outside of a SageMaker notebook instance, as it gets metadata from the notebook instance. If running outside, you must provide an IAM role with proper access stated above in [Permissions](#Permissions)."
   ]
  },
  {
   "cell_type": "code",
   "execution_count": 21,
   "metadata": {},
   "outputs": [],
   "source": [
    "from sagemaker import get_execution_role\n",
    "\n",
    "role = get_execution_role()"
   ]
  },
  {
   "cell_type": "markdown",
   "metadata": {},
   "source": [
    "### Check the local SageMaker setup"
   ]
  },
  {
   "cell_type": "code",
   "execution_count": 22,
   "metadata": {},
   "outputs": [
    {
     "name": "stdout",
     "output_type": "stream",
     "text": [
      "The user has root access.\n",
      "nvidia-docker2 already installed. We are good to go!\n",
      "SageMaker instance route table setup is ok. We are good to go.\n",
      "SageMaker instance routing for Docker is ok. We are good to go!\n"
     ]
    }
   ],
   "source": [
    "# Lets set up our SageMaker notebook instance for local mode.\n",
    "!/bin/bash ./utils/setup.sh"
   ]
  },
  {
   "cell_type": "code",
   "execution_count": 23,
   "metadata": {},
   "outputs": [
    {
     "name": "stdout",
     "output_type": "stream",
     "text": [
      "Thu Mar  2 10:45:17 2023       \n",
      "+-----------------------------------------------------------------------------+\n",
      "| NVIDIA-SMI 515.65.01    Driver Version: 515.65.01    CUDA Version: 11.7     |\n",
      "|-------------------------------+----------------------+----------------------+\n",
      "| GPU  Name        Persistence-M| Bus-Id        Disp.A | Volatile Uncorr. ECC |\n",
      "| Fan  Temp  Perf  Pwr:Usage/Cap|         Memory-Usage | GPU-Util  Compute M. |\n",
      "|                               |                      |               MIG M. |\n",
      "|===============================+======================+======================|\n",
      "|   0  Tesla T4            On   | 00000000:00:1E.0 Off |                    0 |\n",
      "| N/A   31C    P8    13W /  70W |      2MiB / 15360MiB |      0%      Default |\n",
      "|                               |                      |                  N/A |\n",
      "+-------------------------------+----------------------+----------------------+\n",
      "                                                                               \n",
      "+-----------------------------------------------------------------------------+\n",
      "| Processes:                                                                  |\n",
      "|  GPU   GI   CI        PID   Type   Process name                  GPU Memory |\n",
      "|        ID   ID                                                   Usage      |\n",
      "|=============================================================================|\n",
      "|  No running processes found                                                 |\n",
      "+-----------------------------------------------------------------------------+\n",
      "Instance type = local_gpu\n"
     ]
    }
   ],
   "source": [
    "# CHECK if GPUs are available and set the corresponding \"instance_type\"\n",
    "import os\n",
    "import subprocess\n",
    "\n",
    "instance_type_local = \"local\"\n",
    "\n",
    "if subprocess.call(\"nvidia-smi\") == 0:\n",
    "    ## Set type to GPU if one is present\n",
    "    instance_type_local = \"local_gpu\"\n",
    "\n",
    "print(\"Instance type = \" + instance_type_local)"
   ]
  },
  {
   "cell_type": "markdown",
   "metadata": {},
   "source": [
    "## Fit (+ Deploy, Predict)\n",
    "\n",
    "Now that the rest of our estimator is configured, we can call `fit()` with the path to our local 20newsgroups dataset prefixed with `file://`. This invokes our PyTorch container with 'train' and passes in our hyperparameters and other metadata as json files in /opt/ml/input/config within the container to our program entry point defined in the Dockerfile.\n",
    "\n",
    "After our training has succeeded, our training algorithm outputs our trained model within the /opt/ml/model directory, which is used to handle predictions.\n",
    "\n",
    "If the container used for the training is also used for the inference (NOT IN THIS CASE!) we can then conveniently call `deploy()` with an instance_count and instance_type, which is 1 and `local`. This invokes our PyTorch container with 'serve', which setups our container to handle prediction requests as defined [here](https://github.com/aws/sagemaker-pytorch-container/blob/master/src/sagemaker_pytorch_container/serving.py#L103). What is returned is a predictor, which is used to make inferences against our trained model.\n",
    "\n",
    "After our prediction, we can delete our endpoint.\n",
    "\n",
    "We recommend always testing and training your training algorithm locally first, as it provides quicker iterations and better debuggability."
   ]
  },
  {
   "cell_type": "markdown",
   "metadata": {},
   "source": [
    "### Local training: Fit"
   ]
  },
  {
   "cell_type": "code",
   "execution_count": 24,
   "metadata": {},
   "outputs": [
    {
     "name": "stderr",
     "output_type": "stream",
     "text": [
      "train_instance_count has been renamed in sagemaker>=2.\n",
      "See: https://sagemaker.readthedocs.io/en/stable/v2.html for details.\n",
      "train_instance_type has been renamed in sagemaker>=2.\n",
      "See: https://sagemaker.readthedocs.io/en/stable/v2.html for details.\n"
     ]
    },
    {
     "name": "stdout",
     "output_type": "stream",
     "text": [
      "file:///home/ec2-user/SageMaker/for_deployment/amazon-sagemaker-examples/advanced_functionality/pytorch_extend_container_train_deploy/training_file.txt\n"
     ]
    },
    {
     "name": "stderr",
     "output_type": "stream",
     "text": [
      "INFO:sagemaker:Creating training-job with name: bert-topic-training-example-2023-03-02-10-45-19-428\n",
      "INFO:sagemaker.local.local_session:Starting training job\n",
      "INFO:botocore.credentials:Found credentials from IAM Role: BaseNotebookInstanceEc2InstanceRole\n",
      "INFO:sagemaker.local.image:No AWS credentials found in session but credentials from EC2 Metadata Service are available.\n",
      "INFO:sagemaker.local.image:docker compose file: \n",
      "networks:\n",
      "  sagemaker-local:\n",
      "    name: sagemaker-local\n",
      "services:\n",
      "  algo-1-gciqu:\n",
      "    command: train\n",
      "    container_name: 4mpo1cakoh-algo-1-gciqu\n",
      "    deploy:\n",
      "      resources:\n",
      "        reservations:\n",
      "          devices:\n",
      "          - capabilities:\n",
      "            - gpu\n",
      "    environment:\n",
      "    - '[Masked]'\n",
      "    - '[Masked]'\n",
      "    image: bert-topic-training-example:latest\n",
      "    networks:\n",
      "      sagemaker-local:\n",
      "        aliases:\n",
      "        - algo-1-gciqu\n",
      "    stdin_open: true\n",
      "    tty: true\n",
      "    volumes:\n",
      "    - /tmp/tmpgagv6ca0/algo-1-gciqu/input:/opt/ml/input\n",
      "    - /tmp/tmpgagv6ca0/algo-1-gciqu/output/data:/opt/ml/output/data\n",
      "    - /tmp/tmpgagv6ca0/algo-1-gciqu/output:/opt/ml/output\n",
      "    - /tmp/tmpgagv6ca0/model:/opt/ml/model\n",
      "    - /opt/ml/metadata:/opt/ml/metadata\n",
      "    - /home/ec2-user/SageMaker/for_deployment/amazon-sagemaker-examples/advanced_functionality/pytorch_extend_container_train_deploy:/opt/ml/input/data/training\n",
      "version: '2.3'\n",
      "\n",
      "INFO:sagemaker.local.image:docker command: docker-compose -f /tmp/tmpgagv6ca0/docker-compose.yaml up --build --abort-on-container-exit\n"
     ]
    },
    {
     "name": "stdout",
     "output_type": "stream",
     "text": [
      "Creating 4mpo1cakoh-algo-1-gciqu ... \n",
      "Creating 4mpo1cakoh-algo-1-gciqu ... done\n",
      "Attaching to 4mpo1cakoh-algo-1-gciqu\n",
      "\u001b[36m4mpo1cakoh-algo-1-gciqu |\u001b[0m 2023-03-02 10:45:21,362 sagemaker-training-toolkit INFO     Imported framework sagemaker_pytorch_container.training\n",
      "\u001b[36m4mpo1cakoh-algo-1-gciqu |\u001b[0m 2023-03-02 10:45:21,384 sagemaker-training-toolkit INFO     No Neurons detected (normal if no neurons installed)\n",
      "\u001b[36m4mpo1cakoh-algo-1-gciqu |\u001b[0m 2023-03-02 10:45:21,384 sagemaker-training-toolkit INFO     Failed to parse hyperparameter language value english to Json.\n",
      "\u001b[36m4mpo1cakoh-algo-1-gciqu |\u001b[0m Returning the value itself\n",
      "\u001b[36m4mpo1cakoh-algo-1-gciqu |\u001b[0m 2023-03-02 10:45:21,391 sagemaker-training-toolkit INFO     instance_groups entry not present in resource_config\n",
      "\u001b[36m4mpo1cakoh-algo-1-gciqu |\u001b[0m 2023-03-02 10:45:21,394 sagemaker_pytorch_container.training INFO     Block until all host DNS lookups succeed.\n",
      "\u001b[36m4mpo1cakoh-algo-1-gciqu |\u001b[0m 2023-03-02 10:45:21,397 sagemaker_pytorch_container.training INFO     Invoking user training script.\n",
      "\u001b[36m4mpo1cakoh-algo-1-gciqu |\u001b[0m 2023-03-02 10:45:21,420 sagemaker-training-toolkit INFO     No Neurons detected (normal if no neurons installed)\n",
      "\u001b[36m4mpo1cakoh-algo-1-gciqu |\u001b[0m 2023-03-02 10:45:21,420 sagemaker-training-toolkit INFO     Failed to parse hyperparameter language value english to Json.\n",
      "\u001b[36m4mpo1cakoh-algo-1-gciqu |\u001b[0m Returning the value itself\n",
      "\u001b[36m4mpo1cakoh-algo-1-gciqu |\u001b[0m 2023-03-02 10:45:21,428 sagemaker-training-toolkit INFO     instance_groups entry not present in resource_config\n",
      "\u001b[36m4mpo1cakoh-algo-1-gciqu |\u001b[0m 2023-03-02 10:45:21,453 sagemaker-training-toolkit INFO     No Neurons detected (normal if no neurons installed)\n",
      "\u001b[36m4mpo1cakoh-algo-1-gciqu |\u001b[0m 2023-03-02 10:45:21,453 sagemaker-training-toolkit INFO     Failed to parse hyperparameter language value english to Json.\n",
      "\u001b[36m4mpo1cakoh-algo-1-gciqu |\u001b[0m Returning the value itself\n",
      "\u001b[36m4mpo1cakoh-algo-1-gciqu |\u001b[0m 2023-03-02 10:45:21,461 sagemaker-training-toolkit INFO     instance_groups entry not present in resource_config\n",
      "\u001b[36m4mpo1cakoh-algo-1-gciqu |\u001b[0m 2023-03-02 10:45:21,485 sagemaker-training-toolkit INFO     No Neurons detected (normal if no neurons installed)\n",
      "\u001b[36m4mpo1cakoh-algo-1-gciqu |\u001b[0m 2023-03-02 10:45:21,485 sagemaker-training-toolkit INFO     Failed to parse hyperparameter language value english to Json.\n",
      "\u001b[36m4mpo1cakoh-algo-1-gciqu |\u001b[0m Returning the value itself\n",
      "\u001b[36m4mpo1cakoh-algo-1-gciqu |\u001b[0m 2023-03-02 10:45:21,493 sagemaker-training-toolkit INFO     instance_groups entry not present in resource_config\n",
      "\u001b[36m4mpo1cakoh-algo-1-gciqu |\u001b[0m 2023-03-02 10:45:21,496 sagemaker-training-toolkit INFO     Invoking user script\n",
      "\u001b[36m4mpo1cakoh-algo-1-gciqu |\u001b[0m \n",
      "\u001b[36m4mpo1cakoh-algo-1-gciqu |\u001b[0m Training Env:\n",
      "\u001b[36m4mpo1cakoh-algo-1-gciqu |\u001b[0m \n",
      "\u001b[36m4mpo1cakoh-algo-1-gciqu |\u001b[0m {\n",
      "\u001b[36m4mpo1cakoh-algo-1-gciqu |\u001b[0m     \"additional_framework_parameters\": {},\n",
      "\u001b[36m4mpo1cakoh-algo-1-gciqu |\u001b[0m     \"channel_input_dirs\": {\n",
      "\u001b[36m4mpo1cakoh-algo-1-gciqu |\u001b[0m         \"training\": \"/opt/ml/input/data/training\"\n",
      "\u001b[36m4mpo1cakoh-algo-1-gciqu |\u001b[0m     },\n",
      "\u001b[36m4mpo1cakoh-algo-1-gciqu |\u001b[0m     \"current_host\": \"algo-1-gciqu\",\n",
      "\u001b[36m4mpo1cakoh-algo-1-gciqu |\u001b[0m     \"current_instance_group\": \"homogeneousCluster\",\n",
      "\u001b[36m4mpo1cakoh-algo-1-gciqu |\u001b[0m     \"current_instance_group_hosts\": [],\n",
      "\u001b[36m4mpo1cakoh-algo-1-gciqu |\u001b[0m     \"current_instance_type\": \"local\",\n",
      "\u001b[36m4mpo1cakoh-algo-1-gciqu |\u001b[0m     \"distribution_hosts\": [\n",
      "\u001b[36m4mpo1cakoh-algo-1-gciqu |\u001b[0m         \"algo-1-gciqu\"\n",
      "\u001b[36m4mpo1cakoh-algo-1-gciqu |\u001b[0m     ],\n",
      "\u001b[36m4mpo1cakoh-algo-1-gciqu |\u001b[0m     \"distribution_instance_groups\": [],\n",
      "\u001b[36m4mpo1cakoh-algo-1-gciqu |\u001b[0m     \"framework_module\": \"sagemaker_pytorch_container.training:main\",\n",
      "\u001b[36m4mpo1cakoh-algo-1-gciqu |\u001b[0m     \"hosts\": [\n",
      "\u001b[36m4mpo1cakoh-algo-1-gciqu |\u001b[0m         \"algo-1-gciqu\"\n",
      "\u001b[36m4mpo1cakoh-algo-1-gciqu |\u001b[0m     ],\n",
      "\u001b[36m4mpo1cakoh-algo-1-gciqu |\u001b[0m     \"hyperparameters\": {\n",
      "\u001b[36m4mpo1cakoh-algo-1-gciqu |\u001b[0m         \"language\": \"english\"\n",
      "\u001b[36m4mpo1cakoh-algo-1-gciqu |\u001b[0m     },\n",
      "\u001b[36m4mpo1cakoh-algo-1-gciqu |\u001b[0m     \"input_config_dir\": \"/opt/ml/input/config\",\n",
      "\u001b[36m4mpo1cakoh-algo-1-gciqu |\u001b[0m     \"input_data_config\": {\n",
      "\u001b[36m4mpo1cakoh-algo-1-gciqu |\u001b[0m         \"training\": {\n",
      "\u001b[36m4mpo1cakoh-algo-1-gciqu |\u001b[0m             \"TrainingInputMode\": \"File\"\n",
      "\u001b[36m4mpo1cakoh-algo-1-gciqu |\u001b[0m         }\n",
      "\u001b[36m4mpo1cakoh-algo-1-gciqu |\u001b[0m     },\n",
      "\u001b[36m4mpo1cakoh-algo-1-gciqu |\u001b[0m     \"input_dir\": \"/opt/ml/input\",\n",
      "\u001b[36m4mpo1cakoh-algo-1-gciqu |\u001b[0m     \"instance_groups\": [],\n",
      "\u001b[36m4mpo1cakoh-algo-1-gciqu |\u001b[0m     \"instance_groups_dict\": {},\n",
      "\u001b[36m4mpo1cakoh-algo-1-gciqu |\u001b[0m     \"is_hetero\": false,\n",
      "\u001b[36m4mpo1cakoh-algo-1-gciqu |\u001b[0m     \"is_master\": true,\n",
      "\u001b[36m4mpo1cakoh-algo-1-gciqu |\u001b[0m     \"is_modelparallel_enabled\": null,\n",
      "\u001b[36m4mpo1cakoh-algo-1-gciqu |\u001b[0m     \"is_smddpmprun_installed\": true,\n",
      "\u001b[36m4mpo1cakoh-algo-1-gciqu |\u001b[0m     \"job_name\": \"bert-topic-training-example-2023-03-02-10-45-19-428\",\n",
      "\u001b[36m4mpo1cakoh-algo-1-gciqu |\u001b[0m     \"log_level\": 20,\n",
      "\u001b[36m4mpo1cakoh-algo-1-gciqu |\u001b[0m     \"master_hostname\": \"algo-1-gciqu\",\n",
      "\u001b[36m4mpo1cakoh-algo-1-gciqu |\u001b[0m     \"model_dir\": \"/opt/ml/model\",\n",
      "\u001b[36m4mpo1cakoh-algo-1-gciqu |\u001b[0m     \"module_dir\": \"/opt/ml/code\",\n",
      "\u001b[36m4mpo1cakoh-algo-1-gciqu |\u001b[0m     \"module_name\": \"bert-topic\",\n",
      "\u001b[36m4mpo1cakoh-algo-1-gciqu |\u001b[0m     \"network_interface_name\": \"eth0\",\n",
      "\u001b[36m4mpo1cakoh-algo-1-gciqu |\u001b[0m     \"num_cpus\": 4,\n",
      "\u001b[36m4mpo1cakoh-algo-1-gciqu |\u001b[0m     \"num_gpus\": 1,\n",
      "\u001b[36m4mpo1cakoh-algo-1-gciqu |\u001b[0m     \"num_neurons\": 0,\n",
      "\u001b[36m4mpo1cakoh-algo-1-gciqu |\u001b[0m     \"output_data_dir\": \"/opt/ml/output/data\",\n",
      "\u001b[36m4mpo1cakoh-algo-1-gciqu |\u001b[0m     \"output_dir\": \"/opt/ml/output\",\n",
      "\u001b[36m4mpo1cakoh-algo-1-gciqu |\u001b[0m     \"output_intermediate_dir\": \"/opt/ml/output/intermediate\",\n",
      "\u001b[36m4mpo1cakoh-algo-1-gciqu |\u001b[0m     \"resource_config\": {\n",
      "\u001b[36m4mpo1cakoh-algo-1-gciqu |\u001b[0m         \"current_host\": \"algo-1-gciqu\",\n",
      "\u001b[36m4mpo1cakoh-algo-1-gciqu |\u001b[0m         \"hosts\": [\n",
      "\u001b[36m4mpo1cakoh-algo-1-gciqu |\u001b[0m             \"algo-1-gciqu\"\n",
      "\u001b[36m4mpo1cakoh-algo-1-gciqu |\u001b[0m         ]\n",
      "\u001b[36m4mpo1cakoh-algo-1-gciqu |\u001b[0m     },\n",
      "\u001b[36m4mpo1cakoh-algo-1-gciqu |\u001b[0m     \"user_entry_point\": \"bert-topic.py\"\n",
      "\u001b[36m4mpo1cakoh-algo-1-gciqu |\u001b[0m }\n",
      "\u001b[36m4mpo1cakoh-algo-1-gciqu |\u001b[0m \n",
      "\u001b[36m4mpo1cakoh-algo-1-gciqu |\u001b[0m Environment variables:\n",
      "\u001b[36m4mpo1cakoh-algo-1-gciqu |\u001b[0m \n",
      "\u001b[36m4mpo1cakoh-algo-1-gciqu |\u001b[0m SM_HOSTS=[\"algo-1-gciqu\"]\n",
      "\u001b[36m4mpo1cakoh-algo-1-gciqu |\u001b[0m SM_NETWORK_INTERFACE_NAME=eth0\n",
      "\u001b[36m4mpo1cakoh-algo-1-gciqu |\u001b[0m SM_HPS={\"language\":\"english\"}\n",
      "\u001b[36m4mpo1cakoh-algo-1-gciqu |\u001b[0m SM_USER_ENTRY_POINT=bert-topic.py\n",
      "\u001b[36m4mpo1cakoh-algo-1-gciqu |\u001b[0m SM_FRAMEWORK_PARAMS={}\n",
      "\u001b[36m4mpo1cakoh-algo-1-gciqu |\u001b[0m SM_RESOURCE_CONFIG={\"current_host\":\"algo-1-gciqu\",\"hosts\":[\"algo-1-gciqu\"]}\n",
      "\u001b[36m4mpo1cakoh-algo-1-gciqu |\u001b[0m SM_INPUT_DATA_CONFIG={\"training\":{\"TrainingInputMode\":\"File\"}}\n",
      "\u001b[36m4mpo1cakoh-algo-1-gciqu |\u001b[0m SM_OUTPUT_DATA_DIR=/opt/ml/output/data\n",
      "\u001b[36m4mpo1cakoh-algo-1-gciqu |\u001b[0m SM_CHANNELS=[\"training\"]\n",
      "\u001b[36m4mpo1cakoh-algo-1-gciqu |\u001b[0m SM_CURRENT_HOST=algo-1-gciqu\n",
      "\u001b[36m4mpo1cakoh-algo-1-gciqu |\u001b[0m SM_CURRENT_INSTANCE_TYPE=local\n",
      "\u001b[36m4mpo1cakoh-algo-1-gciqu |\u001b[0m SM_CURRENT_INSTANCE_GROUP=homogeneousCluster\n",
      "\u001b[36m4mpo1cakoh-algo-1-gciqu |\u001b[0m SM_CURRENT_INSTANCE_GROUP_HOSTS=[]\n",
      "\u001b[36m4mpo1cakoh-algo-1-gciqu |\u001b[0m SM_INSTANCE_GROUPS=[]\n",
      "\u001b[36m4mpo1cakoh-algo-1-gciqu |\u001b[0m SM_INSTANCE_GROUPS_DICT={}\n",
      "\u001b[36m4mpo1cakoh-algo-1-gciqu |\u001b[0m SM_DISTRIBUTION_INSTANCE_GROUPS=[]\n",
      "\u001b[36m4mpo1cakoh-algo-1-gciqu |\u001b[0m SM_IS_HETERO=false\n",
      "\u001b[36m4mpo1cakoh-algo-1-gciqu |\u001b[0m SM_MODULE_NAME=bert-topic\n",
      "\u001b[36m4mpo1cakoh-algo-1-gciqu |\u001b[0m SM_LOG_LEVEL=20\n",
      "\u001b[36m4mpo1cakoh-algo-1-gciqu |\u001b[0m SM_FRAMEWORK_MODULE=sagemaker_pytorch_container.training:main\n",
      "\u001b[36m4mpo1cakoh-algo-1-gciqu |\u001b[0m SM_INPUT_DIR=/opt/ml/input\n",
      "\u001b[36m4mpo1cakoh-algo-1-gciqu |\u001b[0m SM_INPUT_CONFIG_DIR=/opt/ml/input/config\n",
      "\u001b[36m4mpo1cakoh-algo-1-gciqu |\u001b[0m SM_OUTPUT_DIR=/opt/ml/output\n",
      "\u001b[36m4mpo1cakoh-algo-1-gciqu |\u001b[0m SM_NUM_CPUS=4\n",
      "\u001b[36m4mpo1cakoh-algo-1-gciqu |\u001b[0m SM_NUM_GPUS=1\n",
      "\u001b[36m4mpo1cakoh-algo-1-gciqu |\u001b[0m SM_NUM_NEURONS=0\n",
      "\u001b[36m4mpo1cakoh-algo-1-gciqu |\u001b[0m SM_MODEL_DIR=/opt/ml/model\n",
      "\u001b[36m4mpo1cakoh-algo-1-gciqu |\u001b[0m SM_MODULE_DIR=/opt/ml/code\n",
      "\u001b[36m4mpo1cakoh-algo-1-gciqu |\u001b[0m SM_TRAINING_ENV={\"additional_framework_parameters\":{},\"channel_input_dirs\":{\"training\":\"/opt/ml/input/data/training\"},\"current_host\":\"algo-1-gciqu\",\"current_instance_group\":\"homogeneousCluster\",\"current_instance_group_hosts\":[],\"current_instance_type\":\"local\",\"distribution_hosts\":[\"algo-1-gciqu\"],\"distribution_instance_groups\":[],\"framework_module\":\"sagemaker_pytorch_container.training:main\",\"hosts\":[\"algo-1-gciqu\"],\"hyperparameters\":{\"language\":\"english\"},\"input_config_dir\":\"/opt/ml/input/config\",\"input_data_config\":{\"training\":{\"TrainingInputMode\":\"File\"}},\"input_dir\":\"/opt/ml/input\",\"instance_groups\":[],\"instance_groups_dict\":{},\"is_hetero\":false,\"is_master\":true,\"is_modelparallel_enabled\":null,\"is_smddpmprun_installed\":true,\"job_name\":\"bert-topic-training-example-2023-03-02-10-45-19-428\",\"log_level\":20,\"master_hostname\":\"algo-1-gciqu\",\"model_dir\":\"/opt/ml/model\",\"module_dir\":\"/opt/ml/code\",\"module_name\":\"bert-topic\",\"network_interface_name\":\"eth0\",\"num_cpus\":4,\"num_gpus\":1,\"num_neurons\":0,\"output_data_dir\":\"/opt/ml/output/data\",\"output_dir\":\"/opt/ml/output\",\"output_intermediate_dir\":\"/opt/ml/output/intermediate\",\"resource_config\":{\"current_host\":\"algo-1-gciqu\",\"hosts\":[\"algo-1-gciqu\"]},\"user_entry_point\":\"bert-topic.py\"}\n",
      "\u001b[36m4mpo1cakoh-algo-1-gciqu |\u001b[0m SM_USER_ARGS=[\"--language\",\"english\"]\n",
      "\u001b[36m4mpo1cakoh-algo-1-gciqu |\u001b[0m SM_OUTPUT_INTERMEDIATE_DIR=/opt/ml/output/intermediate\n",
      "\u001b[36m4mpo1cakoh-algo-1-gciqu |\u001b[0m SM_CHANNEL_TRAINING=/opt/ml/input/data/training\n",
      "\u001b[36m4mpo1cakoh-algo-1-gciqu |\u001b[0m SM_HP_LANGUAGE=english\n",
      "\u001b[36m4mpo1cakoh-algo-1-gciqu |\u001b[0m PYTHONPATH=/opt/ml/code:/opt/conda/bin:/opt/conda/lib/python38.zip:/opt/conda/lib/python3.8:/opt/conda/lib/python3.8/lib-dynload:/opt/conda/lib/python3.8/site-packages:/opt/conda/lib/python3.8/site-packages/smdebug-1.0.24b20230214-py3.8.egg:/opt/conda/lib/python3.8/site-packages/pyinstrument-3.4.2-py3.8.egg:/opt/conda/lib/python3.8/site-packages/pyinstrument_cext-0.2.4-py3.8-linux-x86_64.egg:/opt/conda/lib/python3.8/site-packages/flash_attn-0.1-py3.8-linux-x86_64.egg:/opt/conda/lib/python3.8/site-packages/einops-0.6.0-py3.8.egg\n",
      "\u001b[36m4mpo1cakoh-algo-1-gciqu |\u001b[0m \n",
      "\u001b[36m4mpo1cakoh-algo-1-gciqu |\u001b[0m Invoking script with the following command:\n",
      "\u001b[36m4mpo1cakoh-algo-1-gciqu |\u001b[0m \n",
      "\u001b[36m4mpo1cakoh-algo-1-gciqu |\u001b[0m /opt/conda/bin/python3.8 bert-topic.py --language english\n",
      "\u001b[36m4mpo1cakoh-algo-1-gciqu |\u001b[0m \n",
      "\u001b[36m4mpo1cakoh-algo-1-gciqu |\u001b[0m \n",
      "\u001b[36m4mpo1cakoh-algo-1-gciqu |\u001b[0m [2023-03-02 10:45:24.018: W smdistributed/modelparallel/torch/nn/predefined_hooks.py:78] Found unsupported HuggingFace version 4.26.1 for automated tensor parallelism. HuggingFace modules will not be automatically distributed. You can use smp.tp_register_with_module API to register desired modules for tensor parallelism, or directly instantiate an smp.nn.DistributedModule. Supported HuggingFace transformers versions for automated tensor parallelism: ['4.17.0', '4.20.1', '4.21.0']\n",
      "\u001b[36m4mpo1cakoh-algo-1-gciqu |\u001b[0m 2023-03-02 10:45:24,214 sagemaker-training-toolkit INFO     Exceptions not imported for SageMaker TF as Tensorflow is not installed.\n",
      "\u001b[36m4mpo1cakoh-algo-1-gciqu |\u001b[0m Loading Training data\n",
      "\u001b[36m4mpo1cakoh-algo-1-gciqu |\u001b[0m data_dir: /opt/ml/input/data/training\n",
      "\u001b[36m4mpo1cakoh-algo-1-gciqu |\u001b[0m Started Training\n",
      "\u001b[36m4mpo1cakoh-algo-1-gciqu |\u001b[0m Downloading (…)e9125/.gitattributes:   0%|          | 0.00/1.18k [00:00<?, ?B/s]\n",
      "\u001b[36m4mpo1cakoh-algo-1-gciqu |\u001b[0m Downloading (…)e9125/.gitattributes: 100%|██████████| 1.18k/1.18k [00:00<00:00, 163kB/s]\n",
      "\u001b[36m4mpo1cakoh-algo-1-gciqu |\u001b[0m Downloading (…)_Pooling/config.json:   0%|          | 0.00/190 [00:00<?, ?B/s]\n",
      "\u001b[36m4mpo1cakoh-algo-1-gciqu |\u001b[0m Downloading (…)_Pooling/config.json: 100%|██████████| 190/190 [00:00<00:00, 28.1kB/s]\n",
      "\u001b[36m4mpo1cakoh-algo-1-gciqu |\u001b[0m Downloading (…)7e55de9125/README.md:   0%|          | 0.00/10.6k [00:00<?, ?B/s]\n",
      "\u001b[36m4mpo1cakoh-algo-1-gciqu |\u001b[0m Downloading (…)7e55de9125/README.md: 100%|██████████| 10.6k/10.6k [00:00<00:00, 5.54MB/s]\n",
      "\u001b[36m4mpo1cakoh-algo-1-gciqu |\u001b[0m Downloading (…)55de9125/config.json:   0%|          | 0.00/612 [00:00<?, ?B/s]\n",
      "\u001b[36m4mpo1cakoh-algo-1-gciqu |\u001b[0m Downloading (…)55de9125/config.json: 100%|██████████| 612/612 [00:00<00:00, 316kB/s]\n",
      "\u001b[36m4mpo1cakoh-algo-1-gciqu |\u001b[0m Downloading (…)ce_transformers.json:   0%|          | 0.00/116 [00:00<?, ?B/s]\n",
      "\u001b[36m4mpo1cakoh-algo-1-gciqu |\u001b[0m Downloading (…)ce_transformers.json: 100%|██████████| 116/116 [00:00<00:00, 60.9kB/s]\n",
      "\u001b[36m4mpo1cakoh-algo-1-gciqu |\u001b[0m Downloading (…)125/data_config.json:   0%|          | 0.00/39.3k [00:00<?, ?B/s]\n",
      "\u001b[36m4mpo1cakoh-algo-1-gciqu |\u001b[0m Downloading (…)125/data_config.json: 100%|██████████| 39.3k/39.3k [00:00<00:00, 13.8MB/s]\n",
      "\u001b[36m4mpo1cakoh-algo-1-gciqu |\u001b[0m Downloading (…)\"pytorch_model.bin\";:   0%|          | 0.00/90.9M [00:00<?, ?B/s]\n",
      "\u001b[36m4mpo1cakoh-algo-1-gciqu |\u001b[0m Downloading (…)\"pytorch_model.bin\";:  46%|████▌     | 41.9M/90.9M [00:00<00:00, 368MB/s]\n",
      "\u001b[36m4mpo1cakoh-algo-1-gciqu |\u001b[0m Downloading (…)\"pytorch_model.bin\";:  92%|█████████▏| 83.9M/90.9M [00:00<00:00, 388MB/s]\n",
      "\u001b[36m4mpo1cakoh-algo-1-gciqu |\u001b[0m Downloading (…)\"pytorch_model.bin\";: 100%|██████████| 90.9M/90.9M [00:00<00:00, 377MB/s]\n",
      "\u001b[36m4mpo1cakoh-algo-1-gciqu |\u001b[0m Downloading (…)nce_bert_config.json:   0%|          | 0.00/53.0 [00:00<?, ?B/s]\n",
      "\u001b[36m4mpo1cakoh-algo-1-gciqu |\u001b[0m Downloading (…)nce_bert_config.json: 100%|██████████| 53.0/53.0 [00:00<00:00, 8.09kB/s]\n",
      "\u001b[36m4mpo1cakoh-algo-1-gciqu |\u001b[0m Downloading (…)cial_tokens_map.json:   0%|          | 0.00/112 [00:00<?, ?B/s]\n",
      "\u001b[36m4mpo1cakoh-algo-1-gciqu |\u001b[0m Downloading (…)cial_tokens_map.json: 100%|██████████| 112/112 [00:00<00:00, 49.7kB/s]\n",
      "\u001b[36m4mpo1cakoh-algo-1-gciqu |\u001b[0m Downloading (…)e9125/tokenizer.json:   0%|          | 0.00/466k [00:00<?, ?B/s]\n",
      "\u001b[36m4mpo1cakoh-algo-1-gciqu |\u001b[0m Downloading (…)e9125/tokenizer.json: 100%|██████████| 466k/466k [00:00<00:00, 51.2MB/s]\n",
      "\u001b[36m4mpo1cakoh-algo-1-gciqu |\u001b[0m Downloading (…)okenizer_config.json:   0%|          | 0.00/350 [00:00<?, ?B/s]\n",
      "\u001b[36m4mpo1cakoh-algo-1-gciqu |\u001b[0m Downloading (…)okenizer_config.json: 100%|██████████| 350/350 [00:00<00:00, 175kB/s]\n",
      "\u001b[36m4mpo1cakoh-algo-1-gciqu |\u001b[0m Downloading (…)9125/train_script.py:   0%|          | 0.00/13.2k [00:00<?, ?B/s]\n",
      "\u001b[36m4mpo1cakoh-algo-1-gciqu |\u001b[0m Downloading (…)9125/train_script.py: 100%|██████████| 13.2k/13.2k [00:00<00:00, 6.54MB/s]\n",
      "\u001b[36m4mpo1cakoh-algo-1-gciqu |\u001b[0m Downloading (…)7e55de9125/vocab.txt:   0%|          | 0.00/232k [00:00<?, ?B/s]\n",
      "\u001b[36m4mpo1cakoh-algo-1-gciqu |\u001b[0m Downloading (…)7e55de9125/vocab.txt: 100%|██████████| 232k/232k [00:00<00:00, 33.7MB/s]\n",
      "\u001b[36m4mpo1cakoh-algo-1-gciqu |\u001b[0m Downloading (…)5de9125/modules.json:   0%|          | 0.00/349 [00:00<?, ?B/s]\n",
      "\u001b[36m4mpo1cakoh-algo-1-gciqu |\u001b[0m Downloading (…)5de9125/modules.json: 100%|██████████| 349/349 [00:00<00:00, 175kB/s]\n",
      "\u001b[36m4mpo1cakoh-algo-1-gciqu |\u001b[0m Finished Training\n",
      "\u001b[36m4mpo1cakoh-algo-1-gciqu |\u001b[0m 2023-03-02 10:45:47,459 sagemaker-training-toolkit INFO     Waiting for the process to finish and give a return code.\n",
      "\u001b[36m4mpo1cakoh-algo-1-gciqu |\u001b[0m 2023-03-02 10:45:47,459 sagemaker-training-toolkit INFO     Done waiting for a return code. Received 0 from exiting process.\n",
      "\u001b[36m4mpo1cakoh-algo-1-gciqu |\u001b[0m 2023-03-02 10:45:47,460 sagemaker-training-toolkit INFO     Reporting training SUCCESS\n"
     ]
    },
    {
     "name": "stderr",
     "output_type": "stream",
     "text": [
      "INFO:root:creating /tmp/tmpgagv6ca0/artifacts/output/data\n",
      "INFO:root:copying /tmp/tmpgagv6ca0/algo-1-gciqu/output/success -> /tmp/tmpgagv6ca0/artifacts/output\n",
      "INFO:root:copying /tmp/tmpgagv6ca0/model/my_model -> /tmp/tmpgagv6ca0/artifacts/model\n"
     ]
    },
    {
     "name": "stdout",
     "output_type": "stream",
     "text": [
      "\u001b[36m4mpo1cakoh-algo-1-gciqu exited with code 0\n",
      "\u001b[0mAborting on container exit...\n",
      "===== Job Complete =====\n"
     ]
    }
   ],
   "source": [
    "from sagemaker.estimator import Estimator\n",
    "\n",
    "# define hyperparameters\n",
    "hyperparameters = {\"language\": \"english\"}\n",
    "\n",
    "# prepare training job\n",
    "estimator = Estimator(\n",
    "    role=role,\n",
    "    train_instance_count=1,\n",
    "    train_instance_type=instance_type_local,\n",
    "    image_uri=training_algorithm_name + \":latest\",\n",
    "    hyperparameters=hyperparameters,\n",
    ")\n",
    "\n",
    "# launch training job\n",
    "print(f\"file://{training_file_path}\")\n",
    "estimator.fit(f\"file://{training_file_path}\")\n",
    "# estimator"
   ]
  },
  {
   "cell_type": "code",
   "execution_count": 25,
   "metadata": {},
   "outputs": [
    {
     "data": {
      "text/plain": [
       "'s3://sagemaker-us-east-1-600743882593/bert-topic-training-example-2023-03-02-10-45-19-428/model.tar.gz'"
      ]
     },
     "execution_count": 25,
     "metadata": {},
     "output_type": "execute_result"
    }
   ],
   "source": [
    "# check where the fitted model has been stored after fit\n",
    "estimator.model_data"
   ]
  },
  {
   "cell_type": "markdown",
   "metadata": {},
   "source": [
    "### A sleek  alternative to \"Bring your own container\": bring your own requirements.txt\n",
    "\n",
    "Instead of extending the pytorch container through a Dockerfile, in many cases we can simply import additional libraries to make our model work. \n",
    "In these cases, adding the requirements.txt inside the same folder as the code will install the required dependencies at runtime. \n",
    "The source directory must be specified in the `source_dir` argument and the entrypointin the `entry_point` argument when creating PyTorch estimator. Further documentation [here](https://sagemaker.readthedocs.io/en/stable/frameworks/pytorch/using_pytorch.html#using-third-party-libraries)"
   ]
  },
  {
   "cell_type": "code",
   "execution_count": 28,
   "metadata": {},
   "outputs": [
    {
     "name": "stderr",
     "output_type": "stream",
     "text": [
      "WARNING:sagemaker.deprecations:train_instance_count has been renamed in sagemaker>=2.\n",
      "See: https://sagemaker.readthedocs.io/en/stable/v2.html for details.\n",
      "WARNING:sagemaker.deprecations:train_instance_type has been renamed in sagemaker>=2.\n",
      "See: https://sagemaker.readthedocs.io/en/stable/v2.html for details.\n",
      "INFO:botocore.credentials:Found credentials from IAM Role: BaseNotebookInstanceEc2InstanceRole\n"
     ]
    },
    {
     "name": "stdout",
     "output_type": "stream",
     "text": [
      "my_image_uri: 763104351884.dkr.ecr.us-east-1.amazonaws.com/pytorch-training:1.12.1-gpu-py38-cu113-ubuntu20.04-sagemaker\n",
      "file:///home/ec2-user/SageMaker/for_deployment/amazon-sagemaker-examples/advanced_functionality/pytorch_extend_container_train_deploy/training_file.txt\n"
     ]
    },
    {
     "name": "stderr",
     "output_type": "stream",
     "text": [
      "INFO:sagemaker:Creating training-job with name: pytorch-training-2023-03-02-10-48-21-013\n",
      "INFO:sagemaker.local.local_session:Starting training job\n",
      "INFO:botocore.credentials:Found credentials from IAM Role: BaseNotebookInstanceEc2InstanceRole\n",
      "INFO:sagemaker.local.image:No AWS credentials found in session but credentials from EC2 Metadata Service are available.\n",
      "INFO:sagemaker.local.image:docker compose file: \n",
      "networks:\n",
      "  sagemaker-local:\n",
      "    name: sagemaker-local\n",
      "services:\n",
      "  algo-1-epzte:\n",
      "    command: train\n",
      "    container_name: 8id8rkwnfq-algo-1-epzte\n",
      "    deploy:\n",
      "      resources:\n",
      "        reservations:\n",
      "          devices:\n",
      "          - capabilities:\n",
      "            - gpu\n",
      "    environment:\n",
      "    - '[Masked]'\n",
      "    - '[Masked]'\n",
      "    image: 763104351884.dkr.ecr.us-east-1.amazonaws.com/pytorch-training:1.12.1-gpu-py38-cu113-ubuntu20.04-sagemaker\n",
      "    networks:\n",
      "      sagemaker-local:\n",
      "        aliases:\n",
      "        - algo-1-epzte\n",
      "    stdin_open: true\n",
      "    tty: true\n",
      "    volumes:\n",
      "    - /tmp/tmpq7ab7y2k/algo-1-epzte/input:/opt/ml/input\n",
      "    - /tmp/tmpq7ab7y2k/algo-1-epzte/output/data:/opt/ml/output/data\n",
      "    - /tmp/tmpq7ab7y2k/algo-1-epzte/output:/opt/ml/output\n",
      "    - /tmp/tmpq7ab7y2k/model:/opt/ml/model\n",
      "    - /opt/ml/metadata:/opt/ml/metadata\n",
      "    - /home/ec2-user/SageMaker/for_deployment/amazon-sagemaker-examples/advanced_functionality/pytorch_extend_container_train_deploy:/opt/ml/input/data/training\n",
      "version: '2.3'\n",
      "\n",
      "INFO:sagemaker.local.image:docker command: docker-compose -f /tmp/tmpq7ab7y2k/docker-compose.yaml up --build --abort-on-container-exit\n"
     ]
    },
    {
     "name": "stdout",
     "output_type": "stream",
     "text": [
      "Creating 8id8rkwnfq-algo-1-epzte ... \n",
      "Creating 8id8rkwnfq-algo-1-epzte ... done\n",
      "Attaching to 8id8rkwnfq-algo-1-epzte\n",
      "\u001b[36m8id8rkwnfq-algo-1-epzte |\u001b[0m 2023-03-02 10:48:23,128 sagemaker-training-toolkit INFO     Imported framework sagemaker_pytorch_container.training\n",
      "\u001b[36m8id8rkwnfq-algo-1-epzte |\u001b[0m 2023-03-02 10:48:23,150 sagemaker-training-toolkit INFO     No Neurons detected (normal if no neurons installed)\n",
      "\u001b[36m8id8rkwnfq-algo-1-epzte |\u001b[0m 2023-03-02 10:48:23,158 sagemaker-training-toolkit INFO     instance_groups entry not present in resource_config\n",
      "\u001b[36m8id8rkwnfq-algo-1-epzte |\u001b[0m 2023-03-02 10:48:23,161 sagemaker_pytorch_container.training INFO     Block until all host DNS lookups succeed.\n",
      "\u001b[36m8id8rkwnfq-algo-1-epzte |\u001b[0m 2023-03-02 10:48:23,164 sagemaker_pytorch_container.training INFO     Invoking user training script.\n",
      "\u001b[36m8id8rkwnfq-algo-1-epzte |\u001b[0m 2023-03-02 10:48:23,200 botocore.credentials INFO     Found credentials from IAM Role: BaseNotebookInstanceEc2InstanceRole\n",
      "\u001b[36m8id8rkwnfq-algo-1-epzte |\u001b[0m 2023-03-02 10:48:23,391 sagemaker-training-toolkit INFO     Installing dependencies from requirements.txt:\n",
      "\u001b[36m8id8rkwnfq-algo-1-epzte |\u001b[0m /opt/conda/bin/python3.8 -m pip install -r requirements.txt\n",
      "\u001b[36m8id8rkwnfq-algo-1-epzte |\u001b[0m Collecting bertopic==0.12.0\n",
      "\u001b[36m8id8rkwnfq-algo-1-epzte |\u001b[0m Downloading bertopic-0.12.0-py2.py3-none-any.whl (90 kB)\n",
      "\u001b[36m8id8rkwnfq-algo-1-epzte |\u001b[0m ━━━━━━━━━━━━━━━━━━━━━━━━━━━━━━━━━━━━━━━━ 90.7/90.7 kB 5.3 MB/s eta 0:00:00\n",
      "\u001b[36m8id8rkwnfq-algo-1-epzte |\u001b[0m \n",
      "\u001b[36m8id8rkwnfq-algo-1-epzte |\u001b[0m Requirement already satisfied: pandas>=1.1.5 in /opt/conda/lib/python3.8/site-packages (from bertopic==0.12.0->-r requirements.txt (line 1)) (1.5.3)\n",
      "\u001b[36m8id8rkwnfq-algo-1-epzte |\u001b[0m Requirement already satisfied: plotly>=4.7.0 in /opt/conda/lib/python3.8/site-packages (from bertopic==0.12.0->-r requirements.txt (line 1)) (5.13.0)\n",
      "\u001b[36m8id8rkwnfq-algo-1-epzte |\u001b[0m Requirement already satisfied: scikit-learn>=0.22.2.post1 in /opt/conda/lib/python3.8/site-packages (from bertopic==0.12.0->-r requirements.txt (line 1)) (1.2.1)\n",
      "\u001b[36m8id8rkwnfq-algo-1-epzte |\u001b[0m Requirement already satisfied: pyyaml<6.0 in /opt/conda/lib/python3.8/site-packages (from bertopic==0.12.0->-r requirements.txt (line 1)) (5.4.1)\n",
      "\u001b[36m8id8rkwnfq-algo-1-epzte |\u001b[0m Collecting sentence-transformers>=0.4.1\n",
      "\u001b[36m8id8rkwnfq-algo-1-epzte |\u001b[0m Downloading sentence-transformers-2.2.2.tar.gz (85 kB)\n",
      "\u001b[36m8id8rkwnfq-algo-1-epzte |\u001b[0m ━━━━━━━━━━━━━━━━━━━━━━━━━━━━━━━━━━━━━━━━ 86.0/86.0 kB 25.3 MB/s eta 0:00:00\n",
      "\u001b[36m8id8rkwnfq-algo-1-epzte |\u001b[0m \n",
      "\u001b[36m8id8rkwnfq-algo-1-epzte |\u001b[0m Preparing metadata (setup.py): started\n",
      "\u001b[36m8id8rkwnfq-algo-1-epzte |\u001b[0m Preparing metadata (setup.py): finished with status 'done'\n",
      "\u001b[36m8id8rkwnfq-algo-1-epzte |\u001b[0m Requirement already satisfied: tqdm>=4.41.1 in /opt/conda/lib/python3.8/site-packages (from bertopic==0.12.0->-r requirements.txt (line 1)) (4.64.1)\n",
      "\u001b[36m8id8rkwnfq-algo-1-epzte |\u001b[0m Requirement already satisfied: numpy>=1.20.0 in /opt/conda/lib/python3.8/site-packages (from bertopic==0.12.0->-r requirements.txt (line 1)) (1.23.5)\n",
      "\u001b[36m8id8rkwnfq-algo-1-epzte |\u001b[0m Collecting umap-learn>=0.5.0\n",
      "\u001b[36m8id8rkwnfq-algo-1-epzte |\u001b[0m Downloading umap-learn-0.5.3.tar.gz (88 kB)\n",
      "\u001b[36m8id8rkwnfq-algo-1-epzte |\u001b[0m ━━━━━━━━━━━━━━━━━━━━━━━━━━━━━━━━━━━━━━━━ 88.2/88.2 kB 27.2 MB/s eta 0:00:00\n",
      "\u001b[36m8id8rkwnfq-algo-1-epzte |\u001b[0m \n",
      "\u001b[36m8id8rkwnfq-algo-1-epzte |\u001b[0m Preparing metadata (setup.py): started\n",
      "\u001b[36m8id8rkwnfq-algo-1-epzte |\u001b[0m Preparing metadata (setup.py): finished with status 'done'\n",
      "\u001b[36m8id8rkwnfq-algo-1-epzte |\u001b[0m Collecting hdbscan>=0.8.28\n",
      "\u001b[36m8id8rkwnfq-algo-1-epzte |\u001b[0m Downloading hdbscan-0.8.29.tar.gz (5.2 MB)\n",
      "\u001b[36m8id8rkwnfq-algo-1-epzte |\u001b[0m ━━━━━━━━━━━━━━━━━━━━━━━━━━━━━━━━━━━━━━━━ 5.2/5.2 MB 113.3 MB/s eta 0:00:00\n",
      "\u001b[36m8id8rkwnfq-algo-1-epzte |\u001b[0m \n",
      "\u001b[36m8id8rkwnfq-algo-1-epzte |\u001b[0m Installing build dependencies: started\n",
      "\u001b[36m8id8rkwnfq-algo-1-epzte |\u001b[0m Installing build dependencies: finished with status 'done'\n",
      "\u001b[36m8id8rkwnfq-algo-1-epzte |\u001b[0m Getting requirements to build wheel: started\n",
      "\u001b[36m8id8rkwnfq-algo-1-epzte |\u001b[0m Getting requirements to build wheel: finished with status 'done'\n",
      "\u001b[36m8id8rkwnfq-algo-1-epzte |\u001b[0m Preparing metadata (pyproject.toml): started\n",
      "\u001b[36m8id8rkwnfq-algo-1-epzte |\u001b[0m Preparing metadata (pyproject.toml): finished with status 'done'\n",
      "\u001b[36m8id8rkwnfq-algo-1-epzte |\u001b[0m Requirement already satisfied: scipy>=1.0 in /opt/conda/lib/python3.8/site-packages (from hdbscan>=0.8.28->bertopic==0.12.0->-r requirements.txt (line 1)) (1.10.0)\n",
      "\u001b[36m8id8rkwnfq-algo-1-epzte |\u001b[0m Requirement already satisfied: joblib>=1.0 in /opt/conda/lib/python3.8/site-packages (from hdbscan>=0.8.28->bertopic==0.12.0->-r requirements.txt (line 1)) (1.2.0)\n",
      "\u001b[36m8id8rkwnfq-algo-1-epzte |\u001b[0m Requirement already satisfied: cython>=0.27 in /opt/conda/lib/python3.8/site-packages (from hdbscan>=0.8.28->bertopic==0.12.0->-r requirements.txt (line 1)) (0.29.33)\n",
      "\u001b[36m8id8rkwnfq-algo-1-epzte |\u001b[0m Requirement already satisfied: python-dateutil>=2.8.1 in /opt/conda/lib/python3.8/site-packages (from pandas>=1.1.5->bertopic==0.12.0->-r requirements.txt (line 1)) (2.8.2)\n",
      "\u001b[36m8id8rkwnfq-algo-1-epzte |\u001b[0m Requirement already satisfied: pytz>=2020.1 in /opt/conda/lib/python3.8/site-packages (from pandas>=1.1.5->bertopic==0.12.0->-r requirements.txt (line 1)) (2022.7.1)\n",
      "\u001b[36m8id8rkwnfq-algo-1-epzte |\u001b[0m Requirement already satisfied: tenacity>=6.2.0 in /opt/conda/lib/python3.8/site-packages (from plotly>=4.7.0->bertopic==0.12.0->-r requirements.txt (line 1)) (8.2.1)\n",
      "\u001b[36m8id8rkwnfq-algo-1-epzte |\u001b[0m Requirement already satisfied: threadpoolctl>=2.0.0 in /opt/conda/lib/python3.8/site-packages (from scikit-learn>=0.22.2.post1->bertopic==0.12.0->-r requirements.txt (line 1)) (3.1.0)\n",
      "\u001b[36m8id8rkwnfq-algo-1-epzte |\u001b[0m Collecting transformers<5.0.0,>=4.6.0\n",
      "\u001b[36m8id8rkwnfq-algo-1-epzte |\u001b[0m Downloading transformers-4.26.1-py3-none-any.whl (6.3 MB)\n",
      "\u001b[36m8id8rkwnfq-algo-1-epzte |\u001b[0m ━━━━━━━━━━━━━━━━━━━━━━━━━━━━━━━━━━━━━━━━ 6.3/6.3 MB 112.2 MB/s eta 0:00:00\n",
      "\u001b[36m8id8rkwnfq-algo-1-epzte |\u001b[0m \n",
      "\u001b[36m8id8rkwnfq-algo-1-epzte |\u001b[0m Requirement already satisfied: torch>=1.6.0 in /opt/conda/lib/python3.8/site-packages (from sentence-transformers>=0.4.1->bertopic==0.12.0->-r requirements.txt (line 1)) (1.12.1+cu113)\n",
      "\u001b[36m8id8rkwnfq-algo-1-epzte |\u001b[0m Requirement already satisfied: torchvision in /opt/conda/lib/python3.8/site-packages (from sentence-transformers>=0.4.1->bertopic==0.12.0->-r requirements.txt (line 1)) (0.13.1+cu113)\n",
      "\u001b[36m8id8rkwnfq-algo-1-epzte |\u001b[0m Collecting nltk\n",
      "\u001b[36m8id8rkwnfq-algo-1-epzte |\u001b[0m Downloading nltk-3.8.1-py3-none-any.whl (1.5 MB)\n",
      "\u001b[36m8id8rkwnfq-algo-1-epzte |\u001b[0m ━━━━━━━━━━━━━━━━━━━━━━━━━━━━━━━━━━━━━━━━ 1.5/1.5 MB 79.1 MB/s eta 0:00:00\n",
      "\u001b[36m8id8rkwnfq-algo-1-epzte |\u001b[0m \n",
      "\u001b[36m8id8rkwnfq-algo-1-epzte |\u001b[0m Collecting sentencepiece\n",
      "\u001b[36m8id8rkwnfq-algo-1-epzte |\u001b[0m Downloading sentencepiece-0.1.97-cp38-cp38-manylinux_2_17_x86_64.manylinux2014_x86_64.whl (1.3 MB)\n",
      "\u001b[36m8id8rkwnfq-algo-1-epzte |\u001b[0m ━━━━━━━━━━━━━━━━━━━━━━━━━━━━━━━━━━━━━━━━ 1.3/1.3 MB 99.5 MB/s eta 0:00:00\n",
      "\u001b[36m8id8rkwnfq-algo-1-epzte |\u001b[0m \n",
      "\u001b[36m8id8rkwnfq-algo-1-epzte |\u001b[0m Collecting huggingface-hub>=0.4.0\n",
      "\u001b[36m8id8rkwnfq-algo-1-epzte |\u001b[0m Downloading huggingface_hub-0.12.1-py3-none-any.whl (190 kB)\n",
      "\u001b[36m8id8rkwnfq-algo-1-epzte |\u001b[0m ━━━━━━━━━━━━━━━━━━━━━━━━━━━━━━━━━━━━━━ 190.3/190.3 kB 43.3 MB/s eta 0:00:00\n",
      "\u001b[36m8id8rkwnfq-algo-1-epzte |\u001b[0m \n",
      "\u001b[36m8id8rkwnfq-algo-1-epzte |\u001b[0m Requirement already satisfied: numba>=0.49 in /opt/conda/lib/python3.8/site-packages (from umap-learn>=0.5.0->bertopic==0.12.0->-r requirements.txt (line 1)) (0.53.1)\n",
      "\u001b[36m8id8rkwnfq-algo-1-epzte |\u001b[0m Collecting pynndescent>=0.5\n",
      "\u001b[36m8id8rkwnfq-algo-1-epzte |\u001b[0m Downloading pynndescent-0.5.8.tar.gz (1.1 MB)\n",
      "\u001b[36m8id8rkwnfq-algo-1-epzte |\u001b[0m ━━━━━━━━━━━━━━━━━━━━━━━━━━━━━━━━━━━━━━━━ 1.1/1.1 MB 103.0 MB/s eta 0:00:00\n",
      "\u001b[36m8id8rkwnfq-algo-1-epzte |\u001b[0m \n",
      "\u001b[36m8id8rkwnfq-algo-1-epzte |\u001b[0m Preparing metadata (setup.py): started\n",
      "\u001b[36m8id8rkwnfq-algo-1-epzte |\u001b[0m Preparing metadata (setup.py): finished with status 'done'\n",
      "\u001b[36m8id8rkwnfq-algo-1-epzte |\u001b[0m Requirement already satisfied: typing-extensions>=3.7.4.3 in /opt/conda/lib/python3.8/site-packages (from huggingface-hub>=0.4.0->sentence-transformers>=0.4.1->bertopic==0.12.0->-r requirements.txt (line 1)) (4.4.0)\n",
      "\u001b[36m8id8rkwnfq-algo-1-epzte |\u001b[0m Collecting filelock\n",
      "\u001b[36m8id8rkwnfq-algo-1-epzte |\u001b[0m Downloading filelock-3.9.0-py3-none-any.whl (9.7 kB)\n",
      "\u001b[36m8id8rkwnfq-algo-1-epzte |\u001b[0m Requirement already satisfied: requests in /opt/conda/lib/python3.8/site-packages (from huggingface-hub>=0.4.0->sentence-transformers>=0.4.1->bertopic==0.12.0->-r requirements.txt (line 1)) (2.28.2)\n",
      "\u001b[36m8id8rkwnfq-algo-1-epzte |\u001b[0m Requirement already satisfied: packaging>=20.9 in /opt/conda/lib/python3.8/site-packages (from huggingface-hub>=0.4.0->sentence-transformers>=0.4.1->bertopic==0.12.0->-r requirements.txt (line 1)) (23.0)\n",
      "\u001b[36m8id8rkwnfq-algo-1-epzte |\u001b[0m Requirement already satisfied: setuptools in /opt/conda/lib/python3.8/site-packages (from numba>=0.49->umap-learn>=0.5.0->bertopic==0.12.0->-r requirements.txt (line 1)) (65.6.3)\n",
      "\u001b[36m8id8rkwnfq-algo-1-epzte |\u001b[0m Requirement already satisfied: llvmlite<0.37,>=0.36.0rc1 in /opt/conda/lib/python3.8/site-packages (from numba>=0.49->umap-learn>=0.5.0->bertopic==0.12.0->-r requirements.txt (line 1)) (0.36.0)\n",
      "\u001b[36m8id8rkwnfq-algo-1-epzte |\u001b[0m Requirement already satisfied: six>=1.5 in /opt/conda/lib/python3.8/site-packages (from python-dateutil>=2.8.1->pandas>=1.1.5->bertopic==0.12.0->-r requirements.txt (line 1)) (1.16.0)\n",
      "\u001b[36m8id8rkwnfq-algo-1-epzte |\u001b[0m Collecting tokenizers!=0.11.3,<0.14,>=0.11.1\n",
      "\u001b[36m8id8rkwnfq-algo-1-epzte |\u001b[0m Downloading tokenizers-0.13.2-cp38-cp38-manylinux_2_17_x86_64.manylinux2014_x86_64.whl (7.6 MB)\n",
      "\u001b[36m8id8rkwnfq-algo-1-epzte |\u001b[0m ━━━━━━━━━━━━━━━━━━━━━━━━━━━━━━━━━━━━━━━━ 7.6/7.6 MB 94.5 MB/s eta 0:00:00\n",
      "\u001b[36m8id8rkwnfq-algo-1-epzte |\u001b[0m \n",
      "\u001b[36m8id8rkwnfq-algo-1-epzte |\u001b[0m Collecting regex!=2019.12.17\n",
      "\u001b[36m8id8rkwnfq-algo-1-epzte |\u001b[0m Downloading regex-2022.10.31-cp38-cp38-manylinux_2_17_x86_64.manylinux2014_x86_64.whl (772 kB)\n",
      "\u001b[36m8id8rkwnfq-algo-1-epzte |\u001b[0m ━━━━━━━━━━━━━━━━━━━━━━━━━━━━━━━━━━━━━━ 772.3/772.3 kB 81.6 MB/s eta 0:00:00\n",
      "\u001b[36m8id8rkwnfq-algo-1-epzte |\u001b[0m \n",
      "\u001b[36m8id8rkwnfq-algo-1-epzte |\u001b[0m Requirement already satisfied: click in /opt/conda/lib/python3.8/site-packages (from nltk->sentence-transformers>=0.4.1->bertopic==0.12.0->-r requirements.txt (line 1)) (8.1.3)\n",
      "\u001b[36m8id8rkwnfq-algo-1-epzte |\u001b[0m Requirement already satisfied: pillow!=8.3.*,>=5.3.0 in /opt/conda/lib/python3.8/site-packages (from torchvision->sentence-transformers>=0.4.1->bertopic==0.12.0->-r requirements.txt (line 1)) (9.4.0)\n",
      "\u001b[36m8id8rkwnfq-algo-1-epzte |\u001b[0m Requirement already satisfied: urllib3<1.27,>=1.21.1 in /opt/conda/lib/python3.8/site-packages (from requests->huggingface-hub>=0.4.0->sentence-transformers>=0.4.1->bertopic==0.12.0->-r requirements.txt (line 1)) (1.26.14)\n",
      "\u001b[36m8id8rkwnfq-algo-1-epzte |\u001b[0m Requirement already satisfied: charset-normalizer<4,>=2 in /opt/conda/lib/python3.8/site-packages (from requests->huggingface-hub>=0.4.0->sentence-transformers>=0.4.1->bertopic==0.12.0->-r requirements.txt (line 1)) (2.1.1)\n",
      "\u001b[36m8id8rkwnfq-algo-1-epzte |\u001b[0m Requirement already satisfied: certifi>=2017.4.17 in /opt/conda/lib/python3.8/site-packages (from requests->huggingface-hub>=0.4.0->sentence-transformers>=0.4.1->bertopic==0.12.0->-r requirements.txt (line 1)) (2022.12.7)\n",
      "\u001b[36m8id8rkwnfq-algo-1-epzte |\u001b[0m Requirement already satisfied: idna<4,>=2.5 in /opt/conda/lib/python3.8/site-packages (from requests->huggingface-hub>=0.4.0->sentence-transformers>=0.4.1->bertopic==0.12.0->-r requirements.txt (line 1)) (3.4)\n",
      "\u001b[36m8id8rkwnfq-algo-1-epzte |\u001b[0m Building wheels for collected packages: hdbscan, sentence-transformers, umap-learn, pynndescent\n",
      "\u001b[36m8id8rkwnfq-algo-1-epzte |\u001b[0m Building wheel for hdbscan (pyproject.toml): started\n",
      "\u001b[36m8id8rkwnfq-algo-1-epzte |\u001b[0m Building wheel for hdbscan (pyproject.toml): finished with status 'done'\n",
      "\u001b[36m8id8rkwnfq-algo-1-epzte |\u001b[0m Created wheel for hdbscan: filename=hdbscan-0.8.29-cp38-cp38-linux_x86_64.whl size=829281 sha256=a3a649835e35bfa430419a82d82f00b2cf728bf5fed4e4f3216fb2f187cac289\n",
      "\u001b[36m8id8rkwnfq-algo-1-epzte |\u001b[0m Stored in directory: /root/.cache/pip/wheels/76/06/48/527e038689c581cc9e519c73840efdc7473805149e55bd7ffd\n",
      "\u001b[36m8id8rkwnfq-algo-1-epzte |\u001b[0m Building wheel for sentence-transformers (setup.py): started\n",
      "\u001b[36m8id8rkwnfq-algo-1-epzte |\u001b[0m Building wheel for sentence-transformers (setup.py): finished with status 'done'\n",
      "\u001b[36m8id8rkwnfq-algo-1-epzte |\u001b[0m Created wheel for sentence-transformers: filename=sentence_transformers-2.2.2-py3-none-any.whl size=125925 sha256=6e29b6dd9a23749a181b36e9fdf56dab6b649e4dd8a4de5a1918b143089b8631\n",
      "\u001b[36m8id8rkwnfq-algo-1-epzte |\u001b[0m Stored in directory: /root/.cache/pip/wheels/5e/6f/8c/d88aec621f3f542d26fac0342bef5e693335d125f4e54aeffe\n",
      "\u001b[36m8id8rkwnfq-algo-1-epzte |\u001b[0m Building wheel for umap-learn (setup.py): started\n",
      "\u001b[36m8id8rkwnfq-algo-1-epzte |\u001b[0m Building wheel for umap-learn (setup.py): finished with status 'done'\n",
      "\u001b[36m8id8rkwnfq-algo-1-epzte |\u001b[0m Created wheel for umap-learn: filename=umap_learn-0.5.3-py3-none-any.whl size=82813 sha256=bbfcc32ebc7bf2bb07fd2e7946c589014df3342eac16d785bc67014853370d00\n",
      "\u001b[36m8id8rkwnfq-algo-1-epzte |\u001b[0m Stored in directory: /root/.cache/pip/wheels/a9/3a/67/06a8950e053725912e6a8c42c4a3a241410f6487b8402542ea\n",
      "\u001b[36m8id8rkwnfq-algo-1-epzte |\u001b[0m Building wheel for pynndescent (setup.py): started\n",
      "\u001b[36m8id8rkwnfq-algo-1-epzte |\u001b[0m Building wheel for pynndescent (setup.py): finished with status 'done'\n",
      "\u001b[36m8id8rkwnfq-algo-1-epzte |\u001b[0m Created wheel for pynndescent: filename=pynndescent-0.5.8-py3-none-any.whl size=55496 sha256=7d1ac28a61d57ba38b381cd1f2f20f4db832bef902dcd41d9ee6c9b1164ce968\n",
      "\u001b[36m8id8rkwnfq-algo-1-epzte |\u001b[0m Stored in directory: /root/.cache/pip/wheels/1c/63/3a/29954bca1a27ba100ed8c27973a78cb71b43dc67aed62e80c3\n",
      "\u001b[36m8id8rkwnfq-algo-1-epzte |\u001b[0m Successfully built hdbscan sentence-transformers umap-learn pynndescent\n",
      "\u001b[36m8id8rkwnfq-algo-1-epzte |\u001b[0m Installing collected packages: tokenizers, sentencepiece, regex, filelock, nltk, huggingface-hub, transformers, pynndescent, hdbscan, umap-learn, sentence-transformers, bertopic\n",
      "\u001b[36m8id8rkwnfq-algo-1-epzte |\u001b[0m Successfully installed bertopic-0.12.0 filelock-3.9.0 hdbscan-0.8.29 huggingface-hub-0.12.1 nltk-3.8.1 pynndescent-0.5.8 regex-2022.10.31 sentence-transformers-2.2.2 sentencepiece-0.1.97 tokenizers-0.13.2 transformers-4.26.1 umap-learn-0.5.3\n",
      "\u001b[36m8id8rkwnfq-algo-1-epzte |\u001b[0m WARNING: Running pip as the 'root' user can result in broken permissions and conflicting behaviour with the system package manager. It is recommended to use a virtual environment instead: https://pip.pypa.io/warnings/venv\n",
      "\u001b[36m8id8rkwnfq-algo-1-epzte |\u001b[0m [notice] A new release of pip is available: 23.0 -> 23.0.1\n",
      "\u001b[36m8id8rkwnfq-algo-1-epzte |\u001b[0m [notice] To update, run: pip install --upgrade pip\n",
      "\u001b[36m8id8rkwnfq-algo-1-epzte |\u001b[0m 2023-03-02 10:49:16,469 sagemaker-training-toolkit INFO     Waiting for the process to finish and give a return code.\n",
      "\u001b[36m8id8rkwnfq-algo-1-epzte |\u001b[0m 2023-03-02 10:49:16,469 sagemaker-training-toolkit INFO     Done waiting for a return code. Received 0 from exiting process.\n",
      "\u001b[36m8id8rkwnfq-algo-1-epzte |\u001b[0m 2023-03-02 10:49:16,495 sagemaker-training-toolkit INFO     No Neurons detected (normal if no neurons installed)\n",
      "\u001b[36m8id8rkwnfq-algo-1-epzte |\u001b[0m 2023-03-02 10:49:16,503 sagemaker-training-toolkit INFO     instance_groups entry not present in resource_config\n",
      "\u001b[36m8id8rkwnfq-algo-1-epzte |\u001b[0m 2023-03-02 10:49:16,529 sagemaker-training-toolkit INFO     No Neurons detected (normal if no neurons installed)\n",
      "\u001b[36m8id8rkwnfq-algo-1-epzte |\u001b[0m 2023-03-02 10:49:16,538 sagemaker-training-toolkit INFO     instance_groups entry not present in resource_config\n",
      "\u001b[36m8id8rkwnfq-algo-1-epzte |\u001b[0m 2023-03-02 10:49:16,564 sagemaker-training-toolkit INFO     No Neurons detected (normal if no neurons installed)\n",
      "\u001b[36m8id8rkwnfq-algo-1-epzte |\u001b[0m 2023-03-02 10:49:16,571 sagemaker-training-toolkit INFO     instance_groups entry not present in resource_config\n",
      "\u001b[36m8id8rkwnfq-algo-1-epzte |\u001b[0m 2023-03-02 10:49:16,575 sagemaker-training-toolkit INFO     Invoking user script\n",
      "\u001b[36m8id8rkwnfq-algo-1-epzte |\u001b[0m \n",
      "\u001b[36m8id8rkwnfq-algo-1-epzte |\u001b[0m Training Env:\n",
      "\u001b[36m8id8rkwnfq-algo-1-epzte |\u001b[0m \n",
      "\u001b[36m8id8rkwnfq-algo-1-epzte |\u001b[0m {\n",
      "\u001b[36m8id8rkwnfq-algo-1-epzte |\u001b[0m     \"additional_framework_parameters\": {},\n",
      "\u001b[36m8id8rkwnfq-algo-1-epzte |\u001b[0m     \"channel_input_dirs\": {\n",
      "\u001b[36m8id8rkwnfq-algo-1-epzte |\u001b[0m         \"training\": \"/opt/ml/input/data/training\"\n",
      "\u001b[36m8id8rkwnfq-algo-1-epzte |\u001b[0m     },\n",
      "\u001b[36m8id8rkwnfq-algo-1-epzte |\u001b[0m     \"current_host\": \"algo-1-epzte\",\n",
      "\u001b[36m8id8rkwnfq-algo-1-epzte |\u001b[0m     \"current_instance_group\": \"homogeneousCluster\",\n",
      "\u001b[36m8id8rkwnfq-algo-1-epzte |\u001b[0m     \"current_instance_group_hosts\": [],\n",
      "\u001b[36m8id8rkwnfq-algo-1-epzte |\u001b[0m     \"current_instance_type\": \"local\",\n",
      "\u001b[36m8id8rkwnfq-algo-1-epzte |\u001b[0m     \"distribution_hosts\": [\n",
      "\u001b[36m8id8rkwnfq-algo-1-epzte |\u001b[0m         \"algo-1-epzte\"\n",
      "\u001b[36m8id8rkwnfq-algo-1-epzte |\u001b[0m     ],\n",
      "\u001b[36m8id8rkwnfq-algo-1-epzte |\u001b[0m     \"distribution_instance_groups\": [],\n",
      "\u001b[36m8id8rkwnfq-algo-1-epzte |\u001b[0m     \"framework_module\": \"sagemaker_pytorch_container.training:main\",\n",
      "\u001b[36m8id8rkwnfq-algo-1-epzte |\u001b[0m     \"hosts\": [\n",
      "\u001b[36m8id8rkwnfq-algo-1-epzte |\u001b[0m         \"algo-1-epzte\"\n",
      "\u001b[36m8id8rkwnfq-algo-1-epzte |\u001b[0m     ],\n",
      "\u001b[36m8id8rkwnfq-algo-1-epzte |\u001b[0m     \"hyperparameters\": {\n",
      "\u001b[36m8id8rkwnfq-algo-1-epzte |\u001b[0m         \"language\": \"english\"\n",
      "\u001b[36m8id8rkwnfq-algo-1-epzte |\u001b[0m     },\n",
      "\u001b[36m8id8rkwnfq-algo-1-epzte |\u001b[0m     \"input_config_dir\": \"/opt/ml/input/config\",\n",
      "\u001b[36m8id8rkwnfq-algo-1-epzte |\u001b[0m     \"input_data_config\": {\n",
      "\u001b[36m8id8rkwnfq-algo-1-epzte |\u001b[0m         \"training\": {\n",
      "\u001b[36m8id8rkwnfq-algo-1-epzte |\u001b[0m             \"TrainingInputMode\": \"File\"\n",
      "\u001b[36m8id8rkwnfq-algo-1-epzte |\u001b[0m         }\n",
      "\u001b[36m8id8rkwnfq-algo-1-epzte |\u001b[0m     },\n",
      "\u001b[36m8id8rkwnfq-algo-1-epzte |\u001b[0m     \"input_dir\": \"/opt/ml/input\",\n",
      "\u001b[36m8id8rkwnfq-algo-1-epzte |\u001b[0m     \"instance_groups\": [],\n",
      "\u001b[36m8id8rkwnfq-algo-1-epzte |\u001b[0m     \"instance_groups_dict\": {},\n",
      "\u001b[36m8id8rkwnfq-algo-1-epzte |\u001b[0m     \"is_hetero\": false,\n",
      "\u001b[36m8id8rkwnfq-algo-1-epzte |\u001b[0m     \"is_master\": true,\n",
      "\u001b[36m8id8rkwnfq-algo-1-epzte |\u001b[0m     \"is_modelparallel_enabled\": null,\n",
      "\u001b[36m8id8rkwnfq-algo-1-epzte |\u001b[0m     \"is_smddpmprun_installed\": true,\n",
      "\u001b[36m8id8rkwnfq-algo-1-epzte |\u001b[0m     \"job_name\": \"pytorch-training-2023-03-02-10-48-21-013\",\n",
      "\u001b[36m8id8rkwnfq-algo-1-epzte |\u001b[0m     \"log_level\": 20,\n",
      "\u001b[36m8id8rkwnfq-algo-1-epzte |\u001b[0m     \"master_hostname\": \"algo-1-epzte\",\n",
      "\u001b[36m8id8rkwnfq-algo-1-epzte |\u001b[0m     \"model_dir\": \"/opt/ml/model\",\n",
      "\u001b[36m8id8rkwnfq-algo-1-epzte |\u001b[0m     \"module_dir\": \"s3://sagemaker-us-east-1-600743882593/pytorch-training-2023-03-02-10-48-21-013/source/sourcedir.tar.gz\",\n",
      "\u001b[36m8id8rkwnfq-algo-1-epzte |\u001b[0m     \"module_name\": \"bert-topic\",\n",
      "\u001b[36m8id8rkwnfq-algo-1-epzte |\u001b[0m     \"network_interface_name\": \"eth0\",\n",
      "\u001b[36m8id8rkwnfq-algo-1-epzte |\u001b[0m     \"num_cpus\": 4,\n",
      "\u001b[36m8id8rkwnfq-algo-1-epzte |\u001b[0m     \"num_gpus\": 1,\n",
      "\u001b[36m8id8rkwnfq-algo-1-epzte |\u001b[0m     \"num_neurons\": 0,\n",
      "\u001b[36m8id8rkwnfq-algo-1-epzte |\u001b[0m     \"output_data_dir\": \"/opt/ml/output/data\",\n",
      "\u001b[36m8id8rkwnfq-algo-1-epzte |\u001b[0m     \"output_dir\": \"/opt/ml/output\",\n",
      "\u001b[36m8id8rkwnfq-algo-1-epzte |\u001b[0m     \"output_intermediate_dir\": \"/opt/ml/output/intermediate\",\n",
      "\u001b[36m8id8rkwnfq-algo-1-epzte |\u001b[0m     \"resource_config\": {\n",
      "\u001b[36m8id8rkwnfq-algo-1-epzte |\u001b[0m         \"current_host\": \"algo-1-epzte\",\n",
      "\u001b[36m8id8rkwnfq-algo-1-epzte |\u001b[0m         \"hosts\": [\n",
      "\u001b[36m8id8rkwnfq-algo-1-epzte |\u001b[0m             \"algo-1-epzte\"\n",
      "\u001b[36m8id8rkwnfq-algo-1-epzte |\u001b[0m         ]\n",
      "\u001b[36m8id8rkwnfq-algo-1-epzte |\u001b[0m     },\n",
      "\u001b[36m8id8rkwnfq-algo-1-epzte |\u001b[0m     \"user_entry_point\": \"bert-topic.py\"\n",
      "\u001b[36m8id8rkwnfq-algo-1-epzte |\u001b[0m }\n",
      "\u001b[36m8id8rkwnfq-algo-1-epzte |\u001b[0m \n",
      "\u001b[36m8id8rkwnfq-algo-1-epzte |\u001b[0m Environment variables:\n",
      "\u001b[36m8id8rkwnfq-algo-1-epzte |\u001b[0m \n",
      "\u001b[36m8id8rkwnfq-algo-1-epzte |\u001b[0m SM_HOSTS=[\"algo-1-epzte\"]\n",
      "\u001b[36m8id8rkwnfq-algo-1-epzte |\u001b[0m SM_NETWORK_INTERFACE_NAME=eth0\n",
      "\u001b[36m8id8rkwnfq-algo-1-epzte |\u001b[0m SM_HPS={\"language\":\"english\"}\n",
      "\u001b[36m8id8rkwnfq-algo-1-epzte |\u001b[0m SM_USER_ENTRY_POINT=bert-topic.py\n",
      "\u001b[36m8id8rkwnfq-algo-1-epzte |\u001b[0m SM_FRAMEWORK_PARAMS={}\n",
      "\u001b[36m8id8rkwnfq-algo-1-epzte |\u001b[0m SM_RESOURCE_CONFIG={\"current_host\":\"algo-1-epzte\",\"hosts\":[\"algo-1-epzte\"]}\n",
      "\u001b[36m8id8rkwnfq-algo-1-epzte |\u001b[0m SM_INPUT_DATA_CONFIG={\"training\":{\"TrainingInputMode\":\"File\"}}\n",
      "\u001b[36m8id8rkwnfq-algo-1-epzte |\u001b[0m SM_OUTPUT_DATA_DIR=/opt/ml/output/data\n",
      "\u001b[36m8id8rkwnfq-algo-1-epzte |\u001b[0m SM_CHANNELS=[\"training\"]\n",
      "\u001b[36m8id8rkwnfq-algo-1-epzte |\u001b[0m SM_CURRENT_HOST=algo-1-epzte\n",
      "\u001b[36m8id8rkwnfq-algo-1-epzte |\u001b[0m SM_CURRENT_INSTANCE_TYPE=local\n",
      "\u001b[36m8id8rkwnfq-algo-1-epzte |\u001b[0m SM_CURRENT_INSTANCE_GROUP=homogeneousCluster\n",
      "\u001b[36m8id8rkwnfq-algo-1-epzte |\u001b[0m SM_CURRENT_INSTANCE_GROUP_HOSTS=[]\n",
      "\u001b[36m8id8rkwnfq-algo-1-epzte |\u001b[0m SM_INSTANCE_GROUPS=[]\n",
      "\u001b[36m8id8rkwnfq-algo-1-epzte |\u001b[0m SM_INSTANCE_GROUPS_DICT={}\n",
      "\u001b[36m8id8rkwnfq-algo-1-epzte |\u001b[0m SM_DISTRIBUTION_INSTANCE_GROUPS=[]\n",
      "\u001b[36m8id8rkwnfq-algo-1-epzte |\u001b[0m SM_IS_HETERO=false\n",
      "\u001b[36m8id8rkwnfq-algo-1-epzte |\u001b[0m SM_MODULE_NAME=bert-topic\n",
      "\u001b[36m8id8rkwnfq-algo-1-epzte |\u001b[0m SM_LOG_LEVEL=20\n",
      "\u001b[36m8id8rkwnfq-algo-1-epzte |\u001b[0m SM_FRAMEWORK_MODULE=sagemaker_pytorch_container.training:main\n",
      "\u001b[36m8id8rkwnfq-algo-1-epzte |\u001b[0m SM_INPUT_DIR=/opt/ml/input\n",
      "\u001b[36m8id8rkwnfq-algo-1-epzte |\u001b[0m SM_INPUT_CONFIG_DIR=/opt/ml/input/config\n",
      "\u001b[36m8id8rkwnfq-algo-1-epzte |\u001b[0m SM_OUTPUT_DIR=/opt/ml/output\n",
      "\u001b[36m8id8rkwnfq-algo-1-epzte |\u001b[0m SM_NUM_CPUS=4\n",
      "\u001b[36m8id8rkwnfq-algo-1-epzte |\u001b[0m SM_NUM_GPUS=1\n",
      "\u001b[36m8id8rkwnfq-algo-1-epzte |\u001b[0m SM_NUM_NEURONS=0\n",
      "\u001b[36m8id8rkwnfq-algo-1-epzte |\u001b[0m SM_MODEL_DIR=/opt/ml/model\n",
      "\u001b[36m8id8rkwnfq-algo-1-epzte |\u001b[0m SM_MODULE_DIR=s3://sagemaker-us-east-1-600743882593/pytorch-training-2023-03-02-10-48-21-013/source/sourcedir.tar.gz\n",
      "\u001b[36m8id8rkwnfq-algo-1-epzte |\u001b[0m SM_TRAINING_ENV={\"additional_framework_parameters\":{},\"channel_input_dirs\":{\"training\":\"/opt/ml/input/data/training\"},\"current_host\":\"algo-1-epzte\",\"current_instance_group\":\"homogeneousCluster\",\"current_instance_group_hosts\":[],\"current_instance_type\":\"local\",\"distribution_hosts\":[\"algo-1-epzte\"],\"distribution_instance_groups\":[],\"framework_module\":\"sagemaker_pytorch_container.training:main\",\"hosts\":[\"algo-1-epzte\"],\"hyperparameters\":{\"language\":\"english\"},\"input_config_dir\":\"/opt/ml/input/config\",\"input_data_config\":{\"training\":{\"TrainingInputMode\":\"File\"}},\"input_dir\":\"/opt/ml/input\",\"instance_groups\":[],\"instance_groups_dict\":{},\"is_hetero\":false,\"is_master\":true,\"is_modelparallel_enabled\":null,\"is_smddpmprun_installed\":true,\"job_name\":\"pytorch-training-2023-03-02-10-48-21-013\",\"log_level\":20,\"master_hostname\":\"algo-1-epzte\",\"model_dir\":\"/opt/ml/model\",\"module_dir\":\"s3://sagemaker-us-east-1-600743882593/pytorch-training-2023-03-02-10-48-21-013/source/sourcedir.tar.gz\",\"module_name\":\"bert-topic\",\"network_interface_name\":\"eth0\",\"num_cpus\":4,\"num_gpus\":1,\"num_neurons\":0,\"output_data_dir\":\"/opt/ml/output/data\",\"output_dir\":\"/opt/ml/output\",\"output_intermediate_dir\":\"/opt/ml/output/intermediate\",\"resource_config\":{\"current_host\":\"algo-1-epzte\",\"hosts\":[\"algo-1-epzte\"]},\"user_entry_point\":\"bert-topic.py\"}\n",
      "\u001b[36m8id8rkwnfq-algo-1-epzte |\u001b[0m SM_USER_ARGS=[\"--language\",\"english\"]\n",
      "\u001b[36m8id8rkwnfq-algo-1-epzte |\u001b[0m SM_OUTPUT_INTERMEDIATE_DIR=/opt/ml/output/intermediate\n",
      "\u001b[36m8id8rkwnfq-algo-1-epzte |\u001b[0m SM_CHANNEL_TRAINING=/opt/ml/input/data/training\n",
      "\u001b[36m8id8rkwnfq-algo-1-epzte |\u001b[0m SM_HP_LANGUAGE=english\n",
      "\u001b[36m8id8rkwnfq-algo-1-epzte |\u001b[0m PYTHONPATH=/opt/ml/code:/opt/conda/bin:/opt/conda/lib/python38.zip:/opt/conda/lib/python3.8:/opt/conda/lib/python3.8/lib-dynload:/opt/conda/lib/python3.8/site-packages:/opt/conda/lib/python3.8/site-packages/smdebug-1.0.24b20230214-py3.8.egg:/opt/conda/lib/python3.8/site-packages/pyinstrument-3.4.2-py3.8.egg:/opt/conda/lib/python3.8/site-packages/pyinstrument_cext-0.2.4-py3.8-linux-x86_64.egg:/opt/conda/lib/python3.8/site-packages/flash_attn-0.1-py3.8-linux-x86_64.egg:/opt/conda/lib/python3.8/site-packages/einops-0.6.0-py3.8.egg\n",
      "\u001b[36m8id8rkwnfq-algo-1-epzte |\u001b[0m \n",
      "\u001b[36m8id8rkwnfq-algo-1-epzte |\u001b[0m Invoking script with the following command:\n",
      "\u001b[36m8id8rkwnfq-algo-1-epzte |\u001b[0m \n",
      "\u001b[36m8id8rkwnfq-algo-1-epzte |\u001b[0m /opt/conda/bin/python3.8 bert-topic.py --language english\n",
      "\u001b[36m8id8rkwnfq-algo-1-epzte |\u001b[0m \n",
      "\u001b[36m8id8rkwnfq-algo-1-epzte |\u001b[0m \n",
      "\u001b[36m8id8rkwnfq-algo-1-epzte |\u001b[0m [2023-03-02 10:49:19.210: W smdistributed/modelparallel/torch/nn/predefined_hooks.py:78] Found unsupported HuggingFace version 4.26.1 for automated tensor parallelism. HuggingFace modules will not be automatically distributed. You can use smp.tp_register_with_module API to register desired modules for tensor parallelism, or directly instantiate an smp.nn.DistributedModule. Supported HuggingFace transformers versions for automated tensor parallelism: ['4.17.0', '4.20.1', '4.21.0']\n",
      "\u001b[36m8id8rkwnfq-algo-1-epzte |\u001b[0m 2023-03-02 10:49:19,360 sagemaker-training-toolkit INFO     Exceptions not imported for SageMaker TF as Tensorflow is not installed.\n",
      "\u001b[36m8id8rkwnfq-algo-1-epzte |\u001b[0m Loading Training data\n",
      "\u001b[36m8id8rkwnfq-algo-1-epzte |\u001b[0m data_dir: /opt/ml/input/data/training\n",
      "\u001b[36m8id8rkwnfq-algo-1-epzte |\u001b[0m Started Training\n",
      "\u001b[36m8id8rkwnfq-algo-1-epzte |\u001b[0m Downloading (…)e9125/.gitattributes:   0%|          | 0.00/1.18k [00:00<?, ?B/s]\n",
      "\u001b[36m8id8rkwnfq-algo-1-epzte |\u001b[0m Downloading (…)e9125/.gitattributes: 100%|██████████| 1.18k/1.18k [00:00<00:00, 167kB/s]\n",
      "\u001b[36m8id8rkwnfq-algo-1-epzte |\u001b[0m Downloading (…)_Pooling/config.json:   0%|          | 0.00/190 [00:00<?, ?B/s]\n",
      "\u001b[36m8id8rkwnfq-algo-1-epzte |\u001b[0m Downloading (…)_Pooling/config.json: 100%|██████████| 190/190 [00:00<00:00, 28.0kB/s]\n",
      "\u001b[36m8id8rkwnfq-algo-1-epzte |\u001b[0m Downloading (…)7e55de9125/README.md:   0%|          | 0.00/10.6k [00:00<?, ?B/s]\n",
      "\u001b[36m8id8rkwnfq-algo-1-epzte |\u001b[0m Downloading (…)7e55de9125/README.md: 100%|██████████| 10.6k/10.6k [00:00<00:00, 5.32MB/s]\n",
      "\u001b[36m8id8rkwnfq-algo-1-epzte |\u001b[0m Downloading (…)55de9125/config.json:   0%|          | 0.00/612 [00:00<?, ?B/s]\n",
      "\u001b[36m8id8rkwnfq-algo-1-epzte |\u001b[0m Downloading (…)55de9125/config.json: 100%|██████████| 612/612 [00:00<00:00, 331kB/s]\n",
      "\u001b[36m8id8rkwnfq-algo-1-epzte |\u001b[0m Downloading (…)ce_transformers.json:   0%|          | 0.00/116 [00:00<?, ?B/s]\n",
      "\u001b[36m8id8rkwnfq-algo-1-epzte |\u001b[0m Downloading (…)ce_transformers.json: 100%|██████████| 116/116 [00:00<00:00, 49.1kB/s]\n",
      "\u001b[36m8id8rkwnfq-algo-1-epzte |\u001b[0m Downloading (…)125/data_config.json:   0%|          | 0.00/39.3k [00:00<?, ?B/s]\n",
      "\u001b[36m8id8rkwnfq-algo-1-epzte |\u001b[0m Downloading (…)125/data_config.json: 100%|██████████| 39.3k/39.3k [00:00<00:00, 15.1MB/s]\n",
      "\u001b[36m8id8rkwnfq-algo-1-epzte |\u001b[0m Downloading (…)\"pytorch_model.bin\";:   0%|          | 0.00/90.9M [00:00<?, ?B/s]\n",
      "\u001b[36m8id8rkwnfq-algo-1-epzte |\u001b[0m Downloading (…)\"pytorch_model.bin\";:  23%|██▎       | 21.0M/90.9M [00:00<00:00, 203MB/s]\n",
      "\u001b[36m8id8rkwnfq-algo-1-epzte |\u001b[0m Downloading (…)\"pytorch_model.bin\";:  58%|█████▊    | 52.4M/90.9M [00:00<00:00, 252MB/s]\n",
      "\u001b[36m8id8rkwnfq-algo-1-epzte |\u001b[0m Downloading (…)\"pytorch_model.bin\";:  92%|█████████▏| 83.9M/90.9M [00:00<00:00, 273MB/s]\n",
      "\u001b[36m8id8rkwnfq-algo-1-epzte |\u001b[0m Downloading (…)\"pytorch_model.bin\";: 100%|██████████| 90.9M/90.9M [00:00<00:00, 263MB/s]\n",
      "\u001b[36m8id8rkwnfq-algo-1-epzte |\u001b[0m Downloading (…)nce_bert_config.json:   0%|          | 0.00/53.0 [00:00<?, ?B/s]\n",
      "\u001b[36m8id8rkwnfq-algo-1-epzte |\u001b[0m Downloading (…)nce_bert_config.json: 100%|██████████| 53.0/53.0 [00:00<00:00, 8.34kB/s]\n",
      "\u001b[36m8id8rkwnfq-algo-1-epzte |\u001b[0m Downloading (…)cial_tokens_map.json:   0%|          | 0.00/112 [00:00<?, ?B/s]\n",
      "\u001b[36m8id8rkwnfq-algo-1-epzte |\u001b[0m Downloading (…)cial_tokens_map.json: 100%|██████████| 112/112 [00:00<00:00, 53.2kB/s]\n",
      "\u001b[36m8id8rkwnfq-algo-1-epzte |\u001b[0m Downloading (…)e9125/tokenizer.json:   0%|          | 0.00/466k [00:00<?, ?B/s]\n",
      "\u001b[36m8id8rkwnfq-algo-1-epzte |\u001b[0m Downloading (…)e9125/tokenizer.json: 100%|██████████| 466k/466k [00:00<00:00, 41.1MB/s]\n",
      "\u001b[36m8id8rkwnfq-algo-1-epzte |\u001b[0m Downloading (…)okenizer_config.json:   0%|          | 0.00/350 [00:00<?, ?B/s]\n",
      "\u001b[36m8id8rkwnfq-algo-1-epzte |\u001b[0m Downloading (…)okenizer_config.json: 100%|██████████| 350/350 [00:00<00:00, 164kB/s]\n",
      "\u001b[36m8id8rkwnfq-algo-1-epzte |\u001b[0m Downloading (…)9125/train_script.py:   0%|          | 0.00/13.2k [00:00<?, ?B/s]\n",
      "\u001b[36m8id8rkwnfq-algo-1-epzte |\u001b[0m Downloading (…)9125/train_script.py: 100%|██████████| 13.2k/13.2k [00:00<00:00, 5.94MB/s]\n",
      "\u001b[36m8id8rkwnfq-algo-1-epzte |\u001b[0m Downloading (…)7e55de9125/vocab.txt:   0%|          | 0.00/232k [00:00<?, ?B/s]\n",
      "\u001b[36m8id8rkwnfq-algo-1-epzte |\u001b[0m Downloading (…)7e55de9125/vocab.txt: 100%|██████████| 232k/232k [00:00<00:00, 33.0MB/s]\n",
      "\u001b[36m8id8rkwnfq-algo-1-epzte |\u001b[0m Downloading (…)5de9125/modules.json:   0%|          | 0.00/349 [00:00<?, ?B/s]\n",
      "\u001b[36m8id8rkwnfq-algo-1-epzte |\u001b[0m Downloading (…)5de9125/modules.json: 100%|██████████| 349/349 [00:00<00:00, 177kB/s]\n",
      "\u001b[36m8id8rkwnfq-algo-1-epzte |\u001b[0m Finished Training\n",
      "\u001b[36m8id8rkwnfq-algo-1-epzte |\u001b[0m 2023-03-02 10:49:42,475 sagemaker-training-toolkit INFO     Waiting for the process to finish and give a return code.\n",
      "\u001b[36m8id8rkwnfq-algo-1-epzte |\u001b[0m 2023-03-02 10:49:42,475 sagemaker-training-toolkit INFO     Done waiting for a return code. Received 0 from exiting process.\n",
      "\u001b[36m8id8rkwnfq-algo-1-epzte |\u001b[0m 2023-03-02 10:49:42,476 sagemaker-training-toolkit INFO     Reporting training SUCCESS\n"
     ]
    },
    {
     "name": "stderr",
     "output_type": "stream",
     "text": [
      "INFO:root:creating /tmp/tmpq7ab7y2k/artifacts/output/data\n",
      "INFO:root:copying /tmp/tmpq7ab7y2k/algo-1-epzte/output/success -> /tmp/tmpq7ab7y2k/artifacts/output\n",
      "INFO:root:copying /tmp/tmpq7ab7y2k/model/my_model -> /tmp/tmpq7ab7y2k/artifacts/model\n"
     ]
    },
    {
     "name": "stdout",
     "output_type": "stream",
     "text": [
      "\u001b[36m8id8rkwnfq-algo-1-epzte exited with code 0\n",
      "\u001b[0mAborting on container exit...\n",
      "===== Job Complete =====\n"
     ]
    }
   ],
   "source": [
    "import boto3\n",
    "my_session = boto3.session.Session()\n",
    "my_region = my_session.region_name\n",
    "my_image_uri =  \"763104351884.dkr.ecr.\"+my_region+\".amazonaws.com/pytorch-training:1.12.1-gpu-py38-cu113-ubuntu20.04-sagemaker\"\n",
    "print(\"my_image_uri:\",my_image_uri)\n",
    "from sagemaker.estimator import Estimator\n",
    "\n",
    "# define hyperparameters\n",
    "hyperparameters = {\"language\": \"english\"}\n",
    "\n",
    "# prepare training job\n",
    "estimator = Estimator(\n",
    "    role=role,\n",
    "    train_instance_count=1,\n",
    "    train_instance_type=instance_type_local,\n",
    "    image_uri=my_image_uri,\n",
    "    hyperparameters=hyperparameters,\n",
    "    source_dir=\"container/bert-topic-byoreq\",  # this directory contains the entrypoint code and the requirements.txt\n",
    "    entry_point=\"bert-topic.py\", # this argument is used to override internal container entrypoint, if needed!\n",
    ")\n",
    "\n",
    "# launch training job\n",
    "print(f\"file://{training_file_path}\")\n",
    "estimator.fit(f\"file://{training_file_path}\")"
   ]
  },
  {
   "cell_type": "code",
   "execution_count": 29,
   "metadata": {},
   "outputs": [
    {
     "data": {
      "text/plain": [
       "'s3://sagemaker-us-east-1-600743882593/pytorch-training-2023-03-02-10-48-21-013/model.tar.gz'"
      ]
     },
     "execution_count": 29,
     "metadata": {},
     "output_type": "execute_result"
    }
   ],
   "source": [
    "estimator.model_data"
   ]
  },
  {
   "cell_type": "markdown",
   "metadata": {},
   "source": [
    "## Training your Algorithm in Amazon SageMaker in batch mode\n",
    "Once you have your container packaged and/or validated, you can use it to train models in batch mode. Let's do that with the algorithm we made above.\n",
    "\n",
    "## Set up the environment\n",
    "Here we specify the bucket to use (the role has been defined earlier)."
   ]
  },
  {
   "cell_type": "code",
   "execution_count": 30,
   "metadata": {},
   "outputs": [],
   "source": [
    "# S3 prefix\n",
    "prefix = \"DEMO-pytorch-bert-topic\""
   ]
  },
  {
   "cell_type": "markdown",
   "metadata": {},
   "source": [
    "## Create the session\n",
    "\n",
    "The session remembers our connection parameters to SageMaker. We use it to perform all of our SageMaker operations."
   ]
  },
  {
   "cell_type": "code",
   "execution_count": 31,
   "metadata": {},
   "outputs": [
    {
     "name": "stderr",
     "output_type": "stream",
     "text": [
      "INFO:botocore.credentials:Found credentials from IAM Role: BaseNotebookInstanceEc2InstanceRole\n"
     ]
    }
   ],
   "source": [
    "import sagemaker as sage\n",
    "\n",
    "sess = sage.Session()"
   ]
  },
  {
   "cell_type": "markdown",
   "metadata": {},
   "source": [
    "## Upload the data for training\n",
    "\n",
    "We will use the tools provided by the SageMaker Python SDK to upload the data to a default bucket."
   ]
  },
  {
   "cell_type": "code",
   "execution_count": 32,
   "metadata": {},
   "outputs": [
    {
     "data": {
      "text/plain": [
       "'s3://sagemaker-us-east-1-600743882593/DEMO-pytorch-bert-topic/training_file.txt'"
      ]
     },
     "execution_count": 32,
     "metadata": {},
     "output_type": "execute_result"
    }
   ],
   "source": [
    "data_location = sess.upload_data(training_file_path, key_prefix=prefix)\n",
    "data_location"
   ]
  },
  {
   "cell_type": "markdown",
   "metadata": {},
   "source": [
    "## Training on SageMaker in batch mode\n",
    "Training a model on SageMaker with the Python SDK is done in a way that is similar to the way we trained it locally. This is done by changing our train_instance_type from `local` to one of our [supported EC2 instance types](https://aws.amazon.com/sagemaker/pricing/instance-types/).\n",
    "\n",
    "In addition, we must now specify the ECR image URL, which we just pushed above.\n",
    "\n",
    "Finally, our local training dataset has to be in Amazon S3 and the S3 URL to our dataset is passed into the `fit()` call.\n",
    "\n",
    "Let's first fetch our ECR image url that corresponds to the image we just built and pushed.\n",
    "\n",
    "Also in this case, whenever useful, one can use the leverage a pre-existing base image with the \"bring your own requirements.txt\" option (not shown below)."
   ]
  },
  {
   "cell_type": "code",
   "execution_count": 33,
   "metadata": {},
   "outputs": [
    {
     "name": "stderr",
     "output_type": "stream",
     "text": [
      "INFO:botocore.credentials:Found credentials from IAM Role: BaseNotebookInstanceEc2InstanceRole\n"
     ]
    },
    {
     "name": "stdout",
     "output_type": "stream",
     "text": [
      "using ecr_image: 600743882593.dkr.ecr.us-east-1.amazonaws.com/bert-topic-training-example:latest\n"
     ]
    }
   ],
   "source": [
    "import boto3\n",
    "\n",
    "client = boto3.client(\"sts\")\n",
    "account = client.get_caller_identity()[\"Account\"]\n",
    "\n",
    "my_session = boto3.session.Session()\n",
    "region = my_session.region_name\n",
    "\n",
    "ecr_image = f\"{account}.dkr.ecr.{region}.amazonaws.com/{training_algorithm_name}:latest\"\n",
    "\n",
    "print(\"using ecr_image:\", ecr_image)"
   ]
  },
  {
   "cell_type": "markdown",
   "metadata": {},
   "source": [
    "After training the mode, the output will be packaged into a tarred file `model.tar.gz` and copied to the S3 bucket in use for the training"
   ]
  },
  {
   "cell_type": "code",
   "execution_count": 34,
   "metadata": {},
   "outputs": [
    {
     "name": "stderr",
     "output_type": "stream",
     "text": [
      "WARNING:sagemaker.deprecations:train_instance_count has been renamed in sagemaker>=2.\n",
      "See: https://sagemaker.readthedocs.io/en/stable/v2.html for details.\n",
      "WARNING:sagemaker.deprecations:train_instance_type has been renamed in sagemaker>=2.\n",
      "See: https://sagemaker.readthedocs.io/en/stable/v2.html for details.\n",
      "INFO:sagemaker:Creating training-job with name: bert-topic-training-example-2023-03-02-12-19-47-456\n"
     ]
    },
    {
     "name": "stdout",
     "output_type": "stream",
     "text": [
      "2023-03-02 12:19:47 Starting - Starting the training job...\n",
      "2023-03-02 12:20:15 Starting - Preparing the instances for training.........\n",
      "2023-03-02 12:21:28 Downloading - Downloading input data...\n",
      "2023-03-02 12:21:53 Training - Downloading the training image...........................\n",
      "2023-03-02 12:26:30 Training - Training image download completed. Training in progress...\u001b[34mbash: cannot set terminal process group (-1): Inappropriate ioctl for device\u001b[0m\n",
      "\u001b[34mbash: no job control in this shell\u001b[0m\n",
      "\u001b[34m2023-03-02 12:26:56,714 sagemaker-training-toolkit INFO     Imported framework sagemaker_pytorch_container.training\u001b[0m\n",
      "\u001b[34m2023-03-02 12:26:56,728 sagemaker-training-toolkit INFO     No Neurons detected (normal if no neurons installed)\u001b[0m\n",
      "\u001b[34m2023-03-02 12:26:56,728 sagemaker-training-toolkit INFO     Failed to parse hyperparameter language value english to Json.\u001b[0m\n",
      "\u001b[34mReturning the value itself\u001b[0m\n",
      "\u001b[34m2023-03-02 12:26:56,741 sagemaker_pytorch_container.training INFO     Block until all host DNS lookups succeed.\u001b[0m\n",
      "\u001b[34m2023-03-02 12:26:56,743 sagemaker_pytorch_container.training INFO     Invoking user training script.\u001b[0m\n",
      "\u001b[34m2023-03-02 12:26:56,757 sagemaker-training-toolkit INFO     No Neurons detected (normal if no neurons installed)\u001b[0m\n",
      "\u001b[34m2023-03-02 12:26:56,758 sagemaker-training-toolkit INFO     Failed to parse hyperparameter language value english to Json.\u001b[0m\n",
      "\u001b[34mReturning the value itself\u001b[0m\n",
      "\u001b[34m2023-03-02 12:26:56,783 sagemaker-training-toolkit INFO     No Neurons detected (normal if no neurons installed)\u001b[0m\n",
      "\u001b[34m2023-03-02 12:26:56,784 sagemaker-training-toolkit INFO     Failed to parse hyperparameter language value english to Json.\u001b[0m\n",
      "\u001b[34mReturning the value itself\u001b[0m\n",
      "\u001b[34m2023-03-02 12:26:56,809 sagemaker-training-toolkit INFO     No Neurons detected (normal if no neurons installed)\u001b[0m\n",
      "\u001b[34m2023-03-02 12:26:56,809 sagemaker-training-toolkit INFO     Failed to parse hyperparameter language value english to Json.\u001b[0m\n",
      "\u001b[34mReturning the value itself\u001b[0m\n",
      "\u001b[34m2023-03-02 12:26:56,822 sagemaker-training-toolkit INFO     Invoking user script\u001b[0m\n",
      "\u001b[34mTraining Env:\u001b[0m\n",
      "\u001b[34m{\n",
      "    \"additional_framework_parameters\": {},\n",
      "    \"channel_input_dirs\": {\n",
      "        \"training\": \"/opt/ml/input/data/training\"\n",
      "    },\n",
      "    \"current_host\": \"algo-1\",\n",
      "    \"current_instance_group\": \"homogeneousCluster\",\n",
      "    \"current_instance_group_hosts\": [\n",
      "        \"algo-1\"\n",
      "    ],\n",
      "    \"current_instance_type\": \"ml.p2.xlarge\",\n",
      "    \"distribution_hosts\": [],\n",
      "    \"distribution_instance_groups\": [],\n",
      "    \"framework_module\": \"sagemaker_pytorch_container.training:main\",\n",
      "    \"hosts\": [\n",
      "        \"algo-1\"\n",
      "    ],\n",
      "    \"hyperparameters\": {\n",
      "        \"language\": \"english\"\n",
      "    },\n",
      "    \"input_config_dir\": \"/opt/ml/input/config\",\n",
      "    \"input_data_config\": {\n",
      "        \"training\": {\n",
      "            \"TrainingInputMode\": \"File\",\n",
      "            \"S3DistributionType\": \"FullyReplicated\",\n",
      "            \"RecordWrapperType\": \"None\"\n",
      "        }\n",
      "    },\n",
      "    \"input_dir\": \"/opt/ml/input\",\n",
      "    \"instance_groups\": [\n",
      "        \"homogeneousCluster\"\n",
      "    ],\n",
      "    \"instance_groups_dict\": {\n",
      "        \"homogeneousCluster\": {\n",
      "            \"instance_group_name\": \"homogeneousCluster\",\n",
      "            \"instance_type\": \"ml.p2.xlarge\",\n",
      "            \"hosts\": [\n",
      "                \"algo-1\"\n",
      "            ]\n",
      "        }\n",
      "    },\n",
      "    \"is_hetero\": false,\n",
      "    \"is_master\": true,\n",
      "    \"is_modelparallel_enabled\": null,\n",
      "    \"is_smddpmprun_installed\": true,\n",
      "    \"job_name\": \"bert-topic-training-example-2023-03-02-12-19-47-456\",\n",
      "    \"log_level\": 20,\n",
      "    \"master_hostname\": \"algo-1\",\n",
      "    \"model_dir\": \"/opt/ml/model\",\n",
      "    \"module_dir\": \"/opt/ml/code\",\n",
      "    \"module_name\": \"bert-topic\",\n",
      "    \"network_interface_name\": \"eth0\",\n",
      "    \"num_cpus\": 4,\n",
      "    \"num_gpus\": 1,\n",
      "    \"num_neurons\": 0,\n",
      "    \"output_data_dir\": \"/opt/ml/output/data\",\n",
      "    \"output_dir\": \"/opt/ml/output\",\n",
      "    \"output_intermediate_dir\": \"/opt/ml/output/intermediate\",\n",
      "    \"resource_config\": {\n",
      "        \"current_host\": \"algo-1\",\n",
      "        \"current_instance_type\": \"ml.p2.xlarge\",\n",
      "        \"current_group_name\": \"homogeneousCluster\",\n",
      "        \"hosts\": [\n",
      "            \"algo-1\"\n",
      "        ],\n",
      "        \"instance_groups\": [\n",
      "            {\n",
      "                \"instance_group_name\": \"homogeneousCluster\",\n",
      "                \"instance_type\": \"ml.p2.xlarge\",\n",
      "                \"hosts\": [\n",
      "                    \"algo-1\"\n",
      "                ]\n",
      "            }\n",
      "        ],\n",
      "        \"network_interface_name\": \"eth0\"\n",
      "    },\n",
      "    \"user_entry_point\": \"bert-topic.py\"\u001b[0m\n",
      "\u001b[34m}\u001b[0m\n",
      "\u001b[34mEnvironment variables:\u001b[0m\n",
      "\u001b[34mSM_HOSTS=[\"algo-1\"]\u001b[0m\n",
      "\u001b[34mSM_NETWORK_INTERFACE_NAME=eth0\u001b[0m\n",
      "\u001b[34mSM_HPS={\"language\":\"english\"}\u001b[0m\n",
      "\u001b[34mSM_USER_ENTRY_POINT=bert-topic.py\u001b[0m\n",
      "\u001b[34mSM_FRAMEWORK_PARAMS={}\u001b[0m\n",
      "\u001b[34mSM_RESOURCE_CONFIG={\"current_group_name\":\"homogeneousCluster\",\"current_host\":\"algo-1\",\"current_instance_type\":\"ml.p2.xlarge\",\"hosts\":[\"algo-1\"],\"instance_groups\":[{\"hosts\":[\"algo-1\"],\"instance_group_name\":\"homogeneousCluster\",\"instance_type\":\"ml.p2.xlarge\"}],\"network_interface_name\":\"eth0\"}\u001b[0m\n",
      "\u001b[34mSM_INPUT_DATA_CONFIG={\"training\":{\"RecordWrapperType\":\"None\",\"S3DistributionType\":\"FullyReplicated\",\"TrainingInputMode\":\"File\"}}\u001b[0m\n",
      "\u001b[34mSM_OUTPUT_DATA_DIR=/opt/ml/output/data\u001b[0m\n",
      "\u001b[34mSM_CHANNELS=[\"training\"]\u001b[0m\n",
      "\u001b[34mSM_CURRENT_HOST=algo-1\u001b[0m\n",
      "\u001b[34mSM_CURRENT_INSTANCE_TYPE=ml.p2.xlarge\u001b[0m\n",
      "\u001b[34mSM_CURRENT_INSTANCE_GROUP=homogeneousCluster\u001b[0m\n",
      "\u001b[34mSM_CURRENT_INSTANCE_GROUP_HOSTS=[\"algo-1\"]\u001b[0m\n",
      "\u001b[34mSM_INSTANCE_GROUPS=[\"homogeneousCluster\"]\u001b[0m\n",
      "\u001b[34mSM_INSTANCE_GROUPS_DICT={\"homogeneousCluster\":{\"hosts\":[\"algo-1\"],\"instance_group_name\":\"homogeneousCluster\",\"instance_type\":\"ml.p2.xlarge\"}}\u001b[0m\n",
      "\u001b[34mSM_DISTRIBUTION_INSTANCE_GROUPS=[]\u001b[0m\n",
      "\u001b[34mSM_IS_HETERO=false\u001b[0m\n",
      "\u001b[34mSM_MODULE_NAME=bert-topic\u001b[0m\n",
      "\u001b[34mSM_LOG_LEVEL=20\u001b[0m\n",
      "\u001b[34mSM_FRAMEWORK_MODULE=sagemaker_pytorch_container.training:main\u001b[0m\n",
      "\u001b[34mSM_INPUT_DIR=/opt/ml/input\u001b[0m\n",
      "\u001b[34mSM_INPUT_CONFIG_DIR=/opt/ml/input/config\u001b[0m\n",
      "\u001b[34mSM_OUTPUT_DIR=/opt/ml/output\u001b[0m\n",
      "\u001b[34mSM_NUM_CPUS=4\u001b[0m\n",
      "\u001b[34mSM_NUM_GPUS=1\u001b[0m\n",
      "\u001b[34mSM_NUM_NEURONS=0\u001b[0m\n",
      "\u001b[34mSM_MODEL_DIR=/opt/ml/model\u001b[0m\n",
      "\u001b[34mSM_MODULE_DIR=/opt/ml/code\u001b[0m\n",
      "\u001b[34mSM_TRAINING_ENV={\"additional_framework_parameters\":{},\"channel_input_dirs\":{\"training\":\"/opt/ml/input/data/training\"},\"current_host\":\"algo-1\",\"current_instance_group\":\"homogeneousCluster\",\"current_instance_group_hosts\":[\"algo-1\"],\"current_instance_type\":\"ml.p2.xlarge\",\"distribution_hosts\":[],\"distribution_instance_groups\":[],\"framework_module\":\"sagemaker_pytorch_container.training:main\",\"hosts\":[\"algo-1\"],\"hyperparameters\":{\"language\":\"english\"},\"input_config_dir\":\"/opt/ml/input/config\",\"input_data_config\":{\"training\":{\"RecordWrapperType\":\"None\",\"S3DistributionType\":\"FullyReplicated\",\"TrainingInputMode\":\"File\"}},\"input_dir\":\"/opt/ml/input\",\"instance_groups\":[\"homogeneousCluster\"],\"instance_groups_dict\":{\"homogeneousCluster\":{\"hosts\":[\"algo-1\"],\"instance_group_name\":\"homogeneousCluster\",\"instance_type\":\"ml.p2.xlarge\"}},\"is_hetero\":false,\"is_master\":true,\"is_modelparallel_enabled\":null,\"is_smddpmprun_installed\":true,\"job_name\":\"bert-topic-training-example-2023-03-02-12-19-47-456\",\"log_level\":20,\"master_hostname\":\"algo-1\",\"model_dir\":\"/opt/ml/model\",\"module_dir\":\"/opt/ml/code\",\"module_name\":\"bert-topic\",\"network_interface_name\":\"eth0\",\"num_cpus\":4,\"num_gpus\":1,\"num_neurons\":0,\"output_data_dir\":\"/opt/ml/output/data\",\"output_dir\":\"/opt/ml/output\",\"output_intermediate_dir\":\"/opt/ml/output/intermediate\",\"resource_config\":{\"current_group_name\":\"homogeneousCluster\",\"current_host\":\"algo-1\",\"current_instance_type\":\"ml.p2.xlarge\",\"hosts\":[\"algo-1\"],\"instance_groups\":[{\"hosts\":[\"algo-1\"],\"instance_group_name\":\"homogeneousCluster\",\"instance_type\":\"ml.p2.xlarge\"}],\"network_interface_name\":\"eth0\"},\"user_entry_point\":\"bert-topic.py\"}\u001b[0m\n",
      "\u001b[34mSM_USER_ARGS=[\"--language\",\"english\"]\u001b[0m\n",
      "\u001b[34mSM_OUTPUT_INTERMEDIATE_DIR=/opt/ml/output/intermediate\u001b[0m\n",
      "\u001b[34mSM_CHANNEL_TRAINING=/opt/ml/input/data/training\u001b[0m\n",
      "\u001b[34mSM_HP_LANGUAGE=english\u001b[0m\n",
      "\u001b[34mPYTHONPATH=/opt/ml/code:/opt/conda/bin:/opt/conda/lib/python38.zip:/opt/conda/lib/python3.8:/opt/conda/lib/python3.8/lib-dynload:/opt/conda/lib/python3.8/site-packages:/opt/conda/lib/python3.8/site-packages/smdebug-1.0.24b20230214-py3.8.egg:/opt/conda/lib/python3.8/site-packages/pyinstrument-3.4.2-py3.8.egg:/opt/conda/lib/python3.8/site-packages/pyinstrument_cext-0.2.4-py3.8-linux-x86_64.egg:/opt/conda/lib/python3.8/site-packages/flash_attn-0.1-py3.8-linux-x86_64.egg:/opt/conda/lib/python3.8/site-packages/einops-0.6.0-py3.8.egg\u001b[0m\n",
      "\u001b[34mInvoking script with the following command:\u001b[0m\n",
      "\u001b[34m/opt/conda/bin/python3.8 bert-topic.py --language english\u001b[0m\n",
      "\u001b[34m[2023-03-02 12:26:59.729: W smdistributed/modelparallel/torch/nn/predefined_hooks.py:78] Found unsupported HuggingFace version 4.26.1 for automated tensor parallelism. HuggingFace modules will not be automatically distributed. You can use smp.tp_register_with_module API to register desired modules for tensor parallelism, or directly instantiate an smp.nn.DistributedModule. Supported HuggingFace transformers versions for automated tensor parallelism: ['4.17.0', '4.20.1', '4.21.0']\u001b[0m\n",
      "\u001b[34m2023-03-02 12:26:59,981 sagemaker-training-toolkit INFO     Exceptions not imported for SageMaker TF as Tensorflow is not installed.\u001b[0m\n",
      "\u001b[34mLoading Training data\u001b[0m\n",
      "\u001b[34mdata_dir: /opt/ml/input/data/training\u001b[0m\n",
      "\u001b[34mStarted Training\u001b[0m\n",
      "\u001b[34mDownloading (…)e9125/.gitattributes:   0%|          | 0.00/1.18k [00:00<?, ?B/s]\u001b[0m\n",
      "\u001b[34mDownloading (…)e9125/.gitattributes: 100%|██████████| 1.18k/1.18k [00:00<00:00, 147kB/s]\u001b[0m\n",
      "\u001b[34mDownloading (…)_Pooling/config.json:   0%|          | 0.00/190 [00:00<?, ?B/s]\u001b[0m\n",
      "\u001b[34mDownloading (…)_Pooling/config.json: 100%|██████████| 190/190 [00:00<00:00, 26.9kB/s]\u001b[0m\n",
      "\u001b[34mDownloading (…)7e55de9125/README.md:   0%|          | 0.00/10.6k [00:00<?, ?B/s]\u001b[0m\n",
      "\u001b[34mDownloading (…)7e55de9125/README.md: 100%|██████████| 10.6k/10.6k [00:00<00:00, 5.27MB/s]\u001b[0m\n",
      "\u001b[34mDownloading (…)55de9125/config.json:   0%|          | 0.00/612 [00:00<?, ?B/s]\u001b[0m\n",
      "\u001b[34mDownloading (…)55de9125/config.json: 100%|██████████| 612/612 [00:00<00:00, 223kB/s]\u001b[0m\n",
      "\u001b[34mDownloading (…)ce_transformers.json:   0%|          | 0.00/116 [00:00<?, ?B/s]\u001b[0m\n",
      "\u001b[34mDownloading (…)ce_transformers.json: 100%|██████████| 116/116 [00:00<00:00, 65.7kB/s]\u001b[0m\n",
      "\u001b[34mDownloading (…)125/data_config.json:   0%|          | 0.00/39.3k [00:00<?, ?B/s]\u001b[0m\n",
      "\u001b[34mDownloading (…)125/data_config.json: 100%|██████████| 39.3k/39.3k [00:00<00:00, 16.9MB/s]\u001b[0m\n",
      "\u001b[34mDownloading (…)\"pytorch_model.bin\";:   0%|          | 0.00/90.9M [00:00<?, ?B/s]\u001b[0m\n",
      "\u001b[34mDownloading (…)\"pytorch_model.bin\";:  35%|███▍      | 31.5M/90.9M [00:00<00:00, 300MB/s]\u001b[0m\n",
      "\u001b[34mDownloading (…)\"pytorch_model.bin\";:  92%|█████████▏| 83.9M/90.9M [00:00<00:00, 381MB/s]\u001b[0m\n",
      "\u001b[34mDownloading (…)\"pytorch_model.bin\";: 100%|██████████| 90.9M/90.9M [00:00<00:00, 365MB/s]\u001b[0m\n",
      "\u001b[34mDownloading (…)nce_bert_config.json:   0%|          | 0.00/53.0 [00:00<?, ?B/s]\u001b[0m\n",
      "\u001b[34mDownloading (…)nce_bert_config.json: 100%|██████████| 53.0/53.0 [00:00<00:00, 7.05kB/s]\u001b[0m\n",
      "\u001b[34mDownloading (…)cial_tokens_map.json:   0%|          | 0.00/112 [00:00<?, ?B/s]\u001b[0m\n",
      "\u001b[34mDownloading (…)cial_tokens_map.json: 100%|██████████| 112/112 [00:00<00:00, 38.5kB/s]\u001b[0m\n",
      "\u001b[34mDownloading (…)e9125/tokenizer.json:   0%|          | 0.00/466k [00:00<?, ?B/s]\u001b[0m\n",
      "\u001b[34mDownloading (…)e9125/tokenizer.json: 100%|██████████| 466k/466k [00:00<00:00, 52.0MB/s]\u001b[0m\n",
      "\u001b[34mDownloading (…)okenizer_config.json:   0%|          | 0.00/350 [00:00<?, ?B/s]\u001b[0m\n",
      "\u001b[34mDownloading (…)okenizer_config.json: 100%|██████████| 350/350 [00:00<00:00, 115kB/s]\u001b[0m\n",
      "\u001b[34mDownloading (…)9125/train_script.py:   0%|          | 0.00/13.2k [00:00<?, ?B/s]\u001b[0m\n",
      "\u001b[34mDownloading (…)9125/train_script.py: 100%|██████████| 13.2k/13.2k [00:00<00:00, 6.62MB/s]\u001b[0m\n",
      "\u001b[34mDownloading (…)7e55de9125/vocab.txt:   0%|          | 0.00/232k [00:00<?, ?B/s]\u001b[0m\n",
      "\u001b[34mDownloading (…)7e55de9125/vocab.txt: 100%|██████████| 232k/232k [00:00<00:00, 42.5MB/s]\u001b[0m\n",
      "\u001b[34mDownloading (…)5de9125/modules.json:   0%|          | 0.00/349 [00:00<?, ?B/s]\u001b[0m\n",
      "\u001b[34mDownloading (…)5de9125/modules.json: 100%|██████████| 349/349 [00:00<00:00, 114kB/s]\u001b[0m\n",
      "\u001b[34mFinished Training\u001b[0m\n",
      "\u001b[34m2023-03-02 12:27:30,046 sagemaker-training-toolkit INFO     Waiting for the process to finish and give a return code.\u001b[0m\n",
      "\u001b[34m2023-03-02 12:27:30,047 sagemaker-training-toolkit INFO     Done waiting for a return code. Received 0 from exiting process.\u001b[0m\n",
      "\u001b[34m2023-03-02 12:27:30,047 sagemaker-training-toolkit INFO     Reporting training SUCCESS\u001b[0m\n",
      "\n",
      "2023-03-02 12:27:35 Uploading - Uploading generated training model\n",
      "2023-03-02 12:27:56 Completed - Training job completed\n",
      "Training seconds: 388\n",
      "Billable seconds: 388\n"
     ]
    }
   ],
   "source": [
    "from sagemaker.estimator import Estimator\n",
    "\n",
    "hyperparameters = {\"language\": \"english\"}\n",
    "\n",
    "# instance_type = \"ml.g4dn.xlarge\"\n",
    "instance_type = \"ml.p2.xlarge\"\n",
    "\n",
    "estimator = Estimator(\n",
    "    role=role,\n",
    "    train_instance_count=1,\n",
    "    train_instance_type=instance_type,\n",
    "    image_uri=ecr_image,\n",
    "    hyperparameters=hyperparameters,\n",
    ")\n",
    "\n",
    "estimator.fit(data_location)"
   ]
  },
  {
   "cell_type": "code",
   "execution_count": 35,
   "metadata": {},
   "outputs": [
    {
     "data": {
      "text/plain": [
       "'s3://sagemaker-us-east-1-600743882593/bert-topic-training-example-2023-03-02-12-19-47-456/output/model.tar.gz'"
      ]
     },
     "execution_count": 35,
     "metadata": {},
     "output_type": "execute_result"
    }
   ],
   "source": [
    "# check where the fitted model has been stored after fit\n",
    "estimator.model_data"
   ]
  },
  {
   "cell_type": "markdown",
   "metadata": {},
   "source": [
    "## Part 3: Packaging and Uploading your Algorithm for inference\n",
    "\n",
    "### The Dockerfile\n",
    "\n",
    "Also in this case the Dockerfile describes the image that we want to build. \n",
    "\n",
    "We start from the SageMaker PyTorch image as the base, but the *inference* one. \n",
    "\n",
    "So the SageMaker PyTorch ECR image in this case would be:\n",
    "* FROM 763104351884.dkr.ecr.us-east-1.amazonaws.com/pytorch-inference:1.12.1-gpu-py38-cu113-ubuntu20.04-sagemaker\n",
    "\n",
    "Next, we install the required additional libraries (we make sure that to install numba==0.53.1 and nvgpu together with berttopic, otherwise we would get an error!) and add the code that implements our specific algorithm to the container, and set up the right environment for it to run under.\n",
    "\n",
    "Finally, we need to specify two environment variables.\n",
    "1. SAGEMAKER_SUBMIT_DIRECTORY - the directory within the container containing our Python script for training and inference.\n",
    "2. SAGEMAKER_PROGRAM - the Python script that should be invoked for training and inference.\n",
    "\n",
    "Let's look at the Dockerfile for this example."
   ]
  },
  {
   "cell_type": "code",
   "execution_count": 36,
   "metadata": {},
   "outputs": [
    {
     "name": "stdout",
     "output_type": "stream",
     "text": [
      "# Copyright 2017-2018 Amazon.com, Inc. or its affiliates. All Rights Reserved.\n",
      "#\n",
      "# Licensed under the Apache License, Version 2.0 (the \"License\"). You\n",
      "# may not use this file except in compliance with the License. A copy of\n",
      "# the License is located at\n",
      "#\n",
      "#     http://aws.amazon.com/apache2.0/\n",
      "#\n",
      "# or in the \"license\" file accompanying this file. This file is\n",
      "# distributed on an \"AS IS\" BASIS, WITHOUT WARRANTIES OR CONDITIONS OF\n",
      "# ANY KIND, either express or implied. See the License for the specific\n",
      "# language governing permissions and limitations under the License.\n",
      "\n",
      "# For more information on creating a Dockerfile\n",
      "# https://docs.docker.com/compose/gettingstarted/#step-2-create-a-dockerfile\n",
      "# https://github.com/awslabs/amazon-sagemaker-examples/master/advanced_functionality/pytorch_extending_our_containers/pytorch_extending_our_containers.ipynb\n",
      "\n",
      "ARG REGION=us-east-1\n",
      "\n",
      "# SageMaker PyTorch image for INFERENCE\n",
      "FROM 763104351884.dkr.ecr.$REGION.amazonaws.com/pytorch-inference:1.12.1-gpu-py38-cu113-ubuntu20.04-sagemaker\n",
      "\n",
      "ENV PATH=\"/opt/ml/code:${PATH}\"\n",
      "\n",
      "# /opt/ml and all subdirectories are utilized by SageMaker, we use the /code subdirectory to store our user code.\n",
      "COPY /bert-topic /opt/ml/code\n",
      "\n",
      "# this environment variable is used by the SageMaker PyTorch container to determine our user code directory.\n",
      "ENV SAGEMAKER_SUBMIT_DIRECTORY /opt/ml/code\n",
      "\n",
      "# this environment variable is used by the SageMaker PyTorch container to determine our program entry point\n",
      "# for training and serving.\n",
      "# For more information: https://github.com/aws/sagemaker-pytorch-container\n",
      "ENV SAGEMAKER_PROGRAM bert-topic-inference.py\n",
      "\n",
      "RUN pip install --no-cache-dir --upgrade pip && \\\n",
      "    pip install --no-cache-dir numba==0.53.1 protobuf==3.20.* && pip install --no-cache-dir bertopic==0.12.0 nvgpu smdebug\n",
      "\n",
      "RUN pip freeze\n"
     ]
    }
   ],
   "source": [
    "!cat container/Dockerfile-inference"
   ]
  },
  {
   "cell_type": "markdown",
   "metadata": {},
   "source": [
    "### Writing your own inference script (bert-topic-inference.py)\n",
    "\n",
    "Given the use of a pre-packaged SageMaker Pytorch container, the only requirement to write an inference script is that it has to define the following template functions:\n",
    "- `model_fn()` reading the content of an existing model weights directory saved as a `tar.gz` in s3. We will use it to load the trained Model.\n",
    "- `input_fn()` used here simply to format the data receives from a request made to the endpoint.\n",
    "- `predict_fn()` calling the output of `model_fn()` to run inference on the output of `input_fn()`.\n",
    "\n",
    "Optionally a `output_fn()` can be created for inference formatting, using the output of `predict_fn()`. Here it is especially useful since the BERTopic inference output is not really standard, featuring a tuple containing 2 lists.\n"
   ]
  },
  {
   "cell_type": "code",
   "execution_count": 37,
   "metadata": {},
   "outputs": [
    {
     "name": "stdout",
     "output_type": "stream",
     "text": [
      "\u001b[37m# Copyright 2017-2018 Amazon.com, Inc. or its affiliates. All Rights Reserved.\u001b[39;49;00m\u001b[37m\u001b[39;49;00m\n",
      "\u001b[37m#\u001b[39;49;00m\u001b[37m\u001b[39;49;00m\n",
      "\u001b[37m# Licensed under the Apache License, Version 2.0 (the \"License\"). You\u001b[39;49;00m\u001b[37m\u001b[39;49;00m\n",
      "\u001b[37m# may not use this file except in compliance with the License. A copy of\u001b[39;49;00m\u001b[37m\u001b[39;49;00m\n",
      "\u001b[37m# the License is located at\u001b[39;49;00m\u001b[37m\u001b[39;49;00m\n",
      "\u001b[37m#\u001b[39;49;00m\u001b[37m\u001b[39;49;00m\n",
      "\u001b[37m#     http://aws.amazon.com/apache2.0/\u001b[39;49;00m\u001b[37m\u001b[39;49;00m\n",
      "\u001b[37m#\u001b[39;49;00m\u001b[37m\u001b[39;49;00m\n",
      "\u001b[37m# or in the \"license\" file accompanying this file. This file is\u001b[39;49;00m\u001b[37m\u001b[39;49;00m\n",
      "\u001b[37m# distributed on an \"AS IS\" BASIS, WITHOUT WARRANTIES OR CONDITIONS OF\u001b[39;49;00m\u001b[37m\u001b[39;49;00m\n",
      "\u001b[37m# ANY KIND, either express or implied. See the License for the specific\u001b[39;49;00m\u001b[37m\u001b[39;49;00m\n",
      "\u001b[37m# language governing permissions and limitations under the License.\u001b[39;49;00m\u001b[37m\u001b[39;49;00m\n",
      "\u001b[34mimport\u001b[39;49;00m \u001b[04m\u001b[36margparse\u001b[39;49;00m\u001b[37m\u001b[39;49;00m\n",
      "\u001b[34mimport\u001b[39;49;00m \u001b[04m\u001b[36mast\u001b[39;49;00m\u001b[37m\u001b[39;49;00m\n",
      "\u001b[34mimport\u001b[39;49;00m \u001b[04m\u001b[36mlogging\u001b[39;49;00m\u001b[37m\u001b[39;49;00m\n",
      "\u001b[34mimport\u001b[39;49;00m \u001b[04m\u001b[36mos\u001b[39;49;00m\u001b[37m\u001b[39;49;00m\n",
      "\u001b[34mimport\u001b[39;49;00m \u001b[04m\u001b[36mtorch\u001b[39;49;00m\u001b[37m\u001b[39;49;00m\n",
      "\u001b[34mimport\u001b[39;49;00m \u001b[04m\u001b[36mjson\u001b[39;49;00m\u001b[37m\u001b[39;49;00m\n",
      "\u001b[34mfrom\u001b[39;49;00m \u001b[04m\u001b[36mbertopic\u001b[39;49;00m \u001b[34mimport\u001b[39;49;00m BERTopic\u001b[37m\u001b[39;49;00m\n",
      "\u001b[37m\u001b[39;49;00m\n",
      "JSON_CONTENT_TYPE = \u001b[33m'\u001b[39;49;00m\u001b[33mapplication/json\u001b[39;49;00m\u001b[33m'\u001b[39;49;00m\u001b[37m\u001b[39;49;00m\n",
      "\u001b[37m\u001b[39;49;00m\n",
      "logger = logging.getLogger(\u001b[31m__name__\u001b[39;49;00m)\u001b[37m\u001b[39;49;00m\n",
      "logger.setLevel(logging.DEBUG)\u001b[37m\u001b[39;49;00m\n",
      "\u001b[37m\u001b[39;49;00m\n",
      "\u001b[37m\u001b[39;49;00m\n",
      "\u001b[34mdef\u001b[39;49;00m \u001b[32mmodel_fn\u001b[39;49;00m(model_dir):    \u001b[37m\u001b[39;49;00m\n",
      "    logger.info(\u001b[33mf\u001b[39;49;00m\u001b[33m\"\u001b[39;49;00m\u001b[33minside model_fn, model_dir= \u001b[39;49;00m\u001b[33m{\u001b[39;49;00mmodel_dir\u001b[33m}\u001b[39;49;00m\u001b[33m\"\u001b[39;49;00m)\u001b[37m\u001b[39;49;00m\n",
      "    device = \u001b[33m\"\u001b[39;49;00m\u001b[33mcuda\u001b[39;49;00m\u001b[33m\"\u001b[39;49;00m \u001b[34mif\u001b[39;49;00m torch.cuda.is_available() \u001b[34melse\u001b[39;49;00m \u001b[33m\"\u001b[39;49;00m\u001b[33mcpu\u001b[39;49;00m\u001b[33m\"\u001b[39;49;00m\u001b[37m\u001b[39;49;00m\n",
      "    logger.info(\u001b[33m\"\u001b[39;49;00m\u001b[33mDevice Type: \u001b[39;49;00m\u001b[33m{}\u001b[39;49;00m\u001b[33m\"\u001b[39;49;00m.format(device))\u001b[37m\u001b[39;49;00m\n",
      "    model = BERTopic.load(os.path.join(model_dir, \u001b[33m'\u001b[39;49;00m\u001b[33mmy_model\u001b[39;49;00m\u001b[33m'\u001b[39;49;00m))\u001b[37m\u001b[39;49;00m\n",
      "    \u001b[34mreturn\u001b[39;49;00m model\u001b[37m\u001b[39;49;00m\n",
      "\u001b[37m\u001b[39;49;00m\n",
      "\u001b[34mdef\u001b[39;49;00m \u001b[32mpredict_fn\u001b[39;49;00m(data, model):\u001b[37m\u001b[39;49;00m\n",
      "    logger.info(\u001b[33mf\u001b[39;49;00m\u001b[33m'\u001b[39;49;00m\u001b[33mGot input Data: \u001b[39;49;00m\u001b[33m{\u001b[39;49;00mdata\u001b[33m}\u001b[39;49;00m\u001b[33m'\u001b[39;49;00m)\u001b[37m\u001b[39;49;00m\n",
      "    \u001b[34mreturn\u001b[39;49;00m model.transform(data)\u001b[37m\u001b[39;49;00m\n",
      "\u001b[37m\u001b[39;49;00m\n",
      "\u001b[34mdef\u001b[39;49;00m \u001b[32minput_fn\u001b[39;49;00m(serialized_input_data, content_type=JSON_CONTENT_TYPE):\u001b[37m\u001b[39;49;00m\n",
      "    logger.info(\u001b[33mf\u001b[39;49;00m\u001b[33m\"\u001b[39;49;00m\u001b[33mserialized_input_data object: \u001b[39;49;00m\u001b[33m{\u001b[39;49;00mserialized_input_data\u001b[33m}\u001b[39;49;00m\u001b[33m\"\u001b[39;49;00m)\u001b[37m\u001b[39;49;00m\n",
      "    \u001b[34mif\u001b[39;49;00m content_type == JSON_CONTENT_TYPE:\u001b[37m\u001b[39;49;00m\n",
      "        input_data = json.loads(serialized_input_data)\u001b[37m\u001b[39;49;00m\n",
      "        logger.info(\u001b[33mf\u001b[39;49;00m\u001b[33m\"\u001b[39;49;00m\u001b[33minput_data object: \u001b[39;49;00m\u001b[33m{\u001b[39;49;00minput_data\u001b[33m}\u001b[39;49;00m\u001b[33m\"\u001b[39;49;00m)\u001b[37m\u001b[39;49;00m\n",
      "        \u001b[34mreturn\u001b[39;49;00m input_data\u001b[37m\u001b[39;49;00m\n",
      "\u001b[37m\u001b[39;49;00m\n",
      "    \u001b[34melse\u001b[39;49;00m:\u001b[37m\u001b[39;49;00m\n",
      "        \u001b[34mraise\u001b[39;49;00m \u001b[36mException\u001b[39;49;00m(\u001b[33m'\u001b[39;49;00m\u001b[33mRequested unsupported ContentType in Accept: \u001b[39;49;00m\u001b[33m'\u001b[39;49;00m + content_type)\u001b[37m\u001b[39;49;00m\n",
      "        \u001b[34mreturn\u001b[39;49;00m\u001b[37m\u001b[39;49;00m\n",
      "    \u001b[37m\u001b[39;49;00m\n",
      "\u001b[34mdef\u001b[39;49;00m \u001b[32moutput_fn\u001b[39;49;00m(prediction, content_type):\u001b[37m\u001b[39;49;00m\n",
      "    logger.info(\u001b[33mf\u001b[39;49;00m\u001b[33m\"\u001b[39;49;00m\u001b[33mprediction object before: \u001b[39;49;00m\u001b[33m{\u001b[39;49;00mprediction\u001b[33m}\u001b[39;49;00m\u001b[33m, type: \u001b[39;49;00m\u001b[33m{\u001b[39;49;00m\u001b[36mtype\u001b[39;49;00m(prediction)\u001b[33m}\u001b[39;49;00m\u001b[33m\"\u001b[39;49;00m)\u001b[37m\u001b[39;49;00m\n",
      "    prediction = \u001b[36mlist\u001b[39;49;00m(prediction)\u001b[37m\u001b[39;49;00m\n",
      "    logger.info(\u001b[33mf\u001b[39;49;00m\u001b[33m\"\u001b[39;49;00m\u001b[33mprediction object after: \u001b[39;49;00m\u001b[33m{\u001b[39;49;00mprediction\u001b[33m}\u001b[39;49;00m\u001b[33m, type: \u001b[39;49;00m\u001b[33m{\u001b[39;49;00m\u001b[36mtype\u001b[39;49;00m(prediction)\u001b[33m}\u001b[39;49;00m\u001b[33m\"\u001b[39;49;00m)\u001b[37m\u001b[39;49;00m\n",
      "    prediction[\u001b[34m0\u001b[39;49;00m] = [\u001b[36mint\u001b[39;49;00m(res_class) \u001b[34mfor\u001b[39;49;00m res_class \u001b[35min\u001b[39;49;00m prediction[\u001b[34m0\u001b[39;49;00m]]\u001b[37m\u001b[39;49;00m\n",
      "    logger.info(\u001b[33mf\u001b[39;49;00m\u001b[33m\"\u001b[39;49;00m\u001b[33mprediction[0] object after: \u001b[39;49;00m\u001b[33m{\u001b[39;49;00mprediction[\u001b[34m0\u001b[39;49;00m]\u001b[33m}\u001b[39;49;00m\u001b[33m, type: \u001b[39;49;00m\u001b[33m{\u001b[39;49;00m\u001b[36mtype\u001b[39;49;00m(prediction[\u001b[34m0\u001b[39;49;00m])\u001b[33m}\u001b[39;49;00m\u001b[33m\"\u001b[39;49;00m)\u001b[37m\u001b[39;49;00m\n",
      "    prediction[\u001b[34m1\u001b[39;49;00m] = [\u001b[36mfloat\u001b[39;49;00m(res_class) \u001b[34mfor\u001b[39;49;00m res_class \u001b[35min\u001b[39;49;00m prediction[\u001b[34m1\u001b[39;49;00m]]\u001b[37m\u001b[39;49;00m\n",
      "    logger.info(\u001b[33mf\u001b[39;49;00m\u001b[33m\"\u001b[39;49;00m\u001b[33mprediction[1] object after: \u001b[39;49;00m\u001b[33m{\u001b[39;49;00mprediction[\u001b[34m0\u001b[39;49;00m]\u001b[33m}\u001b[39;49;00m\u001b[33m, type: \u001b[39;49;00m\u001b[33m{\u001b[39;49;00m\u001b[36mtype\u001b[39;49;00m(prediction[\u001b[34m1\u001b[39;49;00m])\u001b[33m}\u001b[39;49;00m\u001b[33m\"\u001b[39;49;00m)    \u001b[37m\u001b[39;49;00m\n",
      "    prediction_result = { \u001b[33m\"\u001b[39;49;00m\u001b[33mpredictions\u001b[39;49;00m\u001b[33m\"\u001b[39;49;00m: prediction[\u001b[34m0\u001b[39;49;00m],\u001b[37m\u001b[39;49;00m\n",
      "                         \u001b[33m\"\u001b[39;49;00m\u001b[33mscores\u001b[39;49;00m\u001b[33m\"\u001b[39;49;00m: prediction[\u001b[34m1\u001b[39;49;00m],\u001b[37m\u001b[39;49;00m\n",
      "                        }\u001b[37m\u001b[39;49;00m\n",
      "    prediction_result = json.dumps(prediction)\u001b[37m\u001b[39;49;00m\n",
      "    logger.info(\u001b[33mf\u001b[39;49;00m\u001b[33m\"\u001b[39;49;00m\u001b[33mprediction_result object: \u001b[39;49;00m\u001b[33m{\u001b[39;49;00mprediction_result\u001b[33m}\u001b[39;49;00m\u001b[33m\"\u001b[39;49;00m)\u001b[37m\u001b[39;49;00m\n",
      "    \u001b[34mreturn\u001b[39;49;00m prediction_result\u001b[37m\u001b[39;49;00m\n"
     ]
    }
   ],
   "source": [
    "!pygmentize container/bert-topic/bert-topic-inference.py"
   ]
  },
  {
   "cell_type": "code",
   "execution_count": 38,
   "metadata": {},
   "outputs": [],
   "source": [
    "# The name of our algorithm -- i.e. the name of the inference container\n",
    "inference_algorithm_name = \"pytorch-inference-bert-topic-example\""
   ]
  },
  {
   "cell_type": "code",
   "execution_count": 39,
   "metadata": {},
   "outputs": [
    {
     "name": "stdout",
     "output_type": "stream",
     "text": [
      "ECR image fullname: 600743882593.dkr.ecr.us-east-1.amazonaws.com/pytorch-inference-bert-topic-example:latest\n",
      "WARNING! Your password will be stored unencrypted in /home/ec2-user/.docker/config.json.\n",
      "Configure a credential helper to remove this warning. See\n",
      "https://docs.docker.com/engine/reference/commandline/login/#credentials-store\n",
      "\n",
      "Login Succeeded\n",
      "WARNING! Your password will be stored unencrypted in /home/ec2-user/.docker/config.json.\n",
      "Configure a credential helper to remove this warning. See\n",
      "https://docs.docker.com/engine/reference/commandline/login/#credentials-store\n",
      "\n",
      "Login Succeeded\n",
      "Sending build context to Docker daemon  28.67kB\n",
      "Step 1/8 : ARG REGION=us-east-1\n",
      "Step 2/8 : FROM 763104351884.dkr.ecr.$REGION.amazonaws.com/pytorch-inference:1.12.1-gpu-py38-cu113-ubuntu20.04-sagemaker\n",
      "1.12.1-gpu-py38-cu113-ubuntu20.04-sagemaker: Pulling from pytorch-inference\n",
      "\n",
      "\u001b[1B0b181fff: Already exists \n",
      "\u001b[1Bdd88827c: Already exists \n",
      "\u001b[1B1d7060d0: Already exists \n",
      "\u001b[1B76058f67: Already exists \n",
      "\u001b[1B4c52c661: Already exists \n",
      "\u001b[1B0896c4cf: Pulling fs layer \n",
      "\u001b[1B4ebf7138: Pulling fs layer \n",
      "\u001b[1Bc96776f5: Pulling fs layer \n",
      "\u001b[1Bc6997db2: Pulling fs layer \n",
      "\u001b[1B48b1b583: Pulling fs layer \n",
      "\u001b[1B2e3703a5: Pulling fs layer \n",
      "\u001b[1B8f8f8237: Pulling fs layer \n",
      "\u001b[1B04e63ad6: Pulling fs layer \n",
      "\u001b[1Bf70c0888: Pulling fs layer \n",
      "\u001b[1B90f18670: Pulling fs layer \n",
      "\u001b[1B33e7c7c3: Pulling fs layer \n",
      "\u001b[9Bc6997db2: Waiting fs layer \n",
      "\u001b[1Bc2592985: Pulling fs layer \n",
      "\u001b[1B41b4a25b: Pulling fs layer \n",
      "\u001b[1B6f73bb20: Pulling fs layer \n",
      "\u001b[12B8b1b583: Waiting fs layer \n",
      "\u001b[12Be3703a5: Waiting fs layer \n",
      "\u001b[1B8ec9111b: Pulling fs layer \n",
      "\u001b[13Bf8f8237: Waiting fs layer \n",
      "\u001b[1Bd8a10f6c: Pulling fs layer \n",
      "\u001b[1B3cb280db: Pulling fs layer \n",
      "\u001b[15B4e63ad6: Waiting fs layer \n",
      "\u001b[15B70c0888: Waiting fs layer \n",
      "\u001b[15B0f18670: Waiting fs layer \n",
      "\u001b[1B3df6332f: Pulling fs layer \n",
      "\u001b[16B3e7c7c3: Waiting fs layer \n",
      "\u001b[1Bc60f5efd: Pulling fs layer \n",
      "\u001b[27Bebf7138: Extracting  3.254GB/3.254GBB\u001b[28A\u001b[2K\u001b[26A\u001b[2K\u001b[28A\u001b[2K\u001b[26A\u001b[2K\u001b[27A\u001b[2K\u001b[25A\u001b[2K\u001b[24A\u001b[2K\u001b[25A\u001b[2K\u001b[27A\u001b[2K\u001b[23A\u001b[2K\u001b[25A\u001b[2K\u001b[22A\u001b[2K\u001b[22A\u001b[2K\u001b[25A\u001b[2K\u001b[27A\u001b[2K\u001b[21A\u001b[2K\u001b[27A\u001b[2K\u001b[21A\u001b[2K\u001b[27A\u001b[2K\u001b[21A\u001b[2K\u001b[25A\u001b[2K\u001b[27A\u001b[2K\u001b[25A\u001b[2K\u001b[21A\u001b[2K\u001b[25A\u001b[2K\u001b[25A\u001b[2K\u001b[27A\u001b[2K\u001b[21A\u001b[2K\u001b[27A\u001b[2K\u001b[25A\u001b[2K\u001b[27A\u001b[2K\u001b[25A\u001b[2K\u001b[21A\u001b[2K\u001b[21A\u001b[2K\u001b[27A\u001b[2K\u001b[27A\u001b[2K\u001b[25A\u001b[2K\u001b[21A\u001b[2K\u001b[25A\u001b[2K\u001b[27A\u001b[2K\u001b[21A\u001b[2K\u001b[25A\u001b[2K\u001b[25A\u001b[2K\u001b[25A\u001b[2K\u001b[25A\u001b[2K\u001b[21A\u001b[2K\u001b[25A\u001b[2K\u001b[21A\u001b[2K\u001b[25A\u001b[2K\u001b[21A\u001b[2K\u001b[21A\u001b[2K\u001b[27A\u001b[2K\u001b[25A\u001b[2K\u001b[27A\u001b[2K\u001b[25A\u001b[2K\u001b[21A\u001b[2K\u001b[25A\u001b[2K\u001b[21A\u001b[2K\u001b[25A\u001b[2K\u001b[21A\u001b[2K\u001b[25A\u001b[2K\u001b[21A\u001b[2K\u001b[25A\u001b[2K\u001b[21A\u001b[2K\u001b[27A\u001b[2K\u001b[25A\u001b[2K\u001b[25A\u001b[2K\u001b[27A\u001b[2K\u001b[21A\u001b[2K\u001b[25A\u001b[2K\u001b[21A\u001b[2K\u001b[27A\u001b[2K\u001b[25A\u001b[2K\u001b[27A\u001b[2K\u001b[25A\u001b[2K\u001b[27A\u001b[2K\u001b[25A\u001b[2K\u001b[25A\u001b[2K\u001b[21A\u001b[2K\u001b[21A\u001b[2K\u001b[21A\u001b[2K\u001b[21A\u001b[2K\u001b[25A\u001b[2K\u001b[21A\u001b[2K\u001b[25A\u001b[2K\u001b[27A\u001b[2K\u001b[25A\u001b[2K\u001b[25A\u001b[2K\u001b[21A\u001b[2K\u001b[27A\u001b[2K\u001b[21A\u001b[2K\u001b[27A\u001b[2K\u001b[25A\u001b[2K\u001b[27A\u001b[2K\u001b[21A\u001b[2K\u001b[25A\u001b[2K\u001b[21A\u001b[2K\u001b[25A\u001b[2K\u001b[27A\u001b[2K\u001b[21A\u001b[2K\u001b[21A\u001b[2K\u001b[25A\u001b[2K\u001b[21A\u001b[2K\u001b[27A\u001b[2K\u001b[27A\u001b[2K\u001b[21A\u001b[2K\u001b[25A\u001b[2K\u001b[21A\u001b[2K\u001b[21A\u001b[2K\u001b[27A\u001b[2K\u001b[25A\u001b[2K\u001b[27A\u001b[2K\u001b[25A\u001b[2K\u001b[27A\u001b[2K\u001b[25A\u001b[2K\u001b[21A\u001b[2K\u001b[25A\u001b[2K\u001b[27A\u001b[2K\u001b[27A\u001b[2K\u001b[21A\u001b[2K\u001b[27A\u001b[2K\u001b[21A\u001b[2K\u001b[27A\u001b[2K\u001b[21A\u001b[2K\u001b[21A\u001b[2K\u001b[25A\u001b[2K\u001b[21A\u001b[2K\u001b[21A\u001b[2K\u001b[25A\u001b[2K\u001b[21A\u001b[2K\u001b[25A\u001b[2K\u001b[21A\u001b[2K\u001b[25A\u001b[2K\u001b[27A\u001b[2K\u001b[21A\u001b[2K\u001b[27A\u001b[2K\u001b[25A\u001b[2K\u001b[21A\u001b[2K\u001b[25A\u001b[2K\u001b[27A\u001b[2K\u001b[21A\u001b[2K\u001b[27A\u001b[2K\u001b[21A\u001b[2K\u001b[27A\u001b[2K\u001b[21A\u001b[2K\u001b[25A\u001b[2K\u001b[25A\u001b[2K\u001b[27A\u001b[2K\u001b[27A\u001b[2K\u001b[25A\u001b[2K\u001b[21A\u001b[2K\u001b[27A\u001b[2K\u001b[25A\u001b[2K\u001b[27A\u001b[2K\u001b[21A\u001b[2K\u001b[27A\u001b[2K\u001b[21A\u001b[2K\u001b[27A\u001b[2K\u001b[21A\u001b[2K\u001b[25A\u001b[2K\u001b[21A\u001b[2K\u001b[25A\u001b[2K\u001b[27A\u001b[2K\u001b[25A\u001b[2K\u001b[27A\u001b[2K\u001b[25A\u001b[2K\u001b[21A\u001b[2K\u001b[25A\u001b[2K\u001b[27A\u001b[2K\u001b[21A\u001b[2K\u001b[27A\u001b[2K\u001b[25A\u001b[2K\u001b[21A\u001b[2K\u001b[27A\u001b[2K\u001b[27A\u001b[2K\u001b[27A\u001b[2K\u001b[25A\u001b[2K\u001b[27A\u001b[2K\u001b[21A\u001b[2K\u001b[25A\u001b[2K\u001b[21A\u001b[2K\u001b[25A\u001b[2K\u001b[21A\u001b[2K\u001b[25A\u001b[2K\u001b[27A\u001b[2K\u001b[27A\u001b[2K\u001b[21A\u001b[2K\u001b[27A\u001b[2K\u001b[21A\u001b[2K\u001b[25A\u001b[2K\u001b[21A\u001b[2K\u001b[27A\u001b[2K\u001b[21A\u001b[2K\u001b[25A\u001b[2K\u001b[21A\u001b[2K\u001b[25A\u001b[2K\u001b[21A\u001b[2K\u001b[21A\u001b[2K\u001b[25A\u001b[2K\u001b[21A\u001b[2K\u001b[25A\u001b[2K\u001b[27A\u001b[2K\u001b[25A\u001b[2K\u001b[27A\u001b[2K\u001b[25A\u001b[2K\u001b[25A\u001b[2K\u001b[21A\u001b[2K\u001b[27A\u001b[2K\u001b[21A\u001b[2K\u001b[27A\u001b[2K\u001b[27A\u001b[2K\u001b[21A\u001b[2K\u001b[25A\u001b[2K\u001b[21A\u001b[2K\u001b[25A\u001b[2K\u001b[21A\u001b[2K\u001b[27A\u001b[2K\u001b[25A\u001b[2K\u001b[21A\u001b[2K\u001b[25A\u001b[2K\u001b[27A\u001b[2K\u001b[25A\u001b[2K\u001b[21A\u001b[2K\u001b[27A\u001b[2K\u001b[25A\u001b[2K\u001b[27A\u001b[2K\u001b[25A\u001b[2K\u001b[21A\u001b[2K\u001b[25A\u001b[2K\u001b[21A\u001b[2K\u001b[27A\u001b[2K\u001b[21A\u001b[2K\u001b[27A\u001b[2K\u001b[21A\u001b[2K\u001b[25A\u001b[2K\u001b[27A\u001b[2K\u001b[21A\u001b[2K\u001b[25A\u001b[2K\u001b[21A\u001b[2K\u001b[25A\u001b[2K\u001b[25A\u001b[2K\u001b[27A\u001b[2K\u001b[27A\u001b[2K\u001b[21A\u001b[2K\u001b[27A\u001b[2K\u001b[25A\u001b[2K\u001b[21A\u001b[2K\u001b[25A\u001b[2K\u001b[20A\u001b[2K\u001b[25A\u001b[2K\u001b[27A\u001b[2K\u001b[25A\u001b[2K\u001b[27A\u001b[2K\u001b[19A\u001b[2K\u001b[25A\u001b[2K\u001b[18A\u001b[2K\u001b[25A\u001b[2K\u001b[18A\u001b[2K\u001b[27A\u001b[2K\u001b[25A\u001b[2K\u001b[27A\u001b[2K\u001b[25A\u001b[2K\u001b[27A\u001b[2K\u001b[25A\u001b[2K\u001b[18A\u001b[2K\u001b[25A\u001b[2K\u001b[17A\u001b[2K\u001b[18A\u001b[2K\u001b[18A\u001b[2K\u001b[16A\u001b[2K\u001b[18A\u001b[2K\u001b[16A\u001b[2K\u001b[16A\u001b[2K\u001b[27A\u001b[2K\u001b[16A\u001b[2K\u001b[27A\u001b[2K\u001b[16A\u001b[2K\u001b[18A\u001b[2K\u001b[16A\u001b[2K\u001b[18A\u001b[2K\u001b[27A\u001b[2K\u001b[18A\u001b[2K\u001b[27A\u001b[2K\u001b[18A\u001b[2K\u001b[27A\u001b[2K\u001b[27A\u001b[2K\u001b[16A\u001b[2K\u001b[18A\u001b[2K\u001b[16A\u001b[2K\u001b[16A\u001b[2K\u001b[16A\u001b[2K\u001b[27A\u001b[2K\u001b[18A\u001b[2K\u001b[16A\u001b[2K\u001b[18A\u001b[2K\u001b[27A\u001b[2K\u001b[16A\u001b[2K\u001b[18A\u001b[2K\u001b[16A\u001b[2K\u001b[27A\u001b[2K\u001b[18A\u001b[2K\u001b[27A\u001b[2K\u001b[14A\u001b[2K\u001b[27A\u001b[2K\u001b[13A\u001b[2K\u001b[18A\u001b[2K\u001b[12A\u001b[2K\u001b[18A\u001b[2K\u001b[11A\u001b[2K\u001b[10A\u001b[2K\u001b[18A\u001b[2K\u001b[9A\u001b[2K\u001b[18A\u001b[2K\u001b[8A\u001b[2K\u001b[18A\u001b[2K\u001b[7A\u001b[2K\u001b[27A\u001b[2K\u001b[18A\u001b[2K\u001b[18A\u001b[2K\u001b[27A\u001b[2K\u001b[18A\u001b[2K\u001b[18A\u001b[2K\u001b[6A\u001b[2K\u001b[27A\u001b[2K\u001b[6A\u001b[2K\u001b[27A\u001b[2K\u001b[18A\u001b[2K\u001b[6A\u001b[2K\u001b[27A\u001b[2K\u001b[18A\u001b[2K\u001b[27A\u001b[2K\u001b[18A\u001b[2K\u001b[6A\u001b[2K\u001b[18A\u001b[2K\u001b[27A\u001b[2K\u001b[18A\u001b[2K\u001b[27A\u001b[2K\u001b[6A\u001b[2K\u001b[18A\u001b[2K\u001b[27A\u001b[2K\u001b[6A\u001b[2K\u001b[6A\u001b[2K\u001b[18A\u001b[2K\u001b[6A\u001b[2K\u001b[18A\u001b[2K\u001b[6A\u001b[2K\u001b[6A\u001b[2K\u001b[18A\u001b[2K\u001b[18A\u001b[2K\u001b[27A\u001b[2K\u001b[6A\u001b[2K\u001b[18A\u001b[2K\u001b[27A\u001b[2K\u001b[18A\u001b[2K\u001b[27A\u001b[2K\u001b[18A\u001b[2K\u001b[6A\u001b[2K\u001b[18A\u001b[2K\u001b[5A\u001b[2K\u001b[27A\u001b[2K\u001b[18A\u001b[2K\u001b[18A\u001b[2K\u001b[27A\u001b[2K\u001b[18A\u001b[2K\u001b[2A\u001b[2K\u001b[1A\u001b[2K\u001b[27A\u001b[2K\u001b[18A\u001b[2K\u001b[27A\u001b[2K\u001b[18A\u001b[2K\u001b[27A\u001b[2K\u001b[18A\u001b[2K\u001b[18A\u001b[2K\u001b[18A\u001b[2K\u001b[27A\u001b[2K\u001b[27A\u001b[2K\u001b[18A\u001b[2K\u001b[18A\u001b[2K\u001b[27A\u001b[2K\u001b[18A\u001b[2K\u001b[27A\u001b[2K\u001b[18A\u001b[2K\u001b[27A\u001b[2K\u001b[27A\u001b[2K\u001b[18A\u001b[2K\u001b[27A\u001b[2K\u001b[18A\u001b[2K\u001b[27A\u001b[2K\u001b[18A\u001b[2K\u001b[27A\u001b[2K\u001b[18A\u001b[2K\u001b[18A\u001b[2K\u001b[27A\u001b[2K\u001b[18A\u001b[2K\u001b[27A\u001b[2K\u001b[27A\u001b[2K\u001b[18A\u001b[2K\u001b[27A\u001b[2K\u001b[18A\u001b[2K\u001b[27A\u001b[2K\u001b[18A\u001b[2K\u001b[27A\u001b[2K\u001b[18A\u001b[2K\u001b[27A\u001b[2K\u001b[18A\u001b[2K\u001b[27A\u001b[2K\u001b[18A\u001b[2K\u001b[27A\u001b[2K\u001b[18A\u001b[2K\u001b[27A\u001b[2K\u001b[18A\u001b[2K\u001b[18A\u001b[2K\u001b[27A\u001b[2K\u001b[18A\u001b[2K\u001b[27A\u001b[2K\u001b[18A\u001b[2K\u001b[27A\u001b[2K\u001b[27A\u001b[2K\u001b[18A\u001b[2K\u001b[27A\u001b[2K\u001b[18A\u001b[2K\u001b[27A\u001b[2K\u001b[18A\u001b[2K\u001b[27A\u001b[2K\u001b[18A\u001b[2K\u001b[27A\u001b[2K\u001b[27A\u001b[2K\u001b[27A\u001b[2K\u001b[27A\u001b[2K\u001b[27A\u001b[2K\u001b[18A\u001b[2K\u001b[27A\u001b[2K\u001b[18A\u001b[2K\u001b[18A\u001b[2K\u001b[18A\u001b[2K\u001b[18A\u001b[2K\u001b[27A\u001b[2K\u001b[27A\u001b[2K\u001b[18A\u001b[2K\u001b[27A\u001b[2K\u001b[18A\u001b[2K\u001b[18A\u001b[2K\u001b[18A\u001b[2K\u001b[27A\u001b[2K\u001b[18A\u001b[2K\u001b[18A\u001b[2K\u001b[27A\u001b[2K\u001b[18A\u001b[2K\u001b[27A\u001b[2K\u001b[27A\u001b[2K\u001b[18A\u001b[2K\u001b[18A\u001b[2K\u001b[18A\u001b[2K\u001b[27A\u001b[2K\u001b[18A\u001b[2K\u001b[27A\u001b[2K\u001b[27A\u001b[2K\u001b[18A\u001b[2K\u001b[27A\u001b[2K\u001b[18A\u001b[2K\u001b[27A\u001b[2K\u001b[27A\u001b[2K\u001b[18A\u001b[2K\u001b[27A\u001b[2K\u001b[18A\u001b[2K\u001b[27A\u001b[2K\u001b[18A\u001b[2K\u001b[27A\u001b[2K\u001b[18A\u001b[2K\u001b[18A\u001b[2K\u001b[27A\u001b[2K\u001b[18A\u001b[2K\u001b[27A\u001b[2K\u001b[18A\u001b[2K\u001b[27A\u001b[2K\u001b[18A\u001b[2K\u001b[27A\u001b[2K\u001b[18A\u001b[2K\u001b[18A\u001b[2K\u001b[27A\u001b[2K\u001b[18A\u001b[2K\u001b[27A\u001b[2K\u001b[27A\u001b[2K\u001b[18A\u001b[2K\u001b[27A\u001b[2K\u001b[18A\u001b[2K\u001b[27A\u001b[2K\u001b[27A\u001b[2K\u001b[18A\u001b[2K\u001b[18A\u001b[2K\u001b[27A\u001b[2K\u001b[18A\u001b[2K\u001b[18A\u001b[2K\u001b[27A\u001b[2K\u001b[27A\u001b[2K\u001b[27A\u001b[2K\u001b[18A\u001b[2K\u001b[27A\u001b[2K\u001b[18A\u001b[2K\u001b[27A\u001b[2K\u001b[18A\u001b[2K\u001b[18A\u001b[2K\u001b[27A\u001b[2K\u001b[27A\u001b[2K\u001b[18A\u001b[2K\u001b[27A\u001b[2K\u001b[18A\u001b[2K\u001b[27A\u001b[2K\u001b[18A\u001b[2K\u001b[27A\u001b[2K\u001b[18A\u001b[2K\u001b[27A\u001b[2K\u001b[18A\u001b[2K\u001b[27A\u001b[2K\u001b[18A\u001b[2K\u001b[27A\u001b[2K\u001b[18A\u001b[2K\u001b[27A\u001b[2K\u001b[18A\u001b[2K\u001b[27A\u001b[2K\u001b[18A\u001b[2K\u001b[18A\u001b[2K\u001b[27A\u001b[2K\u001b[18A\u001b[2K\u001b[27A\u001b[2K\u001b[18A\u001b[2K\u001b[27A\u001b[2K\u001b[18A\u001b[2K\u001b[27A\u001b[2K\u001b[18A\u001b[2K\u001b[27A\u001b[2K\u001b[27A\u001b[2K\u001b[18A\u001b[2K\u001b[27A\u001b[2K\u001b[27A\u001b[2K\u001b[18A\u001b[2K\u001b[27A\u001b[2K\u001b[18A\u001b[2K\u001b[18A\u001b[2K\u001b[27A\u001b[2K\u001b[27A\u001b[2K\u001b[18A\u001b[2K\u001b[27A\u001b[2K\u001b[18A\u001b[2K\u001b[27A\u001b[2K\u001b[27A\u001b[2K\u001b[27A\u001b[2K\u001b[18A\u001b[2K\u001b[27A\u001b[2K\u001b[18A\u001b[2K\u001b[27A\u001b[2K\u001b[27A\u001b[2K\u001b[18A\u001b[2K\u001b[18A\u001b[2K\u001b[18A\u001b[2K\u001b[18A\u001b[2K\u001b[18A\u001b[2K\u001b[18A\u001b[2K\u001b[27A\u001b[2K\u001b[18A\u001b[2K\u001b[27A\u001b[2K\u001b[18A\u001b[2K\u001b[27A\u001b[2K\u001b[27A\u001b[2K\u001b[18A\u001b[2K\u001b[18A\u001b[2K\u001b[27A\u001b[2K\u001b[18A\u001b[2K\u001b[27A\u001b[2K\u001b[18A\u001b[2K\u001b[18A\u001b[2K\u001b[27A\u001b[2K\u001b[27A\u001b[2K\u001b[18A\u001b[2K\u001b[27A\u001b[2K\u001b[27A\u001b[2K\u001b[27A\u001b[2K\u001b[27A\u001b[2K\u001b[18A\u001b[2K\u001b[27A\u001b[2K\u001b[18A\u001b[2K\u001b[27A\u001b[2K\u001b[18A\u001b[2K\u001b[18A\u001b[2K\u001b[27A\u001b[2K\u001b[27A\u001b[2K\u001b[27A\u001b[2K\u001b[18A\u001b[2K\u001b[27A\u001b[2K\u001b[18A\u001b[2K\u001b[27A\u001b[2K\u001b[18A\u001b[2K\u001b[27A\u001b[2K\u001b[18A\u001b[2K\u001b[27A\u001b[2K\u001b[18A\u001b[2K\u001b[27A\u001b[2K\u001b[18A\u001b[2K\u001b[27A\u001b[2K\u001b[27A\u001b[2K\u001b[18A\u001b[2K\u001b[27A\u001b[2K\u001b[18A\u001b[2K\u001b[27A\u001b[2K\u001b[18A\u001b[2K\u001b[18A\u001b[2K\u001b[18A\u001b[2K\u001b[18A\u001b[2K\u001b[18A\u001b[2K\u001b[18A\u001b[2K\u001b[27A\u001b[2K\u001b[18A\u001b[2K\u001b[27A\u001b[2K\u001b[27A\u001b[2K\u001b[18A\u001b[2K\u001b[18A\u001b[2K\u001b[18A\u001b[2K\u001b[27A\u001b[2K\u001b[18A\u001b[2K\u001b[27A\u001b[2K\u001b[18A\u001b[2K\u001b[27A\u001b[2K\u001b[18A\u001b[2K\u001b[27A\u001b[2K\u001b[18A\u001b[2K\u001b[27A\u001b[2K\u001b[18A\u001b[2K\u001b[27A\u001b[2K\u001b[18A\u001b[2K\u001b[18A\u001b[2K\u001b[18A\u001b[2K\u001b[27A\u001b[2K\u001b[18A\u001b[2K\u001b[27A\u001b[2K\u001b[18A\u001b[2K\u001b[18A\u001b[2K\u001b[27A\u001b[2K\u001b[18A\u001b[2K\u001b[27A\u001b[2K\u001b[18A\u001b[2K\u001b[27A\u001b[2K\u001b[18A\u001b[2K\u001b[27A\u001b[2K\u001b[18A\u001b[2K\u001b[27A\u001b[2K\u001b[18A\u001b[2K\u001b[27A\u001b[2K\u001b[18A\u001b[2K\u001b[27A\u001b[2K\u001b[18A\u001b[2K\u001b[27A\u001b[2K\u001b[18A\u001b[2K\u001b[18A\u001b[2K\u001b[18A\u001b[2K\u001b[27A\u001b[2K\u001b[18A\u001b[2K\u001b[27A\u001b[2K\u001b[18A\u001b[2K\u001b[27A\u001b[2K\u001b[18A\u001b[2K\u001b[27A\u001b[2K\u001b[27A\u001b[2K\u001b[18A\u001b[2K\u001b[27A\u001b[2K\u001b[18A\u001b[2K\u001b[27A\u001b[2K\u001b[27A\u001b[2K\u001b[18A\u001b[2K\u001b[27A\u001b[2K\u001b[18A\u001b[2K\u001b[27A\u001b[2K\u001b[18A\u001b[2K\u001b[27A\u001b[2K\u001b[18A\u001b[2K\u001b[27A\u001b[2K\u001b[18A\u001b[2K\u001b[27A\u001b[2K\u001b[18A\u001b[2K\u001b[27A\u001b[2K\u001b[18A\u001b[2K\u001b[27A\u001b[2K\u001b[18A\u001b[2K\u001b[27A\u001b[2K\u001b[18A\u001b[2K\u001b[27A\u001b[2K\u001b[27A\u001b[2K\u001b[18A\u001b[2K\u001b[27A\u001b[2K\u001b[18A\u001b[2K\u001b[27A\u001b[2K\u001b[18A\u001b[2K\u001b[27A\u001b[2K\u001b[18A\u001b[2K\u001b[27A\u001b[2K\u001b[27A\u001b[2K\u001b[18A\u001b[2K\u001b[27A\u001b[2K\u001b[18A\u001b[2K\u001b[27A\u001b[2K\u001b[18A\u001b[2K\u001b[27A\u001b[2K\u001b[18A\u001b[2K\u001b[27A\u001b[2K\u001b[18A\u001b[2K\u001b[27A\u001b[2K\u001b[18A\u001b[2KDownloading  1.602GB/3.254GB\u001b[18A\u001b[2K\u001b[27A\u001b[2K\u001b[27A\u001b[2K\u001b[18A\u001b[2K\u001b[27A\u001b[2K\u001b[27A\u001b[2K\u001b[18A\u001b[2K\u001b[18A\u001b[2K\u001b[27A\u001b[2K\u001b[18A\u001b[2K\u001b[27A\u001b[2K\u001b[18A\u001b[2K\u001b[27A\u001b[2K\u001b[18A\u001b[2K\u001b[27A\u001b[2K\u001b[27A\u001b[2K\u001b[18A\u001b[2K\u001b[27A\u001b[2K\u001b[18A\u001b[2K\u001b[27A\u001b[2K\u001b[18A\u001b[2K\u001b[27A\u001b[2K\u001b[18A\u001b[2K\u001b[27A\u001b[2K\u001b[18A\u001b[2K\u001b[18A\u001b[2K\u001b[18A\u001b[2K\u001b[18A\u001b[2K\u001b[18A\u001b[2K\u001b[27A\u001b[2K\u001b[18A\u001b[2K\u001b[18A\u001b[2K\u001b[27A\u001b[2K\u001b[18A\u001b[2K\u001b[27A\u001b[2K\u001b[27A\u001b[2K\u001b[18A\u001b[2K\u001b[27A\u001b[2K\u001b[18A\u001b[2K\u001b[18A\u001b[2K\u001b[27A\u001b[2K\u001b[18A\u001b[2K\u001b[27A\u001b[2K\u001b[18A\u001b[2K\u001b[27A\u001b[2K\u001b[27A\u001b[2K\u001b[27A\u001b[2K\u001b[18A\u001b[2K\u001b[27A\u001b[2K\u001b[27A\u001b[2K\u001b[18A\u001b[2K\u001b[27A\u001b[2K\u001b[27A\u001b[2K\u001b[18A\u001b[2K\u001b[27A\u001b[2K\u001b[18A\u001b[2K\u001b[18A\u001b[2K\u001b[27A\u001b[2K\u001b[18A\u001b[2K\u001b[18A\u001b[2K\u001b[27A\u001b[2K\u001b[18A\u001b[2K\u001b[18A\u001b[2K\u001b[27A\u001b[2K\u001b[27A\u001b[2K\u001b[27A\u001b[2K\u001b[27A\u001b[2K\u001b[18A\u001b[2K\u001b[27A\u001b[2K\u001b[18A\u001b[2K\u001b[27A\u001b[2K\u001b[27A\u001b[2K\u001b[27A\u001b[2K\u001b[18A\u001b[2K\u001b[27A\u001b[2K\u001b[18A\u001b[2K\u001b[27A\u001b[2K\u001b[27A\u001b[2K\u001b[18A\u001b[2K\u001b[27A\u001b[2K\u001b[27A\u001b[2K\u001b[27A\u001b[2K\u001b[18A\u001b[2K\u001b[27A\u001b[2K\u001b[18A\u001b[2K\u001b[27A\u001b[2K\u001b[18A\u001b[2K\u001b[18A\u001b[2K\u001b[18A\u001b[2K\u001b[27A\u001b[2K\u001b[18A\u001b[2K\u001b[18A\u001b[2K\u001b[18A\u001b[2K\u001b[18A\u001b[2K\u001b[18A\u001b[2K\u001b[27A\u001b[2K\u001b[27A\u001b[2K\u001b[18A\u001b[2K\u001b[27A\u001b[2K\u001b[27A\u001b[2K\u001b[27A\u001b[2K\u001b[27A\u001b[2K\u001b[18A\u001b[2K\u001b[27A\u001b[2K\u001b[27A\u001b[2K\u001b[18A\u001b[2K\u001b[27A\u001b[2K\u001b[18A\u001b[2K\u001b[27A\u001b[2K\u001b[18A\u001b[2K\u001b[27A\u001b[2K\u001b[18A\u001b[2K\u001b[27A\u001b[2K\u001b[27A\u001b[2K\u001b[18A\u001b[2K\u001b[18A\u001b[2K\u001b[27A\u001b[2K\u001b[18A\u001b[2K\u001b[18A\u001b[2K\u001b[27A\u001b[2K\u001b[27A\u001b[2K\u001b[27A\u001b[2K\u001b[18A\u001b[2K\u001b[18A\u001b[2K\u001b[27A\u001b[2K\u001b[18A\u001b[2K\u001b[27A\u001b[2K\u001b[18A\u001b[2K\u001b[18A\u001b[2K\u001b[18A\u001b[2K\u001b[27A\u001b[2K\u001b[18A\u001b[2K\u001b[27A\u001b[2K\u001b[18A\u001b[2K\u001b[18A\u001b[2K\u001b[18A\u001b[2K\u001b[18A\u001b[2K\u001b[18A\u001b[2K\u001b[27A\u001b[2K\u001b[18A\u001b[2K\u001b[27A\u001b[2K\u001b[18A\u001b[2K\u001b[27A\u001b[2K\u001b[18A\u001b[2K\u001b[27A\u001b[2K\u001b[18A\u001b[2K\u001b[27A\u001b[2K\u001b[18A\u001b[2K\u001b[27A\u001b[2K\u001b[27A\u001b[2K\u001b[18A\u001b[2K\u001b[27A\u001b[2K\u001b[18A\u001b[2K\u001b[27A\u001b[2K\u001b[18A\u001b[2K\u001b[18A\u001b[2K\u001b[27A\u001b[2K\u001b[18A\u001b[2K\u001b[27A\u001b[2K\u001b[18A\u001b[2K\u001b[27A\u001b[2K\u001b[18A\u001b[2K\u001b[27A\u001b[2K\u001b[18A\u001b[2K\u001b[27A\u001b[2K\u001b[27A\u001b[2K\u001b[18A\u001b[2K\u001b[27A\u001b[2K\u001b[18A\u001b[2K\u001b[27A\u001b[2K\u001b[18A\u001b[2K\u001b[27A\u001b[2K\u001b[18A\u001b[2K\u001b[27A\u001b[2K\u001b[18A\u001b[2K\u001b[27A\u001b[2K\u001b[27A\u001b[2K\u001b[18A\u001b[2K\u001b[27A\u001b[2K\u001b[18A\u001b[2K\u001b[27A\u001b[2K\u001b[18A\u001b[2K\u001b[18A\u001b[2K\u001b[27A\u001b[2K\u001b[27A\u001b[2K\u001b[18A\u001b[2K\u001b[27A\u001b[2K\u001b[18A\u001b[2K\u001b[27A\u001b[2K\u001b[27A\u001b[2K\u001b[18A\u001b[2K\u001b[27A\u001b[2K\u001b[27A\u001b[2K\u001b[18A\u001b[2K\u001b[27A\u001b[2K\u001b[18A\u001b[2K\u001b[27A\u001b[2K\u001b[18A\u001b[2K\u001b[27A\u001b[2K\u001b[18A\u001b[2K\u001b[27A\u001b[2K\u001b[27A\u001b[2K\u001b[27A\u001b[2K\u001b[18A\u001b[2K\u001b[18A\u001b[2K\u001b[18A\u001b[2K\u001b[18A\u001b[2KDownloading   2.17GB/3.254GB\u001b[18A\u001b[2K\u001b[27A\u001b[2K\u001b[18A\u001b[2K\u001b[18A\u001b[2K\u001b[27A\u001b[2K\u001b[18A\u001b[2K\u001b[27A\u001b[2K\u001b[18A\u001b[2K\u001b[18A\u001b[2K\u001b[27A\u001b[2K\u001b[18A\u001b[2K\u001b[27A\u001b[2K\u001b[18A\u001b[2K\u001b[27A\u001b[2K\u001b[18A\u001b[2K\u001b[18A\u001b[2K\u001b[27A\u001b[2K\u001b[18A\u001b[2K\u001b[27A\u001b[2K\u001b[18A\u001b[2K\u001b[27A\u001b[2K\u001b[18A\u001b[2K\u001b[27A\u001b[2K\u001b[27A\u001b[2K\u001b[18A\u001b[2K\u001b[27A\u001b[2K\u001b[27A\u001b[2K\u001b[27A\u001b[2K\u001b[27A\u001b[2K\u001b[18A\u001b[2K\u001b[18A\u001b[2K\u001b[27A\u001b[2K\u001b[18A\u001b[2K\u001b[18A\u001b[2K\u001b[27A\u001b[2K\u001b[18A\u001b[2K\u001b[27A\u001b[2K\u001b[18A\u001b[2K\u001b[27A\u001b[2K\u001b[27A\u001b[2K\u001b[18A\u001b[2K\u001b[27A\u001b[2K\u001b[18A\u001b[2K\u001b[27A\u001b[2K\u001b[18A\u001b[2K\u001b[27A\u001b[2K\u001b[18A\u001b[2K\u001b[27A\u001b[2K\u001b[18A\u001b[2K\u001b[27A\u001b[2K\u001b[18A\u001b[2K\u001b[18A\u001b[2K\u001b[18A\u001b[2K\u001b[27A\u001b[2K\u001b[18A\u001b[2K\u001b[18A\u001b[2K\u001b[27A\u001b[2K\u001b[27A\u001b[2K\u001b[18A\u001b[2K\u001b[18A\u001b[2K\u001b[18A\u001b[2K\u001b[27A\u001b[2K\u001b[18A\u001b[2K\u001b[27A\u001b[2K\u001b[18A\u001b[2K\u001b[27A\u001b[2K\u001b[18A\u001b[2K\u001b[27A\u001b[2K\u001b[18A\u001b[2K\u001b[27A\u001b[2K\u001b[27A\u001b[2K\u001b[18A\u001b[2K\u001b[27A\u001b[2K\u001b[18A\u001b[2K\u001b[18A\u001b[2K\u001b[27A\u001b[2K\u001b[18A\u001b[2K\u001b[27A\u001b[2K\u001b[27A\u001b[2K\u001b[18A\u001b[2K\u001b[18A\u001b[2K\u001b[27A\u001b[2K\u001b[18A\u001b[2K\u001b[27A\u001b[2K\u001b[27A\u001b[2K\u001b[18A\u001b[2K\u001b[27A\u001b[2K\u001b[18A\u001b[2K\u001b[27A\u001b[2K\u001b[18A\u001b[2K\u001b[27A\u001b[2K\u001b[18A\u001b[2K\u001b[27A\u001b[2K\u001b[18A\u001b[2K\u001b[27A\u001b[2K\u001b[18A\u001b[2K\u001b[27A\u001b[2K\u001b[18A\u001b[2K\u001b[27A\u001b[2K\u001b[18A\u001b[2K\u001b[18A\u001b[2K\u001b[18A\u001b[2K\u001b[27A\u001b[2K\u001b[18A\u001b[2K\u001b[27A\u001b[2K\u001b[18A\u001b[2K\u001b[18A\u001b[2K\u001b[27A\u001b[2K\u001b[18A\u001b[2K\u001b[18A\u001b[2K\u001b[27A\u001b[2K\u001b[18A\u001b[2K\u001b[27A\u001b[2K\u001b[18A\u001b[2K\u001b[27A\u001b[2K\u001b[18A\u001b[2K\u001b[27A\u001b[2K\u001b[18A\u001b[2K\u001b[27A\u001b[2K\u001b[18A\u001b[2K\u001b[18A\u001b[2K\u001b[27A\u001b[2K\u001b[27A\u001b[2K\u001b[27A\u001b[2K\u001b[27A\u001b[2K\u001b[27A\u001b[2K\u001b[27A\u001b[2K\u001b[27A\u001b[2K\u001b[27A\u001b[2K\u001b[27A\u001b[2K\u001b[27A\u001b[2K\u001b[27A\u001b[2K\u001b[27A\u001b[2K\u001b[27A\u001b[2K\u001b[27A\u001b[2K\u001b[27A\u001b[2K\u001b[27A\u001b[2K\u001b[27A\u001b[2K\u001b[27A\u001b[2K\u001b[27A\u001b[2K\u001b[27A\u001b[2K\u001b[27A\u001b[2K\u001b[27A\u001b[2K\u001b[27A\u001b[2K\u001b[27A\u001b[2K\u001b[27A\u001b[2K\u001b[27A\u001b[2K\u001b[27A\u001b[2K\u001b[27A\u001b[2K\u001b[27A\u001b[2K\u001b[27A\u001b[2K\u001b[27A\u001b[2K\u001b[27A\u001b[2K\u001b[27A\u001b[2K\u001b[27A\u001b[2K\u001b[27A\u001b[2K\u001b[27A\u001b[2K\u001b[27A\u001b[2K\u001b[27A\u001b[2K\u001b[27A\u001b[2K\u001b[27A\u001b[2K\u001b[27A\u001b[2K\u001b[27A\u001b[2K\u001b[27A\u001b[2K\u001b[27A\u001b[2K\u001b[27A\u001b[2K\u001b[27A\u001b[2K\u001b[27A\u001b[2K\u001b[27A\u001b[2K\u001b[27A\u001b[2K\u001b[27A\u001b[2K\u001b[27A\u001b[2K\u001b[27A\u001b[2K\u001b[27A\u001b[2K\u001b[27A\u001b[2K\u001b[27A\u001b[2K\u001b[27A\u001b[2K\u001b[27A\u001b[2K\u001b[27A\u001b[2K\u001b[27A\u001b[2K\u001b[27A\u001b[2K\u001b[27A\u001b[2K\u001b[27A\u001b[2K\u001b[27A\u001b[2K\u001b[27A\u001b[2K\u001b[27A\u001b[2K\u001b[27A\u001b[2K\u001b[27A\u001b[2K\u001b[27A\u001b[2K\u001b[27A\u001b[2K\u001b[27A\u001b[2K\u001b[27A\u001b[2K\u001b[27A\u001b[2K\u001b[27A\u001b[2K\u001b[27A\u001b[2K\u001b[27A\u001b[2K\u001b[27A\u001b[2K\u001b[27A\u001b[2K\u001b[27A\u001b[2K\u001b[27A\u001b[2K\u001b[27A\u001b[2K\u001b[27A\u001b[2K\u001b[27A\u001b[2K\u001b[27A\u001b[2K\u001b[27A\u001b[2K\u001b[27A\u001b[2K\u001b[27A\u001b[2K\u001b[27A\u001b[2K\u001b[27A\u001b[2K\u001b[27A\u001b[2K\u001b[27A\u001b[2K\u001b[27A\u001b[2K\u001b[27A\u001b[2K\u001b[27A\u001b[2K\u001b[27A\u001b[2K\u001b[27A\u001b[2K\u001b[27A\u001b[2KDownloading  2.928GB/3.254GB\u001b[27A\u001b[2K\u001b[27A\u001b[2K\u001b[27A\u001b[2K\u001b[27A\u001b[2K\u001b[27A\u001b[2K\u001b[27A\u001b[2K\u001b[27A\u001b[2K\u001b[27A\u001b[2K\u001b[27A\u001b[2K\u001b[27A\u001b[2K\u001b[27A\u001b[2K\u001b[27A\u001b[2K\u001b[27A\u001b[2K\u001b[27A\u001b[2K\u001b[27A\u001b[2K\u001b[27A\u001b[2K\u001b[27A\u001b[2K\u001b[27A\u001b[2K\u001b[27A\u001b[2K\u001b[27A\u001b[2K\u001b[27A\u001b[2K\u001b[27A\u001b[2K\u001b[27A\u001b[2K\u001b[27A\u001b[2K\u001b[27A\u001b[2K\u001b[27A\u001b[2K\u001b[27A\u001b[2K\u001b[27A\u001b[2K\u001b[27A\u001b[2K\u001b[27A\u001b[2K\u001b[27A\u001b[2K\u001b[27A\u001b[2K\u001b[27A\u001b[2K\u001b[27A\u001b[2K\u001b[27A\u001b[2K\u001b[27A\u001b[2K\u001b[27A\u001b[2K\u001b[27A\u001b[2K\u001b[27A\u001b[2K\u001b[27A\u001b[2K\u001b[27A\u001b[2K\u001b[27A\u001b[2K\u001b[27A\u001b[2K\u001b[27A\u001b[2K\u001b[27A\u001b[2K\u001b[27A\u001b[2K\u001b[27A\u001b[2K\u001b[27A\u001b[2K\u001b[27A\u001b[2K\u001b[27A\u001b[2K\u001b[27A\u001b[2K\u001b[27A\u001b[2K\u001b[27A\u001b[2K\u001b[27A\u001b[2K\u001b[27A\u001b[2K\u001b[27A\u001b[2K\u001b[27A\u001b[2K\u001b[27A\u001b[2K\u001b[27A\u001b[2K\u001b[27A\u001b[2K\u001b[27A\u001b[2K\u001b[27A\u001b[2K\u001b[27A\u001b[2K\u001b[27A\u001b[2K\u001b[27A\u001b[2K\u001b[27A\u001b[2K\u001b[27A\u001b[2K\u001b[27A\u001b[2K\u001b[27A\u001b[2K\u001b[27A\u001b[2K\u001b[27A\u001b[2K\u001b[27A\u001b[2K\u001b[27A\u001b[2K\u001b[27A\u001b[2K\u001b[27A\u001b[2K\u001b[27A\u001b[2K\u001b[27A\u001b[2K\u001b[27A\u001b[2K\u001b[27A\u001b[2K\u001b[27A\u001b[2K\u001b[27A\u001b[2K\u001b[27A\u001b[2K\u001b[27A\u001b[2K\u001b[27A\u001b[2K\u001b[27A\u001b[2K\u001b[27A\u001b[2K\u001b[27A\u001b[2K\u001b[27A\u001b[2K\u001b[27A\u001b[2K\u001b[27A\u001b[2K\u001b[27A\u001b[2K\u001b[27A\u001b[2K\u001b[27A\u001b[2K\u001b[27A\u001b[2K\u001b[27A\u001b[2K\u001b[27A\u001b[2K\u001b[27A\u001b[2K\u001b[27A\u001b[2K\u001b[27A\u001b[2K\u001b[27A\u001b[2K\u001b[27A\u001b[2K\u001b[27A\u001b[2K\u001b[27A\u001b[2K\u001b[27A\u001b[2K\u001b[27A\u001b[2K\u001b[27A\u001b[2K\u001b[27A\u001b[2K\u001b[27A\u001b[2K\u001b[27A\u001b[2K\u001b[27A\u001b[2K\u001b[27A\u001b[2K\u001b[27A\u001b[2K\u001b[27A\u001b[2K\u001b[27A\u001b[2K\u001b[27A\u001b[2K\u001b[27A\u001b[2K\u001b[27A\u001b[2K\u001b[27A\u001b[2K\u001b[27A\u001b[2K\u001b[27A\u001b[2K\u001b[27A\u001b[2K\u001b[27A\u001b[2K\u001b[27A\u001b[2K\u001b[27A\u001b[2K\u001b[27A\u001b[2K\u001b[27A\u001b[2K\u001b[27A\u001b[2K\u001b[27A\u001b[2K\u001b[27A\u001b[2K\u001b[27A\u001b[2K\u001b[27A\u001b[2K\u001b[27A\u001b[2K\u001b[27A\u001b[2K\u001b[27A\u001b[2K\u001b[27A\u001b[2K\u001b[27A\u001b[2K\u001b[27A\u001b[2K\u001b[27A\u001b[2K\u001b[27A\u001b[2K\u001b[27A\u001b[2K\u001b[27A\u001b[2K\u001b[27A\u001b[2K\u001b[27A\u001b[2K\u001b[27A\u001b[2K\u001b[27A\u001b[2K\u001b[27A\u001b[2K\u001b[27A\u001b[2K\u001b[27A\u001b[2K\u001b[27A\u001b[2K\u001b[27A\u001b[2K\u001b[27A\u001b[2K\u001b[27A\u001b[2K\u001b[27A\u001b[2K\u001b[27A\u001b[2K\u001b[27A\u001b[2K\u001b[27A\u001b[2K\u001b[27A\u001b[2K\u001b[27A\u001b[2K\u001b[27A\u001b[2K\u001b[27A\u001b[2K\u001b[27A\u001b[2K\u001b[27A\u001b[2K\u001b[27A\u001b[2K\u001b[27A\u001b[2K\u001b[27A\u001b[2K\u001b[27A\u001b[2K\u001b[27A\u001b[2K\u001b[27A\u001b[2K\u001b[27A\u001b[2K\u001b[27A\u001b[2K\u001b[27A\u001b[2K\u001b[27A\u001b[2K\u001b[27A\u001b[2K\u001b[27A\u001b[2K\u001b[27A\u001b[2K\u001b[27A\u001b[2K\u001b[27A\u001b[2K\u001b[27A\u001b[2K\u001b[27A\u001b[2K\u001b[27A\u001b[2K\u001b[27A\u001b[2K\u001b[27A\u001b[2K\u001b[27A\u001b[2K\u001b[27A\u001b[2K\u001b[27A\u001b[2K\u001b[27A\u001b[2K\u001b[27A\u001b[2K\u001b[27A\u001b[2K\u001b[27A\u001b[2K\u001b[27A\u001b[2K\u001b[27A\u001b[2K\u001b[27A\u001b[2K\u001b[27A\u001b[2K\u001b[27A\u001b[2K\u001b[27A\u001b[2K\u001b[27A\u001b[2K\u001b[27A\u001b[2K\u001b[27A\u001b[2K\u001b[27A\u001b[2K\u001b[27A\u001b[2K\u001b[27A\u001b[2K\u001b[27A\u001b[2K\u001b[27A\u001b[2K\u001b[27A\u001b[2K\u001b[27A\u001b[2K\u001b[27A\u001b[2K\u001b[27A\u001b[2K\u001b[27A\u001b[2K\u001b[27A\u001b[2K\u001b[27A\u001b[2K\u001b[27A\u001b[2K\u001b[27A\u001b[2K\u001b[27A\u001b[2K\u001b[27A\u001b[2K\u001b[27A\u001b[2K\u001b[27A\u001b[2K\u001b[27A\u001b[2K\u001b[27A\u001b[2K\u001b[27A\u001b[2K\u001b[27A\u001b[2K\u001b[27A\u001b[2K\u001b[27A\u001b[2K\u001b[27A\u001b[2K\u001b[27A\u001b[2K\u001b[27A\u001b[2K\u001b[27A\u001b[2K\u001b[27A\u001b[2K\u001b[27A\u001b[2K\u001b[27A\u001b[2K\u001b[27A\u001b[2K\u001b[27A\u001b[2K\u001b[27A\u001b[2K\u001b[27A\u001b[2K\u001b[27A\u001b[2K\u001b[27A\u001b[2K\u001b[27A\u001b[2K\u001b[27A\u001b[2K\u001b[27A\u001b[2K\u001b[27A\u001b[2K\u001b[27A\u001b[2K\u001b[27A\u001b[2K\u001b[27A\u001b[2K\u001b[27A\u001b[2K\u001b[27A\u001b[2K\u001b[27A\u001b[2K\u001b[27A\u001b[2K\u001b[27A\u001b[2K\u001b[27A\u001b[2K\u001b[27A\u001b[2K\u001b[27A\u001b[2K\u001b[27A\u001b[2K\u001b[27A\u001b[2K\u001b[27A\u001b[2K\u001b[27A\u001b[2K\u001b[27A\u001b[2K\u001b[27A\u001b[2K\u001b[27A\u001b[2K\u001b[27A\u001b[2K\u001b[27A\u001b[2K\u001b[27A\u001b[2K\u001b[27A\u001b[2K\u001b[27A\u001b[2K\u001b[27A\u001b[2K\u001b[27A\u001b[2K\u001b[27A\u001b[2K\u001b[27A\u001b[2K\u001b[27A\u001b[2K\u001b[27A\u001b[2K\u001b[27A\u001b[2K\u001b[27A\u001b[2K\u001b[27A\u001b[2K\u001b[27A\u001b[2K\u001b[27A\u001b[2K\u001b[27A\u001b[2K\u001b[27A\u001b[2K\u001b[27A\u001b[2K\u001b[27A\u001b[2K\u001b[27A\u001b[2K\u001b[27A\u001b[2K\u001b[27A\u001b[2K\u001b[27A\u001b[2K\u001b[27A\u001b[2K\u001b[27A\u001b[2K\u001b[27A\u001b[2K\u001b[27A\u001b[2K\u001b[27A\u001b[2K\u001b[27A\u001b[2K\u001b[27A\u001b[2K\u001b[27A\u001b[2K\u001b[27A\u001b[2K\u001b[27A\u001b[2K\u001b[27A\u001b[2K\u001b[27A\u001b[2K\u001b[27A\u001b[2K\u001b[27A\u001b[2K\u001b[27A\u001b[2K\u001b[27A\u001b[2K\u001b[27A\u001b[2K\u001b[27A\u001b[2K\u001b[27A\u001b[2K\u001b[27A\u001b[2K\u001b[27A\u001b[2K\u001b[27A\u001b[2K\u001b[27A\u001b[2K\u001b[27A\u001b[2K\u001b[27A\u001b[2K\u001b[27A\u001b[2K\u001b[27A\u001b[2K\u001b[27A\u001b[2K\u001b[27A\u001b[2K\u001b[27A\u001b[2K\u001b[27A\u001b[2K\u001b[27A\u001b[2K\u001b[27A\u001b[2K\u001b[27A\u001b[2K\u001b[27A\u001b[2K\u001b[27A\u001b[2K\u001b[27A\u001b[2K\u001b[27A\u001b[2K\u001b[27A\u001b[2K\u001b[27A\u001b[2K\u001b[27A\u001b[2K\u001b[27A\u001b[2K\u001b[27A\u001b[2K\u001b[27A\u001b[2K\u001b[27A\u001b[2K\u001b[27A\u001b[2K\u001b[27A\u001b[2K\u001b[27A\u001b[2K\u001b[27A\u001b[2K\u001b[27A\u001b[2K\u001b[27A\u001b[2K\u001b[27A\u001b[2K\u001b[27A\u001b[2K\u001b[27A\u001b[2K\u001b[27A\u001b[2K\u001b[27A\u001b[2K\u001b[27A\u001b[2K\u001b[27A\u001b[2K\u001b[27A\u001b[2K\u001b[27A\u001b[2K\u001b[27A\u001b[2K\u001b[27A\u001b[2K\u001b[27A\u001b[2K\u001b[27A\u001b[2K\u001b[27A\u001b[2K\u001b[27A\u001b[2K\u001b[27A\u001b[2K\u001b[27A\u001b[2K\u001b[27A\u001b[2K\u001b[27A\u001b[2K\u001b[27A\u001b[2K\u001b[27A\u001b[2K\u001b[27A\u001b[2K\u001b[27A\u001b[2K\u001b[27A\u001b[2K\u001b[27A\u001b[2K\u001b[27A\u001b[2K\u001b[27A\u001b[2K\u001b[27A\u001b[2K\u001b[27A\u001b[2K\u001b[27A\u001b[2K\u001b[27A\u001b[2K\u001b[27A\u001b[2K\u001b[27A\u001b[2K\u001b[27A\u001b[2K\u001b[27A\u001b[2K\u001b[27A\u001b[2K\u001b[27A\u001b[2K\u001b[27A\u001b[2K\u001b[27A\u001b[2K\u001b[27A\u001b[2K\u001b[27A\u001b[2K\u001b[27A\u001b[2K\u001b[27A\u001b[2K\u001b[27A\u001b[2K\u001b[27A\u001b[2K\u001b[27A\u001b[2K\u001b[27A\u001b[2K\u001b[27A\u001b[2K\u001b[27A\u001b[2K\u001b[27A\u001b[2K\u001b[27A\u001b[2K\u001b[27A\u001b[2K\u001b[27A\u001b[2K\u001b[27A\u001b[2K\u001b[27A\u001b[2K\u001b[27A\u001b[2K\u001b[27A\u001b[2K\u001b[27A\u001b[2K\u001b[27A\u001b[2K\u001b[27A\u001b[2K\u001b[27A\u001b[2K\u001b[27A\u001b[2K\u001b[27A\u001b[2K\u001b[27A\u001b[2K\u001b[27A\u001b[2K\u001b[27A\u001b[2K\u001b[27A\u001b[2K\u001b[27A\u001b[2K\u001b[27A\u001b[2K\u001b[27A\u001b[2K\u001b[27A\u001b[2K\u001b[27A\u001b[2K\u001b[27A\u001b[2K\u001b[27A\u001b[2K\u001b[27A\u001b[2K\u001b[27A\u001b[2K\u001b[27A\u001b[2K\u001b[27A\u001b[2K\u001b[27A\u001b[2K\u001b[27A\u001b[2K\u001b[27A\u001b[2K\u001b[27A\u001b[2K\u001b[27A\u001b[2K\u001b[27A\u001b[2K\u001b[27A\u001b[2K\u001b[27A\u001b[2K\u001b[27A\u001b[2K\u001b[27A\u001b[2K\u001b[27A\u001b[2K\u001b[27A\u001b[2K\u001b[27A\u001b[2K\u001b[27A\u001b[2K\u001b[27A\u001b[2K\u001b[27A\u001b[2K\u001b[27A\u001b[2K\u001b[27A\u001b[2K\u001b[27A\u001b[2K\u001b[27A\u001b[2K\u001b[27A\u001b[2K\u001b[27A\u001b[2K\u001b[27A\u001b[2K\u001b[27A\u001b[2K\u001b[27A\u001b[2K\u001b[27A\u001b[2K\u001b[27A\u001b[2K\u001b[27A\u001b[2K\u001b[27A\u001b[2K\u001b[27A\u001b[2K\u001b[27A\u001b[2K\u001b[27A\u001b[2K\u001b[27A\u001b[2K\u001b[27A\u001b[2K\u001b[27A\u001b[2K\u001b[27A\u001b[2K\u001b[27A\u001b[2K\u001b[27A\u001b[2K\u001b[27A\u001b[2K\u001b[27A\u001b[2K\u001b[27A\u001b[2K\u001b[27A\u001b[2K\u001b[27A\u001b[2K\u001b[27A\u001b[2K\u001b[27A\u001b[2K\u001b[27A\u001b[2K\u001b[27A\u001b[2K\u001b[27A\u001b[2K\u001b[27A\u001b[2K\u001b[27A\u001b[2K\u001b[27A\u001b[2K\u001b[27A\u001b[2K\u001b[27A\u001b[2K\u001b[27A\u001b[2K\u001b[27A\u001b[2K\u001b[27A\u001b[2K\u001b[27A\u001b[2K\u001b[27A\u001b[2K\u001b[27A\u001b[2K\u001b[27A\u001b[2K\u001b[27A\u001b[2K\u001b[27A\u001b[2K\u001b[27A\u001b[2K\u001b[27A\u001b[2K\u001b[27A\u001b[2K\u001b[27A\u001b[2K\u001b[27A\u001b[2K\u001b[27A\u001b[2K\u001b[27A\u001b[2K\u001b[27A\u001b[2K\u001b[27A\u001b[2K\u001b[27A\u001b[2K\u001b[27A\u001b[2K\u001b[27A\u001b[2K\u001b[27A\u001b[2K\u001b[27A\u001b[2K\u001b[27A\u001b[2K\u001b[27A\u001b[2K\u001b[27A\u001b[2K\u001b[27A\u001b[2K\u001b[27A\u001b[2K\u001b[27A\u001b[2K\u001b[27A\u001b[2K\u001b[27A\u001b[2Kfailed to register layer: Error processing tar file(exit status 1): symlink bookmark-new.svg /usr/share/icons/Humanity/actions/128/bookmark_add.svg: no space left on device\n",
      "Error response from daemon: No such image: pytorch-inference-bert-topic-example:latest\n",
      "The push refers to repository [600743882593.dkr.ecr.us-east-1.amazonaws.com/pytorch-inference-bert-topic-example]\n",
      "An image does not exist locally with the tag: 600743882593.dkr.ecr.us-east-1.amazonaws.com/pytorch-inference-bert-topic-example\n"
     ]
    }
   ],
   "source": [
    "# building and pushing the container\n",
    "! cd container && sh build_and_push.sh {inference_algorithm_name} Dockerfile-inference"
   ]
  },
  {
   "cell_type": "markdown",
   "metadata": {},
   "source": [
    "## Inference from Containerized SageMaker Model"
   ]
  },
  {
   "cell_type": "code",
   "execution_count": 43,
   "metadata": {},
   "outputs": [
    {
     "data": {
      "text/plain": [
       "'600743882593.dkr.ecr.us-east-1.amazonaws.com/pytorch-inference-bert-topic-example:latest'"
      ]
     },
     "execution_count": 43,
     "metadata": {},
     "output_type": "execute_result"
    }
   ],
   "source": [
    "import pprint\n",
    "import boto3\n",
    "\n",
    "pp = pprint.PrettyPrinter(indent=1)\n",
    "\n",
    "sm_boto3 = boto3.client(\"sagemaker\")\n",
    "\n",
    "region = boto3.Session().region_name\n",
    "account_id = boto3.client(\"sts\").get_caller_identity()[\"Account\"]\n",
    "\n",
    "image_uri_inference = (\n",
    "    f\"{account_id}.dkr.ecr.{region}.amazonaws.com/{inference_algorithm_name}:latest\"\n",
    ")\n",
    "image_uri_inference"
   ]
  },
  {
   "cell_type": "markdown",
   "metadata": {},
   "source": [
    "### Prepare session to run container locally"
   ]
  },
  {
   "cell_type": "code",
   "execution_count": 44,
   "metadata": {},
   "outputs": [
    {
     "name": "stdout",
     "output_type": "stream",
     "text": [
      "<class 'sagemaker.local.local_session.LocalSession'>\n"
     ]
    }
   ],
   "source": [
    "import sagemaker\n",
    "from sagemaker.local import LocalSession\n",
    "\n",
    "session_local = LocalSession()\n",
    "session_local.config = {instance_type_local: {\"local_code\": True}}\n",
    "print(type(session_local))\n",
    "\n",
    "from sagemaker import get_execution_role\n",
    "\n",
    "role = get_execution_role()"
   ]
  },
  {
   "cell_type": "markdown",
   "metadata": {},
   "source": [
    "### Check for locally running Docker containers (and stop them if needed)"
   ]
  },
  {
   "cell_type": "code",
   "execution_count": 45,
   "metadata": {},
   "outputs": [
    {
     "name": "stdout",
     "output_type": "stream",
     "text": [
      "CONTAINER ID   IMAGE     COMMAND   CREATED   STATUS    PORTS     NAMES\n"
     ]
    }
   ],
   "source": [
    "! docker ps"
   ]
  },
  {
   "cell_type": "code",
   "execution_count": null,
   "metadata": {},
   "outputs": [],
   "source": [
    "# if model doesn't deploy locally, kill other running containers\n",
    "# docker stop $(docker ps -a -q)\n",
    "# docker rm $(docker ps -a -q)"
   ]
  },
  {
   "cell_type": "markdown",
   "metadata": {},
   "source": [
    "### Deploy container locally to create a local endpoint \n",
    "#### (WARNING: cells stdout will start behaving fuzzy, showing container log info, till the local container is active...)\n",
    "\n",
    "Disclaimer: if the inference container is missing the default `behavior` is possible to use local files (`source_dir` and `entry_point` arguments)"
   ]
  },
  {
   "cell_type": "code",
   "execution_count": 46,
   "metadata": {},
   "outputs": [],
   "source": [
    "from sagemaker import Model\n",
    "\n",
    "model_data = estimator.model_data\n",
    "\n",
    "estimator = Model(\n",
    "    image_uri=image_uri_inference,\n",
    "    model_data=model_data,\n",
    "    role=role,\n",
    "    source_dir=\"container/bert-topic\",  # this argument is used to override internal container entrypoint, if needed!\n",
    "    entry_point=\"bert-topic-inference.py\",  # this argument is used to override internal container entrypoint, if needed!\n",
    "    sagemaker_session=session_local,  # local session\n",
    "    #                   predictor_cls=None,\n",
    "    #                   env=None,\n",
    "    #                   name=None,\n",
    "    #                   vpc_config=None,\n",
    "    #                   enable_network_isolation=False,\n",
    "    #                   model_kms_key=None,\n",
    "    #                   image_config=None,\n",
    "    #                   code_location=None,\n",
    "    #                   container_log_level=20,\n",
    "    #                   dependencies=None,\n",
    "    #                   git_config=None\n",
    ")\n",
    "\n",
    "predictor = estimator.deploy(1, instance_type_local)"
   ]
  },
  {
   "cell_type": "markdown",
   "metadata": {},
   "source": [
    "### Invoke locally deployed endpoint"
   ]
  },
  {
   "cell_type": "code",
   "execution_count": 30,
   "metadata": {},
   "outputs": [
    {
     "name": "stdout",
     "output_type": "stream",
     "text": [
      "\u001b[36m5hpwya6dgy-algo-1-asc7w |\u001b[0m 2022-12-21T09:15:12,763 [INFO ] W-9000-model_1.0-stdout MODEL_LOG - inside model_fn, model_dir= /opt/ml/model\n",
      "\u001b[36m5hpwya6dgy-algo-1-asc7w |\u001b[0m 2022-12-21T09:15:12,786 [INFO ] W-9000-model_1.0-stdout MODEL_LOG - Device Type: cuda\n",
      "\u001b[36m5hpwya6dgy-algo-1-asc7w |\u001b[0m 2022-12-21T09:15:12,901 [INFO ] W-9000-model_1.0-stdout MODEL_LOG - [2022-12-21 09:15:12.901 0c3994fb7e23:53 INFO utils.py:27] RULE_JOB_STOP_SIGNAL_FILENAME: None\n",
      "\u001b[36m5hpwya6dgy-algo-1-asc7w |\u001b[0m 2022-12-21T09:15:12,937 [INFO ] W-9000-model_1.0-stdout MODEL_LOG - [2022-12-21 09:15:12.937 0c3994fb7e23:53 INFO profiler_config_parser.py:111] Unable to find config at /opt/ml/input/config/profilerconfig.json. Profiler is disabled.\n",
      "\u001b[36m5hpwya6dgy-algo-1-asc7w |\u001b[0m 2022-12-21T09:15:13,314 [INFO ] W-9000-model_1.0 org.pytorch.serve.wlm.WorkerThread - Backend response time: 12716\n",
      "\u001b[36m5hpwya6dgy-algo-1-asc7w |\u001b[0m 2022-12-21T09:15:13,315 [INFO ] W-9000-model_1.0 TS_METRICS - W-9000-model_1.0.ms:13691|#Level:Host|#hostname:0c3994fb7e23,timestamp:1671614113\n",
      "\u001b[36m5hpwya6dgy-algo-1-asc7w |\u001b[0m 2022-12-21T09:15:13,316 [INFO ] W-9000-model_1.0 TS_METRICS - WorkerThreadTime.ms:39|#Level:Host|#hostname:0c3994fb7e23,timestamp:1671614113\n",
      "\u001b[36m5hpwya6dgy-algo-1-asc7w |\u001b[0m 2022-12-21T09:15:13,317 [INFO ] W-9000-model_1.0 org.pytorch.serve.wlm.WorkerThread - Flushing req. to backend at: 1671614113317\n",
      "\u001b[36m5hpwya6dgy-algo-1-asc7w |\u001b[0m 2022-12-21T09:15:13,318 [INFO ] W-9000-model_1.0-stdout MODEL_LOG - Backend received inference at: 1671614113\n",
      "\u001b[36m5hpwya6dgy-algo-1-asc7w |\u001b[0m 2022-12-21T09:15:13,319 [INFO ] W-9000-model_1.0-stdout MODEL_LOG - serialized_input_data object: [\"some random text\", \"free speech is important for democracy\"]\n",
      "\u001b[36m5hpwya6dgy-algo-1-asc7w |\u001b[0m 2022-12-21T09:15:13,319 [INFO ] W-9000-model_1.0-stdout MODEL_LOG - input_data object: ['some random text', 'free speech is important for democracy']\n",
      "\u001b[36m5hpwya6dgy-algo-1-asc7w |\u001b[0m 2022-12-21T09:15:13,320 [INFO ] W-9000-model_1.0-stdout MODEL_LOG - Got input Data: ['some random text', 'free speech is important for democracy']\n",
      "\u001b[36m5hpwya6dgy-algo-1-asc7w |\u001b[0m 2022-12-21T09:15:15,086 [INFO ] W-9000-model_1.0-stdout MODEL_LOG - [2022-12-21 09:15:15.086 0c3994fb7e23:53 ERROR error_handling_agent.py:116] SMDebug error has occurred, disabling SMDebug for the rest of the training job. Stack trace:\n",
      "\u001b[36m5hpwya6dgy-algo-1-asc7w |\u001b[0m 2022-12-21T09:15:15,087 [INFO ] W-9000-model_1.0-stdout MODEL_LOG - [2022-12-21 09:15:15.086 0c3994fb7e23:53 ERROR error_handling_agent.py:117] 'Hook' object has no attribute 'writer'\n",
      "\u001b[36m5hpwya6dgy-algo-1-asc7w |\u001b[0m 2022-12-21T09:15:15,087 [INFO ] W-9000-model_1.0-stdout MODEL_LOG - Traceback (most recent call last):\n",
      "\u001b[36m5hpwya6dgy-algo-1-asc7w |\u001b[0m 2022-12-21T09:15:15,088 [INFO ] W-9000-model_1.0-stdout MODEL_LOG -   File \"/opt/conda/lib/python3.8/site-packages/smdebug/core/error_handling_agent.py\", line 110, in error_handling_agent\n",
      "\u001b[36m5hpwya6dgy-algo-1-asc7w |\u001b[0m 2022-12-21T09:15:15,088 [INFO ] W-9000-model_1.0-stdout MODEL_LOG -     return func(*args, **kwargs)\n",
      "\u001b[36m5hpwya6dgy-algo-1-asc7w |\u001b[0m 2022-12-21T09:15:15,088 [INFO ] W-9000-model_1.0-stdout MODEL_LOG -   File \"/opt/conda/lib/python3.8/site-packages/smdebug/pytorch/hook.py\", line 319, in forward_pre_hook\n",
      "\u001b[36m5hpwya6dgy-algo-1-asc7w |\u001b[0m 2022-12-21T09:15:15,089 [INFO ] W-9000-model_1.0-stdout MODEL_LOG -     if self.writer is not None:\n",
      "\u001b[36m5hpwya6dgy-algo-1-asc7w |\u001b[0m 2022-12-21T09:15:15,089 [INFO ] W-9000-model_1.0-stdout MODEL_LOG - AttributeError: 'Hook' object has no attribute 'writer'\n",
      "\u001b[36m5hpwya6dgy-algo-1-asc7w |\u001b[0m 2022-12-21T09:15:23,461 [INFO ] W-9000-model_1.0-stdout MODEL_LOG - prediction object before: ([-1, 0], array([0.        , 0.80328103])), type: <class 'tuple'>\n",
      "\u001b[36m5hpwya6dgy-algo-1-asc7w |\u001b[0m 2022-12-21T09:15:23,462 [INFO ] W-9000-model_1.0-stdout MODEL_LOG - prediction object after: [[-1, 0], array([0.        , 0.80328103])], type: <class 'list'>\n",
      "\u001b[36m5hpwya6dgy-algo-1-asc7w |\u001b[0m 2022-12-21T09:15:23,462 [INFO ] W-9000-model_1.0-stdout MODEL_LOG - prediction[0] object after: [-1, 0], type: <class 'list'>\n",
      "\u001b[36m5hpwya6dgy-algo-1-asc7w |\u001b[0m 2022-12-21T09:15:23,463 [INFO ] W-9000-model_1.0-stdout MODEL_LOG - prediction[1] object after: [-1, 0], type: <class 'list'>\n",
      "\u001b[36m5hpwya6dgy-algo-1-asc7w |\u001b[0m 2022-12-21T09:15:23,463 [INFO ] W-9000-model_1.0-stdout MODEL_LOG - prediction_result object: [[-1, 0], [0.0, 0.8032810261564917]]\n",
      "\u001b[36m5hpwya6dgy-algo-1-asc7w |\u001b[0m 2022-12-21T09:15:23,464 [INFO ] W-9000-model_1.0 org.pytorch.serve.wlm.WorkerThread - Backend response time: 10146\n",
      "\u001b[36m5hpwya6dgy-algo-1-asc7w |\u001b[0m 2022-12-21T09:15:23,464 [INFO ] W-9000-model_1.0-stdout MODEL_METRICS - PredictionTime.Milliseconds:10143.27|#ModelName:model,Level:Model|#hostname:0c3994fb7e23,requestID:f6c77c65-b8e6-4d83-ac9a-d87a0eb7d9f6,timestamp:1671614123\n",
      "\u001b[36m5hpwya6dgy-algo-1-asc7w |\u001b[0m 2022-12-21T09:15:23,464 [INFO ] W-9000-model_1.0 ACCESS_LOG - /172.18.0.1:33284 \"POST /invocations HTTP/1.1\" 200 22591\n",
      "\u001b[36m5hpwya6dgy-algo-1-asc7w |\u001b[0m 2022-12-21T09:15:23,465 [INFO ] W-9000-model_1.0 TS_METRICS - Requests2XX.Count:1|#Level:Host|#hostname:0c3994fb7e23,timestamp:1671614100\n",
      "\u001b[36m5hpwya6dgy-algo-1-asc7w |\u001b[0m 2022-12-21T09:15:23,466 [INFO ] W-9000-model_1.0 TS_METRICS - QueueTime.ms:12436|#Level:Host|#hostname:0c3994fb7e23,timestamp:1671614123\n",
      "\u001b[36m5hpwya6dgy-algo-1-asc7w |\u001b[0m 2022-12-21T09:15:23,466 [INFO ] W-9000-model_1.0 TS_METRICS - WorkerThreadTime.ms:3|#Level:Host|#hostname:0c3994fb7e23,timestamp:1671614123\n",
      "RESULT r.read().decode(): [[-1, 0], [0.0, 0.8032810261564917]]\n"
     ]
    }
   ],
   "source": [
    "import json\n",
    "\n",
    "sagemaker_session = LocalSession()\n",
    "sagemaker_session.config = {instance_type_local: {\"local_code\": True}}\n",
    "\n",
    "sm_client = sagemaker_session.sagemaker_runtime_client\n",
    "response = sm_client.invoke_endpoint(\n",
    "    EndpointName=\"local-endpoint\",\n",
    "    ContentType=\"application/json\",\n",
    "    Body=json.dumps([\"some random text\", \"free speech is important for democracy\"]),\n",
    ")\n",
    "\n",
    "r = response[\"Body\"]\n",
    "print(\"RESULT r.read().decode():\", r.read().decode())"
   ]
  },
  {
   "cell_type": "code",
   "execution_count": 31,
   "metadata": {},
   "outputs": [
    {
     "name": "stderr",
     "output_type": "stream",
     "text": [
      "Exception in thread Thread-8:\n",
      "Traceback (most recent call last):\n",
      "  File \"/home/ec2-user/anaconda3/envs/pytorch_p38/lib/python3.8/site-packages/sagemaker/local/image.py\", line 854, in run\n",
      "    _stream_output(self.process)\n",
      "  File \"/home/ec2-user/anaconda3/envs/pytorch_p38/lib/python3.8/site-packages/sagemaker/local/image.py\", line 916, in _stream_output\n",
      "    raise RuntimeError(\"Process exited with code: %s\" % exit_code)\n",
      "RuntimeError: Process exited with code: 137\n",
      "\n",
      "During handling of the above exception, another exception occurred:\n",
      "\n",
      "Traceback (most recent call last):\n",
      "  File \"/home/ec2-user/anaconda3/envs/pytorch_p38/lib/python3.8/threading.py\", line 932, in _bootstrap_inner\n",
      "    self.run()\n",
      "  File \"/home/ec2-user/anaconda3/envs/pytorch_p38/lib/python3.8/site-packages/sagemaker/local/image.py\", line 859, in run\n",
      "    raise RuntimeError(msg)\n",
      "RuntimeError: Failed to run: ['docker-compose', '-f', '/tmp/tmpi22602l0/docker-compose.yaml', 'up', '--build', '--abort-on-container-exit'], Process exited with code: 137\n"
     ]
    },
    {
     "name": "stdout",
     "output_type": "stream",
     "text": [
      "\u001b[36m5hpwya6dgy-algo-1-asc7w exited with code 137\n",
      "\u001b[0mAborting on container exit...\n",
      "CONTAINER ID   IMAGE                                                                                      COMMAND                  CREATED          STATUS          PORTS                                                 NAMES\n",
      "0c3994fb7e23   497050307998.dkr.ecr.us-east-1.amazonaws.com/pytorch-inference-bert-topic-example:latest   \"python /usr/local/b…\"   27 seconds ago   Up 26 seconds   0.0.0.0:8080->8080/tcp, :::8080->8080/tcp, 8081/tcp   5hpwya6dgy-algo-1-asc7w\n",
      "0c3994fb7e23\n",
      "3f377ab14ae8\n",
      "0c3994fb7e23\n",
      "3f377ab14ae8\n"
     ]
    }
   ],
   "source": [
    "%%sh\n",
    "# check if docker containers are running and kill them if needed\n",
    "docker ps\n",
    "docker stop $(docker ps -a -q)\n",
    "docker rm $(docker ps -a -q)\n"
   ]
  },
  {
   "cell_type": "markdown",
   "metadata": {},
   "source": [
    "### A sleek  alternative to \"Bring your own container\": bring your own requirements.txt\n",
    "\n",
    "Also in this case, instead of extending the pytorch container through a Dockerfile, we can simply import additional libraries to make our model work, if neeed. \n",
    "The process is the same, i.e. adding the requirements.txt inside the same folder as the code will install the required dependencies at runtime. \n",
    "The source directory must be specified in the `source_dir` argument and the entrypointin the `entry_point` argument when creating PyTorch estimator. Further documentation [here](https://sagemaker.readthedocs.io/en/stable/frameworks/pytorch/using_pytorch.html#using-third-party-libraries)\n",
    "\n",
    "*CAVEAT*: Installing libraries on the fly through requirements.txt implies additional overhead. This is negligible in case of \"always on\" single model endpoint deployment, but could have an impact in case of serverless or multi-model deployment. \n"
   ]
  },
  {
   "cell_type": "code",
   "execution_count": 49,
   "metadata": {},
   "outputs": [
    {
     "name": "stdout",
     "output_type": "stream",
     "text": [
      "my_image_uri_inference: 763104351884.dkr.ecr.us-east-1.amazonaws.com/pytorch-inference:1.12.1-gpu-py38-cu113-ubuntu20.04-sagemaker\n"
     ]
    },
    {
     "name": "stderr",
     "output_type": "stream",
     "text": [
      "INFO:sagemaker:Creating model with name: pytorch-inference-2023-03-02-15-57-01-476\n",
      "INFO:sagemaker:Creating endpoint-config with name pytorch-inference-2023-03-02-15-57-01-477\n",
      "INFO:sagemaker:Creating endpoint with name pytorch-inference-2023-03-02-15-57-01-477\n",
      "INFO:sagemaker.local.image:serving\n",
      "INFO:sagemaker.local.image:creating hosting dir in /tmp/tmpcez5lrtf\n",
      "WARNING! Your password will be stored unencrypted in /home/ec2-user/.docker/config.json.\n",
      "Configure a credential helper to remove this warning. See\n",
      "https://docs.docker.com/engine/reference/commandline/login/#credentials-store\n",
      "\n",
      "INFO:sagemaker.local.image:docker command: docker pull 763104351884.dkr.ecr.us-east-1.amazonaws.com/pytorch-inference:1.12.1-gpu-py38-cu113-ubuntu20.04-sagemaker\n"
     ]
    },
    {
     "name": "stdout",
     "output_type": "stream",
     "text": [
      "Login Succeeded\n"
     ]
    },
    {
     "name": "stderr",
     "output_type": "stream",
     "text": [
      "failed to register layer: Error processing tar file(exit status 1): write /opt/conda/lib/python3.8/site-packages/torch/lib/libtorch_cpu.so: no space left on device\n"
     ]
    },
    {
     "ename": "CalledProcessError",
     "evalue": "Command '['docker', 'pull', '763104351884.dkr.ecr.us-east-1.amazonaws.com/pytorch-inference:1.12.1-gpu-py38-cu113-ubuntu20.04-sagemaker']' returned non-zero exit status 1.",
     "output_type": "error",
     "traceback": [
      "\u001b[0;31m---------------------------------------------------------------------------\u001b[0m",
      "\u001b[0;31mCalledProcessError\u001b[0m                        Traceback (most recent call last)",
      "\u001b[0;32m/tmp/ipykernel_18996/2051020517.py\u001b[0m in \u001b[0;36m<cell line: 31>\u001b[0;34m()\u001b[0m\n\u001b[1;32m     29\u001b[0m )\n\u001b[1;32m     30\u001b[0m \u001b[0;34m\u001b[0m\u001b[0m\n\u001b[0;32m---> 31\u001b[0;31m \u001b[0mpredictor\u001b[0m \u001b[0;34m=\u001b[0m \u001b[0mestimator\u001b[0m\u001b[0;34m.\u001b[0m\u001b[0mdeploy\u001b[0m\u001b[0;34m(\u001b[0m\u001b[0;36m1\u001b[0m\u001b[0;34m,\u001b[0m \u001b[0minstance_type_local\u001b[0m\u001b[0;34m)\u001b[0m\u001b[0;34m\u001b[0m\u001b[0;34m\u001b[0m\u001b[0m\n\u001b[0m",
      "\u001b[0;32m~/anaconda3/envs/pytorch_p39/lib/python3.9/site-packages/sagemaker/model.py\u001b[0m in \u001b[0;36mdeploy\u001b[0;34m(self, initial_instance_count, instance_type, serializer, deserializer, accelerator_type, endpoint_name, tags, kms_key, wait, data_capture_config, async_inference_config, serverless_inference_config, volume_size, model_data_download_timeout, container_startup_health_check_timeout, inference_recommendation_id, **kwargs)\u001b[0m\n\u001b[1;32m   1219\u001b[0m             \u001b[0masync_inference_config_dict\u001b[0m \u001b[0;34m=\u001b[0m \u001b[0masync_inference_config\u001b[0m\u001b[0;34m.\u001b[0m\u001b[0m_to_request_dict\u001b[0m\u001b[0;34m(\u001b[0m\u001b[0;34m)\u001b[0m\u001b[0;34m\u001b[0m\u001b[0;34m\u001b[0m\u001b[0m\n\u001b[1;32m   1220\u001b[0m \u001b[0;34m\u001b[0m\u001b[0m\n\u001b[0;32m-> 1221\u001b[0;31m         self.sagemaker_session.endpoint_from_production_variants(\n\u001b[0m\u001b[1;32m   1222\u001b[0m             \u001b[0mname\u001b[0m\u001b[0;34m=\u001b[0m\u001b[0mself\u001b[0m\u001b[0;34m.\u001b[0m\u001b[0mendpoint_name\u001b[0m\u001b[0;34m,\u001b[0m\u001b[0;34m\u001b[0m\u001b[0;34m\u001b[0m\u001b[0m\n\u001b[1;32m   1223\u001b[0m             \u001b[0mproduction_variants\u001b[0m\u001b[0;34m=\u001b[0m\u001b[0;34m[\u001b[0m\u001b[0mproduction_variant\u001b[0m\u001b[0;34m]\u001b[0m\u001b[0;34m,\u001b[0m\u001b[0;34m\u001b[0m\u001b[0;34m\u001b[0m\u001b[0m\n",
      "\u001b[0;32m~/anaconda3/envs/pytorch_p39/lib/python3.9/site-packages/sagemaker/session.py\u001b[0m in \u001b[0;36mendpoint_from_production_variants\u001b[0;34m(self, name, production_variants, tags, kms_key, wait, data_capture_config_dict, async_inference_config_dict)\u001b[0m\n\u001b[1;32m   4000\u001b[0m         \u001b[0mself\u001b[0m\u001b[0;34m.\u001b[0m\u001b[0msagemaker_client\u001b[0m\u001b[0;34m.\u001b[0m\u001b[0mcreate_endpoint_config\u001b[0m\u001b[0;34m(\u001b[0m\u001b[0;34m**\u001b[0m\u001b[0mconfig_options\u001b[0m\u001b[0;34m)\u001b[0m\u001b[0;34m\u001b[0m\u001b[0;34m\u001b[0m\u001b[0m\n\u001b[1;32m   4001\u001b[0m \u001b[0;34m\u001b[0m\u001b[0m\n\u001b[0;32m-> 4002\u001b[0;31m         \u001b[0;32mreturn\u001b[0m \u001b[0mself\u001b[0m\u001b[0;34m.\u001b[0m\u001b[0mcreate_endpoint\u001b[0m\u001b[0;34m(\u001b[0m\u001b[0mendpoint_name\u001b[0m\u001b[0;34m=\u001b[0m\u001b[0mname\u001b[0m\u001b[0;34m,\u001b[0m \u001b[0mconfig_name\u001b[0m\u001b[0;34m=\u001b[0m\u001b[0mname\u001b[0m\u001b[0;34m,\u001b[0m \u001b[0mtags\u001b[0m\u001b[0;34m=\u001b[0m\u001b[0mtags\u001b[0m\u001b[0;34m,\u001b[0m \u001b[0mwait\u001b[0m\u001b[0;34m=\u001b[0m\u001b[0mwait\u001b[0m\u001b[0;34m)\u001b[0m\u001b[0;34m\u001b[0m\u001b[0;34m\u001b[0m\u001b[0m\n\u001b[0m\u001b[1;32m   4003\u001b[0m \u001b[0;34m\u001b[0m\u001b[0m\n\u001b[1;32m   4004\u001b[0m     \u001b[0;32mdef\u001b[0m \u001b[0mexpand_role\u001b[0m\u001b[0;34m(\u001b[0m\u001b[0mself\u001b[0m\u001b[0;34m,\u001b[0m \u001b[0mrole\u001b[0m\u001b[0;34m)\u001b[0m\u001b[0;34m:\u001b[0m\u001b[0;34m\u001b[0m\u001b[0;34m\u001b[0m\u001b[0m\n",
      "\u001b[0;32m~/anaconda3/envs/pytorch_p39/lib/python3.9/site-packages/sagemaker/session.py\u001b[0m in \u001b[0;36mcreate_endpoint\u001b[0;34m(self, endpoint_name, config_name, tags, wait)\u001b[0m\n\u001b[1;32m   3470\u001b[0m         \u001b[0mtags\u001b[0m \u001b[0;34m=\u001b[0m \u001b[0m_append_project_tags\u001b[0m\u001b[0;34m(\u001b[0m\u001b[0mtags\u001b[0m\u001b[0;34m)\u001b[0m\u001b[0;34m\u001b[0m\u001b[0;34m\u001b[0m\u001b[0m\n\u001b[1;32m   3471\u001b[0m \u001b[0;34m\u001b[0m\u001b[0m\n\u001b[0;32m-> 3472\u001b[0;31m         self.sagemaker_client.create_endpoint(\n\u001b[0m\u001b[1;32m   3473\u001b[0m             \u001b[0mEndpointName\u001b[0m\u001b[0;34m=\u001b[0m\u001b[0mendpoint_name\u001b[0m\u001b[0;34m,\u001b[0m \u001b[0mEndpointConfigName\u001b[0m\u001b[0;34m=\u001b[0m\u001b[0mconfig_name\u001b[0m\u001b[0;34m,\u001b[0m \u001b[0mTags\u001b[0m\u001b[0;34m=\u001b[0m\u001b[0mtags\u001b[0m\u001b[0;34m\u001b[0m\u001b[0;34m\u001b[0m\u001b[0m\n\u001b[1;32m   3474\u001b[0m         )\n",
      "\u001b[0;32m~/anaconda3/envs/pytorch_p39/lib/python3.9/site-packages/sagemaker/local/local_session.py\u001b[0m in \u001b[0;36mcreate_endpoint\u001b[0;34m(self, EndpointName, EndpointConfigName, Tags)\u001b[0m\n\u001b[1;32m    356\u001b[0m         \u001b[0mendpoint\u001b[0m \u001b[0;34m=\u001b[0m \u001b[0m_LocalEndpoint\u001b[0m\u001b[0;34m(\u001b[0m\u001b[0mEndpointName\u001b[0m\u001b[0;34m,\u001b[0m \u001b[0mEndpointConfigName\u001b[0m\u001b[0;34m,\u001b[0m \u001b[0mTags\u001b[0m\u001b[0;34m,\u001b[0m \u001b[0mself\u001b[0m\u001b[0;34m.\u001b[0m\u001b[0msagemaker_session\u001b[0m\u001b[0;34m)\u001b[0m\u001b[0;34m\u001b[0m\u001b[0;34m\u001b[0m\u001b[0m\n\u001b[1;32m    357\u001b[0m         \u001b[0mLocalSagemakerClient\u001b[0m\u001b[0;34m.\u001b[0m\u001b[0m_endpoints\u001b[0m\u001b[0;34m[\u001b[0m\u001b[0mEndpointName\u001b[0m\u001b[0;34m]\u001b[0m \u001b[0;34m=\u001b[0m \u001b[0mendpoint\u001b[0m\u001b[0;34m\u001b[0m\u001b[0;34m\u001b[0m\u001b[0m\n\u001b[0;32m--> 358\u001b[0;31m         \u001b[0mendpoint\u001b[0m\u001b[0;34m.\u001b[0m\u001b[0mserve\u001b[0m\u001b[0;34m(\u001b[0m\u001b[0;34m)\u001b[0m\u001b[0;34m\u001b[0m\u001b[0;34m\u001b[0m\u001b[0m\n\u001b[0m\u001b[1;32m    359\u001b[0m \u001b[0;34m\u001b[0m\u001b[0m\n\u001b[1;32m    360\u001b[0m     \u001b[0;32mdef\u001b[0m \u001b[0mupdate_endpoint\u001b[0m\u001b[0;34m(\u001b[0m\u001b[0mself\u001b[0m\u001b[0;34m,\u001b[0m \u001b[0mEndpointName\u001b[0m\u001b[0;34m,\u001b[0m \u001b[0mEndpointConfigName\u001b[0m\u001b[0;34m)\u001b[0m\u001b[0;34m:\u001b[0m  \u001b[0;31m# pylint: disable=unused-argument\u001b[0m\u001b[0;34m\u001b[0m\u001b[0;34m\u001b[0m\u001b[0m\n",
      "\u001b[0;32m~/anaconda3/envs/pytorch_p39/lib/python3.9/site-packages/sagemaker/local/entities.py\u001b[0m in \u001b[0;36mserve\u001b[0;34m(self)\u001b[0m\n\u001b[1;32m    601\u001b[0m             \u001b[0minstance_type\u001b[0m\u001b[0;34m,\u001b[0m \u001b[0minstance_count\u001b[0m\u001b[0;34m,\u001b[0m \u001b[0mimage\u001b[0m\u001b[0;34m,\u001b[0m \u001b[0mself\u001b[0m\u001b[0;34m.\u001b[0m\u001b[0mlocal_session\u001b[0m\u001b[0;34m\u001b[0m\u001b[0;34m\u001b[0m\u001b[0m\n\u001b[1;32m    602\u001b[0m         )\n\u001b[0;32m--> 603\u001b[0;31m         self.container.serve(\n\u001b[0m\u001b[1;32m    604\u001b[0m             \u001b[0mself\u001b[0m\u001b[0;34m.\u001b[0m\u001b[0mprimary_container\u001b[0m\u001b[0;34m[\u001b[0m\u001b[0;34m\"ModelDataUrl\"\u001b[0m\u001b[0;34m]\u001b[0m\u001b[0;34m,\u001b[0m \u001b[0mself\u001b[0m\u001b[0;34m.\u001b[0m\u001b[0mprimary_container\u001b[0m\u001b[0;34m[\u001b[0m\u001b[0;34m\"Environment\"\u001b[0m\u001b[0;34m]\u001b[0m\u001b[0;34m\u001b[0m\u001b[0;34m\u001b[0m\u001b[0m\n\u001b[1;32m    605\u001b[0m         )\n",
      "\u001b[0;32m~/anaconda3/envs/pytorch_p39/lib/python3.9/site-packages/sagemaker/local/image.py\u001b[0m in \u001b[0;36mserve\u001b[0;34m(self, model_dir, environment)\u001b[0m\n\u001b[1;32m    295\u001b[0m \u001b[0;34m\u001b[0m\u001b[0m\n\u001b[1;32m    296\u001b[0m         \u001b[0;32mif\u001b[0m \u001b[0m_ecr_login_if_needed\u001b[0m\u001b[0;34m(\u001b[0m\u001b[0mself\u001b[0m\u001b[0;34m.\u001b[0m\u001b[0msagemaker_session\u001b[0m\u001b[0;34m.\u001b[0m\u001b[0mboto_session\u001b[0m\u001b[0;34m,\u001b[0m \u001b[0mself\u001b[0m\u001b[0;34m.\u001b[0m\u001b[0mimage\u001b[0m\u001b[0;34m)\u001b[0m\u001b[0;34m:\u001b[0m\u001b[0;34m\u001b[0m\u001b[0;34m\u001b[0m\u001b[0m\n\u001b[0;32m--> 297\u001b[0;31m             \u001b[0m_pull_image\u001b[0m\u001b[0;34m(\u001b[0m\u001b[0mself\u001b[0m\u001b[0;34m.\u001b[0m\u001b[0mimage\u001b[0m\u001b[0;34m)\u001b[0m\u001b[0;34m\u001b[0m\u001b[0;34m\u001b[0m\u001b[0m\n\u001b[0m\u001b[1;32m    298\u001b[0m \u001b[0;34m\u001b[0m\u001b[0m\n\u001b[1;32m    299\u001b[0m         self._generate_compose_file(\n",
      "\u001b[0;32m~/anaconda3/envs/pytorch_p39/lib/python3.9/site-packages/sagemaker/local/image.py\u001b[0m in \u001b[0;36m_pull_image\u001b[0;34m(image)\u001b[0m\n\u001b[1;32m   1117\u001b[0m     \u001b[0mlogger\u001b[0m\u001b[0;34m.\u001b[0m\u001b[0minfo\u001b[0m\u001b[0;34m(\u001b[0m\u001b[0;34m\"docker command: %s\"\u001b[0m\u001b[0;34m,\u001b[0m \u001b[0mpull_image_command\u001b[0m\u001b[0;34m)\u001b[0m\u001b[0;34m\u001b[0m\u001b[0;34m\u001b[0m\u001b[0m\n\u001b[1;32m   1118\u001b[0m \u001b[0;34m\u001b[0m\u001b[0m\n\u001b[0;32m-> 1119\u001b[0;31m     \u001b[0msubprocess\u001b[0m\u001b[0;34m.\u001b[0m\u001b[0mcheck_output\u001b[0m\u001b[0;34m(\u001b[0m\u001b[0mpull_image_command\u001b[0m\u001b[0;34m.\u001b[0m\u001b[0msplit\u001b[0m\u001b[0;34m(\u001b[0m\u001b[0;34m)\u001b[0m\u001b[0;34m)\u001b[0m\u001b[0;34m\u001b[0m\u001b[0;34m\u001b[0m\u001b[0m\n\u001b[0m\u001b[1;32m   1120\u001b[0m     \u001b[0mlogger\u001b[0m\u001b[0;34m.\u001b[0m\u001b[0minfo\u001b[0m\u001b[0;34m(\u001b[0m\u001b[0;34m\"image pulled: %s\"\u001b[0m\u001b[0;34m,\u001b[0m \u001b[0mimage\u001b[0m\u001b[0;34m)\u001b[0m\u001b[0;34m\u001b[0m\u001b[0;34m\u001b[0m\u001b[0m\n",
      "\u001b[0;32m~/anaconda3/envs/pytorch_p39/lib/python3.9/subprocess.py\u001b[0m in \u001b[0;36mcheck_output\u001b[0;34m(timeout, *popenargs, **kwargs)\u001b[0m\n\u001b[1;32m    422\u001b[0m         \u001b[0mkwargs\u001b[0m\u001b[0;34m[\u001b[0m\u001b[0;34m'input'\u001b[0m\u001b[0;34m]\u001b[0m \u001b[0;34m=\u001b[0m \u001b[0mempty\u001b[0m\u001b[0;34m\u001b[0m\u001b[0;34m\u001b[0m\u001b[0m\n\u001b[1;32m    423\u001b[0m \u001b[0;34m\u001b[0m\u001b[0m\n\u001b[0;32m--> 424\u001b[0;31m     return run(*popenargs, stdout=PIPE, timeout=timeout, check=True,\n\u001b[0m\u001b[1;32m    425\u001b[0m                **kwargs).stdout\n\u001b[1;32m    426\u001b[0m \u001b[0;34m\u001b[0m\u001b[0m\n",
      "\u001b[0;32m~/anaconda3/envs/pytorch_p39/lib/python3.9/subprocess.py\u001b[0m in \u001b[0;36mrun\u001b[0;34m(input, capture_output, timeout, check, *popenargs, **kwargs)\u001b[0m\n\u001b[1;32m    526\u001b[0m         \u001b[0mretcode\u001b[0m \u001b[0;34m=\u001b[0m \u001b[0mprocess\u001b[0m\u001b[0;34m.\u001b[0m\u001b[0mpoll\u001b[0m\u001b[0;34m(\u001b[0m\u001b[0;34m)\u001b[0m\u001b[0;34m\u001b[0m\u001b[0;34m\u001b[0m\u001b[0m\n\u001b[1;32m    527\u001b[0m         \u001b[0;32mif\u001b[0m \u001b[0mcheck\u001b[0m \u001b[0;32mand\u001b[0m \u001b[0mretcode\u001b[0m\u001b[0;34m:\u001b[0m\u001b[0;34m\u001b[0m\u001b[0;34m\u001b[0m\u001b[0m\n\u001b[0;32m--> 528\u001b[0;31m             raise CalledProcessError(retcode, process.args,\n\u001b[0m\u001b[1;32m    529\u001b[0m                                      output=stdout, stderr=stderr)\n\u001b[1;32m    530\u001b[0m     \u001b[0;32mreturn\u001b[0m \u001b[0mCompletedProcess\u001b[0m\u001b[0;34m(\u001b[0m\u001b[0mprocess\u001b[0m\u001b[0;34m.\u001b[0m\u001b[0margs\u001b[0m\u001b[0;34m,\u001b[0m \u001b[0mretcode\u001b[0m\u001b[0;34m,\u001b[0m \u001b[0mstdout\u001b[0m\u001b[0;34m,\u001b[0m \u001b[0mstderr\u001b[0m\u001b[0;34m)\u001b[0m\u001b[0;34m\u001b[0m\u001b[0;34m\u001b[0m\u001b[0m\n",
      "\u001b[0;31mCalledProcessError\u001b[0m: Command '['docker', 'pull', '763104351884.dkr.ecr.us-east-1.amazonaws.com/pytorch-inference:1.12.1-gpu-py38-cu113-ubuntu20.04-sagemaker']' returned non-zero exit status 1."
     ]
    }
   ],
   "source": [
    "import boto3\n",
    "my_session = boto3.session.Session()\n",
    "my_region = my_session.region_name\n",
    "my_image_uri_inference =  \"763104351884.dkr.ecr.\"+my_region+\".amazonaws.com/pytorch-inference:1.12.1-gpu-py38-cu113-ubuntu20.04-sagemaker\"\n",
    "print(\"my_image_uri_inference:\",my_image_uri_inference)\n",
    "from sagemaker.estimator import Estimator\n",
    "\n",
    "# define hyperparameters\n",
    "hyperparameters = {\"language\": \"english\"}\n",
    "\n",
    "estimator = Model(\n",
    "    image_uri=my_image_uri_inference,\n",
    "    model_data=model_data,\n",
    "    role=role,\n",
    "    source_dir=\"container/bert-topic-byoreq\",  # this directory contains the entrypoint code and the requirements.txt\n",
    "    entry_point=\"bert-topic-inference.py\",  # this argument is used to override internal container entrypoint, if needed!\n",
    "    sagemaker_session=session_local,  # local session\n",
    "    #                   predictor_cls=None,\n",
    "    #                   env=None,\n",
    "    #                   name=None,\n",
    "    #                   vpc_config=None,\n",
    "    #                   enable_network_isolation=False,\n",
    "    #                   model_kms_key=None,\n",
    "    #                   image_config=None,\n",
    "    #                   code_location=None,\n",
    "    #                   container_log_level=20,\n",
    "    #                   dependencies=None,\n",
    "    #                   git_config=None\n",
    ")\n",
    "\n",
    "predictor = estimator.deploy(1, instance_type_local)\n"
   ]
  },
  {
   "cell_type": "markdown",
   "metadata": {},
   "source": [
    "### Invoke locally deployed endpoint"
   ]
  },
  {
   "cell_type": "code",
   "execution_count": 30,
   "metadata": {},
   "outputs": [
    {
     "name": "stdout",
     "output_type": "stream",
     "text": [
      "\u001b[36m5hpwya6dgy-algo-1-asc7w |\u001b[0m 2022-12-21T09:15:12,763 [INFO ] W-9000-model_1.0-stdout MODEL_LOG - inside model_fn, model_dir= /opt/ml/model\n",
      "\u001b[36m5hpwya6dgy-algo-1-asc7w |\u001b[0m 2022-12-21T09:15:12,786 [INFO ] W-9000-model_1.0-stdout MODEL_LOG - Device Type: cuda\n",
      "\u001b[36m5hpwya6dgy-algo-1-asc7w |\u001b[0m 2022-12-21T09:15:12,901 [INFO ] W-9000-model_1.0-stdout MODEL_LOG - [2022-12-21 09:15:12.901 0c3994fb7e23:53 INFO utils.py:27] RULE_JOB_STOP_SIGNAL_FILENAME: None\n",
      "\u001b[36m5hpwya6dgy-algo-1-asc7w |\u001b[0m 2022-12-21T09:15:12,937 [INFO ] W-9000-model_1.0-stdout MODEL_LOG - [2022-12-21 09:15:12.937 0c3994fb7e23:53 INFO profiler_config_parser.py:111] Unable to find config at /opt/ml/input/config/profilerconfig.json. Profiler is disabled.\n",
      "\u001b[36m5hpwya6dgy-algo-1-asc7w |\u001b[0m 2022-12-21T09:15:13,314 [INFO ] W-9000-model_1.0 org.pytorch.serve.wlm.WorkerThread - Backend response time: 12716\n",
      "\u001b[36m5hpwya6dgy-algo-1-asc7w |\u001b[0m 2022-12-21T09:15:13,315 [INFO ] W-9000-model_1.0 TS_METRICS - W-9000-model_1.0.ms:13691|#Level:Host|#hostname:0c3994fb7e23,timestamp:1671614113\n",
      "\u001b[36m5hpwya6dgy-algo-1-asc7w |\u001b[0m 2022-12-21T09:15:13,316 [INFO ] W-9000-model_1.0 TS_METRICS - WorkerThreadTime.ms:39|#Level:Host|#hostname:0c3994fb7e23,timestamp:1671614113\n",
      "\u001b[36m5hpwya6dgy-algo-1-asc7w |\u001b[0m 2022-12-21T09:15:13,317 [INFO ] W-9000-model_1.0 org.pytorch.serve.wlm.WorkerThread - Flushing req. to backend at: 1671614113317\n",
      "\u001b[36m5hpwya6dgy-algo-1-asc7w |\u001b[0m 2022-12-21T09:15:13,318 [INFO ] W-9000-model_1.0-stdout MODEL_LOG - Backend received inference at: 1671614113\n",
      "\u001b[36m5hpwya6dgy-algo-1-asc7w |\u001b[0m 2022-12-21T09:15:13,319 [INFO ] W-9000-model_1.0-stdout MODEL_LOG - serialized_input_data object: [\"some random text\", \"free speech is important for democracy\"]\n",
      "\u001b[36m5hpwya6dgy-algo-1-asc7w |\u001b[0m 2022-12-21T09:15:13,319 [INFO ] W-9000-model_1.0-stdout MODEL_LOG - input_data object: ['some random text', 'free speech is important for democracy']\n",
      "\u001b[36m5hpwya6dgy-algo-1-asc7w |\u001b[0m 2022-12-21T09:15:13,320 [INFO ] W-9000-model_1.0-stdout MODEL_LOG - Got input Data: ['some random text', 'free speech is important for democracy']\n",
      "\u001b[36m5hpwya6dgy-algo-1-asc7w |\u001b[0m 2022-12-21T09:15:15,086 [INFO ] W-9000-model_1.0-stdout MODEL_LOG - [2022-12-21 09:15:15.086 0c3994fb7e23:53 ERROR error_handling_agent.py:116] SMDebug error has occurred, disabling SMDebug for the rest of the training job. Stack trace:\n",
      "\u001b[36m5hpwya6dgy-algo-1-asc7w |\u001b[0m 2022-12-21T09:15:15,087 [INFO ] W-9000-model_1.0-stdout MODEL_LOG - [2022-12-21 09:15:15.086 0c3994fb7e23:53 ERROR error_handling_agent.py:117] 'Hook' object has no attribute 'writer'\n",
      "\u001b[36m5hpwya6dgy-algo-1-asc7w |\u001b[0m 2022-12-21T09:15:15,087 [INFO ] W-9000-model_1.0-stdout MODEL_LOG - Traceback (most recent call last):\n",
      "\u001b[36m5hpwya6dgy-algo-1-asc7w |\u001b[0m 2022-12-21T09:15:15,088 [INFO ] W-9000-model_1.0-stdout MODEL_LOG -   File \"/opt/conda/lib/python3.8/site-packages/smdebug/core/error_handling_agent.py\", line 110, in error_handling_agent\n",
      "\u001b[36m5hpwya6dgy-algo-1-asc7w |\u001b[0m 2022-12-21T09:15:15,088 [INFO ] W-9000-model_1.0-stdout MODEL_LOG -     return func(*args, **kwargs)\n",
      "\u001b[36m5hpwya6dgy-algo-1-asc7w |\u001b[0m 2022-12-21T09:15:15,088 [INFO ] W-9000-model_1.0-stdout MODEL_LOG -   File \"/opt/conda/lib/python3.8/site-packages/smdebug/pytorch/hook.py\", line 319, in forward_pre_hook\n",
      "\u001b[36m5hpwya6dgy-algo-1-asc7w |\u001b[0m 2022-12-21T09:15:15,089 [INFO ] W-9000-model_1.0-stdout MODEL_LOG -     if self.writer is not None:\n",
      "\u001b[36m5hpwya6dgy-algo-1-asc7w |\u001b[0m 2022-12-21T09:15:15,089 [INFO ] W-9000-model_1.0-stdout MODEL_LOG - AttributeError: 'Hook' object has no attribute 'writer'\n",
      "\u001b[36m5hpwya6dgy-algo-1-asc7w |\u001b[0m 2022-12-21T09:15:23,461 [INFO ] W-9000-model_1.0-stdout MODEL_LOG - prediction object before: ([-1, 0], array([0.        , 0.80328103])), type: <class 'tuple'>\n",
      "\u001b[36m5hpwya6dgy-algo-1-asc7w |\u001b[0m 2022-12-21T09:15:23,462 [INFO ] W-9000-model_1.0-stdout MODEL_LOG - prediction object after: [[-1, 0], array([0.        , 0.80328103])], type: <class 'list'>\n",
      "\u001b[36m5hpwya6dgy-algo-1-asc7w |\u001b[0m 2022-12-21T09:15:23,462 [INFO ] W-9000-model_1.0-stdout MODEL_LOG - prediction[0] object after: [-1, 0], type: <class 'list'>\n",
      "\u001b[36m5hpwya6dgy-algo-1-asc7w |\u001b[0m 2022-12-21T09:15:23,463 [INFO ] W-9000-model_1.0-stdout MODEL_LOG - prediction[1] object after: [-1, 0], type: <class 'list'>\n",
      "\u001b[36m5hpwya6dgy-algo-1-asc7w |\u001b[0m 2022-12-21T09:15:23,463 [INFO ] W-9000-model_1.0-stdout MODEL_LOG - prediction_result object: [[-1, 0], [0.0, 0.8032810261564917]]\n",
      "\u001b[36m5hpwya6dgy-algo-1-asc7w |\u001b[0m 2022-12-21T09:15:23,464 [INFO ] W-9000-model_1.0 org.pytorch.serve.wlm.WorkerThread - Backend response time: 10146\n",
      "\u001b[36m5hpwya6dgy-algo-1-asc7w |\u001b[0m 2022-12-21T09:15:23,464 [INFO ] W-9000-model_1.0-stdout MODEL_METRICS - PredictionTime.Milliseconds:10143.27|#ModelName:model,Level:Model|#hostname:0c3994fb7e23,requestID:f6c77c65-b8e6-4d83-ac9a-d87a0eb7d9f6,timestamp:1671614123\n",
      "\u001b[36m5hpwya6dgy-algo-1-asc7w |\u001b[0m 2022-12-21T09:15:23,464 [INFO ] W-9000-model_1.0 ACCESS_LOG - /172.18.0.1:33284 \"POST /invocations HTTP/1.1\" 200 22591\n",
      "\u001b[36m5hpwya6dgy-algo-1-asc7w |\u001b[0m 2022-12-21T09:15:23,465 [INFO ] W-9000-model_1.0 TS_METRICS - Requests2XX.Count:1|#Level:Host|#hostname:0c3994fb7e23,timestamp:1671614100\n",
      "\u001b[36m5hpwya6dgy-algo-1-asc7w |\u001b[0m 2022-12-21T09:15:23,466 [INFO ] W-9000-model_1.0 TS_METRICS - QueueTime.ms:12436|#Level:Host|#hostname:0c3994fb7e23,timestamp:1671614123\n",
      "\u001b[36m5hpwya6dgy-algo-1-asc7w |\u001b[0m 2022-12-21T09:15:23,466 [INFO ] W-9000-model_1.0 TS_METRICS - WorkerThreadTime.ms:3|#Level:Host|#hostname:0c3994fb7e23,timestamp:1671614123\n",
      "RESULT r.read().decode(): [[-1, 0], [0.0, 0.8032810261564917]]\n"
     ]
    }
   ],
   "source": [
    "import json\n",
    "\n",
    "sagemaker_session = LocalSession()\n",
    "sagemaker_session.config = {instance_type_local: {\"local_code\": True}}\n",
    "\n",
    "sm_client = sagemaker_session.sagemaker_runtime_client\n",
    "response = sm_client.invoke_endpoint(\n",
    "    EndpointName=\"local-endpoint\",\n",
    "    ContentType=\"application/json\",\n",
    "    Body=json.dumps([\"some random text\", \"free speech is important for democracy\"]),\n",
    ")\n",
    "\n",
    "r = response[\"Body\"]\n",
    "print(\"RESULT r.read().decode():\", r.read().decode())"
   ]
  },
  {
   "cell_type": "markdown",
   "metadata": {},
   "source": [
    "### Deploy container remotely to create a managed Amazon SageMaker endpoint"
   ]
  },
  {
   "cell_type": "code",
   "execution_count": 46,
   "metadata": {},
   "outputs": [
    {
     "name": "stdout",
     "output_type": "stream",
     "text": [
      "---------------!"
     ]
    }
   ],
   "source": [
    "from sagemaker import Model\n",
    "\n",
    "import sagemaker as sage\n",
    "\n",
    "sess = sage.Session()\n",
    "\n",
    "# instance_type = \"ml.m5.xlarge\" # no GPU, will trigger an error\n",
    "# instance_type = \"ml.g4dn.xlarge\"\n",
    "instance_type = \"ml.p2.xlarge\"\n",
    "model_data = estimator.model_data\n",
    "\n",
    "estimator = Model(\n",
    "    image_uri=image_uri_inference,\n",
    "    model_data=model_data,\n",
    "    role=role,\n",
    "    source_dir=\"container/bert-topic\",\n",
    "    entry_point=\"bert-topic-inference.py\",\n",
    "    sagemaker_session=sess,  # not local session anymore\n",
    "    #                   predictor_cls=None,\n",
    "    #                   env=None,\n",
    "    name=\"my-BERTopic-test-endpoint\",\n",
    "    #                   vpc_config=None,\n",
    "    #                   enable_network_isolation=False,\n",
    "    #                   model_kms_key=None,\n",
    "    #                   image_config=None,\n",
    "    #                   code_location=None,\n",
    "    #                   container_log_level=20,\n",
    "    #                   dependencies=None,\n",
    "    #                   git_config=None\n",
    ")\n",
    "\n",
    "# deploy the model\n",
    "predictor = estimator.deploy(1, instance_type)"
   ]
  },
  {
   "cell_type": "markdown",
   "metadata": {},
   "source": [
    "Manually check the deployed endpoint name, it will have a name similar to \n",
    "- pytorch-inference-bert-topic-example-2022-12-07-16-23-40-112"
   ]
  },
  {
   "cell_type": "markdown",
   "metadata": {},
   "source": [
    "### Invoke remotely deployed endpoint"
   ]
  },
  {
   "cell_type": "code",
   "execution_count": 52,
   "metadata": {},
   "outputs": [
    {
     "name": "stdout",
     "output_type": "stream",
     "text": [
      "RESULT r.read().decode(): [[0, 0], [0.772705707141109, 0.8011079049820548]]\n"
     ]
    }
   ],
   "source": [
    "sm_client = sess.sagemaker_runtime_client\n",
    "endpoint_name = \"pytorch-inference-bert-topic-example-2022-12-21-10-12-52-914\"\n",
    "response = sm_client.invoke_endpoint(\n",
    "    EndpointName=endpoint_name,\n",
    "    ContentType=\"application/json\",\n",
    "    Body=json.dumps([\"some random text\", \"free speech is important for democracy\"]),\n",
    ")\n",
    "\n",
    "r = response[\"Body\"]\n",
    "print(\"RESULT r.read().decode():\", r.read().decode())"
   ]
  },
  {
   "cell_type": "markdown",
   "metadata": {},
   "source": [
    "### Optional cleanup of the create endpoint\n",
    "The created endpoint can be deleted manually.\n",
    "\n",
    "This part represent the end of the notebook."
   ]
  },
  {
   "cell_type": "markdown",
   "metadata": {},
   "source": [
    "## Reference\n",
    "- [How Amazon SageMaker interacts with your Docker container for training](https://docs.aws.amazon.com/sagemaker/latest/dg/your-algorithms-training-algo.html)\n",
    "- [How Amazon SageMaker interacts with your Docker container for inference](https://docs.aws.amazon.com/sagemaker/latest/dg/your-algorithms-inference-code.html)\n",
    "- [BERTtopic model](https://maartengr.github.io/BERTopic/index.html)\n",
    "- [20newsgroups dataset](http://qwone.com/~jason/20Newsgroups/)\n",
    "- [SageMaker Python SDK](https://github.com/aws/sagemaker-python-sdk)\n",
    "- [Dockerfile](https://docs.docker.com/engine/reference/builder/)\n",
    "- [scikit-bring-your-own](https://github.com/awslabs/amazon-sagemaker-examples/blob/master/advanced_functionality/scikit_bring_your_own/scikit_bring_your_own.ipynb)\n",
    "- [SageMaker PyTorch container](https://github.com/aws/sagemaker-pytorch-container)\n",
    "\n"
   ]
  },
  {
   "cell_type": "code",
   "execution_count": null,
   "metadata": {},
   "outputs": [],
   "source": []
  }
 ],
 "metadata": {
  "kernelspec": {
   "display_name": "conda_pytorch_p39",
   "language": "python",
   "name": "conda_pytorch_p39"
  },
  "language_info": {
   "codemirror_mode": {
    "name": "ipython",
    "version": 3
   },
   "file_extension": ".py",
   "mimetype": "text/x-python",
   "name": "python",
   "nbconvert_exporter": "python",
   "pygments_lexer": "ipython3",
   "version": "3.9.15"
  }
 },
 "nbformat": 4,
 "nbformat_minor": 4
}
